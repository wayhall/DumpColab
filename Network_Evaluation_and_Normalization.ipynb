{
  "cells": [
    {
      "cell_type": "markdown",
      "metadata": {
        "id": "view-in-github",
        "colab_type": "text"
      },
      "source": [
        "<a href=\"https://colab.research.google.com/github/wayhall/DumpColab/blob/main/Network_Evaluation_and_Normalization.ipynb\" target=\"_parent\"><img src=\"https://colab.research.google.com/assets/colab-badge.svg\" alt=\"Open In Colab\"/></a>"
      ]
    },
    {
      "cell_type": "markdown",
      "metadata": {
        "id": "FxTXQ-Dl10Pl"
      },
      "source": [
        "# Evaluation of Neural Networks"
      ]
    },
    {
      "cell_type": "markdown",
      "metadata": {
        "id": "-dBqBCHB10Po"
      },
      "source": [
        "## Learning Objectives\n",
        "\n",
        "- use `keras` to code up a neural network model;\n",
        "- use wrappers inside `keras` to make models that can jibe with `sklearn`;\n",
        "- scale input data via normalization to promote faster training convergence."
      ]
    },
    {
      "cell_type": "markdown",
      "metadata": {
        "id": "SsAuFAl2Gzk-"
      },
      "source": [
        "## Architecting a [Sequential Model](https://www.tensorflow.org/guide/keras/sequential_model)\n",
        "\n",
        "### Setup\n",
        "```\n",
        "import tensorflow as tf\n",
        "from tensorflow import keras\n",
        "from tensorflow.keras import layers\n",
        "```\n",
        "\n",
        "### When to Use a Sequential Model\n",
        "\n",
        "A `Sequential` model is appropriate for **a plain stack of layers** where each layer has **exactly one input tensor and one output tensor**.\n",
        "\n",
        "Schematically, this `Sequential` model:\n",
        "```\n",
        "# Define Sequential model with 3 layers\n",
        "model = keras.Sequential(\n",
        "    [\n",
        "        layers.Dense(2, activation=\"relu\", name=\"layer1\"),\n",
        "        layers.Dense(3, activation=\"relu\", name=\"layer2\"),\n",
        "        layers.Dense(4, name=\"layer3\"),\n",
        "    ]\n",
        ")\n",
        "# Call model on a test input\n",
        "x = tf.ones((3, 3))\n",
        "y = model(x)\n",
        "\n",
        "```\n",
        "\n",
        "...is equivalent to this function:\n",
        "```\n",
        "# Create 3 layers\n",
        "layer1 = layers.Dense(2, activation=\"relu\", name=\"layer1\")\n",
        "layer2 = layers.Dense(3, activation=\"relu\", name=\"layer2\")\n",
        "layer3 = layers.Dense(4, name=\"layer3\")\n",
        "\n",
        "# Call layers on a test input\n",
        "x = tf.ones((3, 3))\n",
        "y = layer3(layer2(layer1(x)))\n",
        "```\n",
        "\n",
        "A Sequential model is **not** appropriate when:\n",
        "\n",
        "- Your model has multiple inputs or multiple outputs\n",
        "- Any of your layers has multiple inputs or multiple outputs\n",
        "- You need to do layer sharing\n",
        "- You want non-linear topology (e.g. a residual connection, a multi-branch model)"
      ]
    },
    {
      "cell_type": "code",
      "execution_count": 1,
      "metadata": {
        "id": "f1ThMEbBLKLF"
      },
      "outputs": [],
      "source": [
        "import tensorflow as tf\n",
        "from tensorflow import keras\n",
        "from tensorflow.keras import layers\n",
        "\n",
        "model = keras.Sequential()\n",
        "model.add(layers.Dense(2, activation=\"relu\"))\n",
        "model.add(layers.Dense(3, activation=\"relu\"))\n",
        "model.add(layers.Dense(4))"
      ]
    },
    {
      "cell_type": "code",
      "execution_count": 2,
      "metadata": {
        "colab": {
          "base_uri": "https://localhost:8080/"
        },
        "id": "YpLgG5f8LVuY",
        "outputId": "98417b6c-43e0-4e5c-9316-8fa13b4ff8ee"
      },
      "outputs": [
        {
          "output_type": "execute_result",
          "data": {
            "text/plain": [
              "[<keras.layers.core.dense.Dense at 0x7ffb14d85280>,\n",
              " <keras.layers.core.dense.Dense at 0x7ffb14d85250>,\n",
              " <keras.layers.core.dense.Dense at 0x7ffb14d852b0>]"
            ]
          },
          "metadata": {},
          "execution_count": 2
        }
      ],
      "source": [
        "model.layers"
      ]
    },
    {
      "cell_type": "markdown",
      "metadata": {
        "id": "6ivjtoc2NdNg"
      },
      "source": [
        "Generally, all layers in Keras need to know the shape of their inputs in order to be able to create their weights. So when you create a layer like this, initially, it has no weights:"
      ]
    },
    {
      "cell_type": "code",
      "execution_count": 3,
      "metadata": {
        "id": "wDiBSrZ8NULx",
        "outputId": "1dfd8b7b-80ad-47ef-932e-8207c4efcbb9",
        "colab": {
          "base_uri": "https://localhost:8080/",
          "height": 346
        }
      },
      "outputs": [
        {
          "output_type": "error",
          "ename": "ValueError",
          "evalue": "ignored",
          "traceback": [
            "\u001b[0;31m---------------------------------------------------------------------------\u001b[0m",
            "\u001b[0;31mValueError\u001b[0m                                Traceback (most recent call last)",
            "\u001b[0;32m<ipython-input-3-5810b6e5515e>\u001b[0m in \u001b[0;36m<module>\u001b[0;34m\u001b[0m\n\u001b[1;32m      1\u001b[0m \u001b[0;31m# This will throw an error\u001b[0m\u001b[0;34m\u001b[0m\u001b[0;34m\u001b[0m\u001b[0;34m\u001b[0m\u001b[0m\n\u001b[1;32m      2\u001b[0m \u001b[0;34m\u001b[0m\u001b[0m\n\u001b[0;32m----> 3\u001b[0;31m \u001b[0mmodel\u001b[0m\u001b[0;34m.\u001b[0m\u001b[0mweights\u001b[0m\u001b[0;34m\u001b[0m\u001b[0;34m\u001b[0m\u001b[0m\n\u001b[0m",
            "\u001b[0;32m/usr/local/lib/python3.8/dist-packages/keras/engine/training.py\u001b[0m in \u001b[0;36mweights\u001b[0;34m(self)\u001b[0m\n\u001b[1;32m   2827\u001b[0m       \u001b[0mA\u001b[0m \u001b[0mlist\u001b[0m \u001b[0mof\u001b[0m \u001b[0mvariables\u001b[0m\u001b[0;34m.\u001b[0m\u001b[0;34m\u001b[0m\u001b[0;34m\u001b[0m\u001b[0m\n\u001b[1;32m   2828\u001b[0m     \"\"\"\n\u001b[0;32m-> 2829\u001b[0;31m     \u001b[0;32mreturn\u001b[0m \u001b[0mself\u001b[0m\u001b[0;34m.\u001b[0m\u001b[0m_dedup_weights\u001b[0m\u001b[0;34m(\u001b[0m\u001b[0mself\u001b[0m\u001b[0;34m.\u001b[0m\u001b[0m_undeduplicated_weights\u001b[0m\u001b[0;34m)\u001b[0m\u001b[0;34m\u001b[0m\u001b[0;34m\u001b[0m\u001b[0m\n\u001b[0m\u001b[1;32m   2830\u001b[0m \u001b[0;34m\u001b[0m\u001b[0m\n\u001b[1;32m   2831\u001b[0m   \u001b[0;34m@\u001b[0m\u001b[0mproperty\u001b[0m\u001b[0;34m\u001b[0m\u001b[0;34m\u001b[0m\u001b[0m\n",
            "\u001b[0;32m/usr/local/lib/python3.8/dist-packages/keras/engine/training.py\u001b[0m in \u001b[0;36m_undeduplicated_weights\u001b[0;34m(self)\u001b[0m\n\u001b[1;32m   2832\u001b[0m   \u001b[0;32mdef\u001b[0m \u001b[0m_undeduplicated_weights\u001b[0m\u001b[0;34m(\u001b[0m\u001b[0mself\u001b[0m\u001b[0;34m)\u001b[0m\u001b[0;34m:\u001b[0m\u001b[0;34m\u001b[0m\u001b[0;34m\u001b[0m\u001b[0m\n\u001b[1;32m   2833\u001b[0m     \u001b[0;34m\"\"\"Returns the undeduplicated list of all layer variables/weights.\"\"\"\u001b[0m\u001b[0;34m\u001b[0m\u001b[0;34m\u001b[0m\u001b[0m\n\u001b[0;32m-> 2834\u001b[0;31m     \u001b[0mself\u001b[0m\u001b[0;34m.\u001b[0m\u001b[0m_assert_weights_created\u001b[0m\u001b[0;34m(\u001b[0m\u001b[0;34m)\u001b[0m\u001b[0;34m\u001b[0m\u001b[0;34m\u001b[0m\u001b[0m\n\u001b[0m\u001b[1;32m   2835\u001b[0m     \u001b[0mweights\u001b[0m \u001b[0;34m=\u001b[0m \u001b[0;34m[\u001b[0m\u001b[0;34m]\u001b[0m\u001b[0;34m\u001b[0m\u001b[0;34m\u001b[0m\u001b[0m\n\u001b[1;32m   2836\u001b[0m     \u001b[0;32mfor\u001b[0m \u001b[0mlayer\u001b[0m \u001b[0;32min\u001b[0m \u001b[0mself\u001b[0m\u001b[0;34m.\u001b[0m\u001b[0m_self_tracked_trackables\u001b[0m\u001b[0;34m:\u001b[0m\u001b[0;34m\u001b[0m\u001b[0;34m\u001b[0m\u001b[0m\n",
            "\u001b[0;32m/usr/local/lib/python3.8/dist-packages/keras/engine/sequential.py\u001b[0m in \u001b[0;36m_assert_weights_created\u001b[0;34m(self)\u001b[0m\n\u001b[1;32m    470\u001b[0m     \u001b[0;31m# When the graph has not been initialized, use the Model's implementation to\u001b[0m\u001b[0;34m\u001b[0m\u001b[0;34m\u001b[0m\u001b[0;34m\u001b[0m\u001b[0m\n\u001b[1;32m    471\u001b[0m     \u001b[0;31m# to check if the weights has been created.\u001b[0m\u001b[0;34m\u001b[0m\u001b[0;34m\u001b[0m\u001b[0;34m\u001b[0m\u001b[0m\n\u001b[0;32m--> 472\u001b[0;31m     \u001b[0msuper\u001b[0m\u001b[0;34m(\u001b[0m\u001b[0mfunctional\u001b[0m\u001b[0;34m.\u001b[0m\u001b[0mFunctional\u001b[0m\u001b[0;34m,\u001b[0m \u001b[0mself\u001b[0m\u001b[0;34m)\u001b[0m\u001b[0;34m.\u001b[0m\u001b[0m_assert_weights_created\u001b[0m\u001b[0;34m(\u001b[0m\u001b[0;34m)\u001b[0m  \u001b[0;31m# pylint: disable=bad-super-call\u001b[0m\u001b[0;34m\u001b[0m\u001b[0;34m\u001b[0m\u001b[0m\n\u001b[0m\u001b[1;32m    473\u001b[0m \u001b[0;34m\u001b[0m\u001b[0m\n\u001b[1;32m    474\u001b[0m \u001b[0;34m\u001b[0m\u001b[0m\n",
            "\u001b[0;32m/usr/local/lib/python3.8/dist-packages/keras/engine/training.py\u001b[0m in \u001b[0;36m_assert_weights_created\u001b[0;34m(self)\u001b[0m\n\u001b[1;32m   3025\u001b[0m       \u001b[0;31m# been invoked yet, this will cover both sequential and subclass model.\u001b[0m\u001b[0;34m\u001b[0m\u001b[0;34m\u001b[0m\u001b[0;34m\u001b[0m\u001b[0m\n\u001b[1;32m   3026\u001b[0m       \u001b[0;31m# Also make sure to exclude Model class itself which has build() defined.\u001b[0m\u001b[0;34m\u001b[0m\u001b[0;34m\u001b[0m\u001b[0;34m\u001b[0m\u001b[0m\n\u001b[0;32m-> 3027\u001b[0;31m       raise ValueError(f'Weights for model {self.name} have not yet been '\n\u001b[0m\u001b[1;32m   3028\u001b[0m                        \u001b[0;34m'created. '\u001b[0m\u001b[0;34m\u001b[0m\u001b[0;34m\u001b[0m\u001b[0m\n\u001b[1;32m   3029\u001b[0m                        \u001b[0;34m'Weights are created when the Model is first called on '\u001b[0m\u001b[0;34m\u001b[0m\u001b[0;34m\u001b[0m\u001b[0m\n",
            "\u001b[0;31mValueError\u001b[0m: Weights for model sequential have not yet been created. Weights are created when the Model is first called on inputs or `build()` is called with an `input_shape`."
          ]
        }
      ],
      "source": [
        "# This will throw an error\n",
        "\n",
        "model.weights"
      ]
    },
    {
      "cell_type": "code",
      "execution_count": 4,
      "metadata": {
        "id": "LOdVzg5tLZuX",
        "outputId": "38130dd6-af93-48d0-fe94-aa8a85b2a707",
        "colab": {
          "base_uri": "https://localhost:8080/",
          "height": 322
        }
      },
      "outputs": [
        {
          "output_type": "error",
          "ename": "ValueError",
          "evalue": "ignored",
          "traceback": [
            "\u001b[0;31m---------------------------------------------------------------------------\u001b[0m",
            "\u001b[0;31mValueError\u001b[0m                                Traceback (most recent call last)",
            "\u001b[0;32m<ipython-input-4-d15b67602e06>\u001b[0m in \u001b[0;36m<module>\u001b[0;34m\u001b[0m\n\u001b[1;32m      1\u001b[0m \u001b[0;31m# This will throw an error:\u001b[0m\u001b[0;34m\u001b[0m\u001b[0;34m\u001b[0m\u001b[0;34m\u001b[0m\u001b[0m\n\u001b[1;32m      2\u001b[0m \u001b[0;34m\u001b[0m\u001b[0m\n\u001b[0;32m----> 3\u001b[0;31m \u001b[0mmodel\u001b[0m\u001b[0;34m.\u001b[0m\u001b[0msummary\u001b[0m\u001b[0;34m(\u001b[0m\u001b[0;34m)\u001b[0m\u001b[0;34m\u001b[0m\u001b[0;34m\u001b[0m\u001b[0m\n\u001b[0m",
            "\u001b[0;32m/usr/local/lib/python3.8/dist-packages/keras/engine/training.py\u001b[0m in \u001b[0;36msummary\u001b[0;34m(self, line_length, positions, print_fn, expand_nested, show_trainable)\u001b[0m\n\u001b[1;32m   2867\u001b[0m     \"\"\"\n\u001b[1;32m   2868\u001b[0m     \u001b[0;32mif\u001b[0m \u001b[0;32mnot\u001b[0m \u001b[0mself\u001b[0m\u001b[0;34m.\u001b[0m\u001b[0mbuilt\u001b[0m\u001b[0;34m:\u001b[0m\u001b[0;34m\u001b[0m\u001b[0;34m\u001b[0m\u001b[0m\n\u001b[0;32m-> 2869\u001b[0;31m       raise ValueError(\n\u001b[0m\u001b[1;32m   2870\u001b[0m           \u001b[0;34m'This model has not yet been built. '\u001b[0m\u001b[0;34m\u001b[0m\u001b[0;34m\u001b[0m\u001b[0m\n\u001b[1;32m   2871\u001b[0m           \u001b[0;34m'Build the model first by calling `build()` or by calling '\u001b[0m\u001b[0;34m\u001b[0m\u001b[0;34m\u001b[0m\u001b[0m\n",
            "\u001b[0;31mValueError\u001b[0m: This model has not yet been built. Build the model first by calling `build()` or by calling the model on a batch of data."
          ]
        }
      ],
      "source": [
        "# This will throw an error:\n",
        "\n",
        "model.summary()"
      ]
    },
    {
      "cell_type": "markdown",
      "metadata": {
        "id": "tXidm4AfMqnh"
      },
      "source": [
        "**Note**: *The model creates its weights the first time it is called on an input, since the shape of the weights depends on the shape of the inputs.*"
      ]
    },
    {
      "cell_type": "code",
      "execution_count": 5,
      "metadata": {
        "colab": {
          "base_uri": "https://localhost:8080/"
        },
        "id": "77EDWLMLNF1C",
        "outputId": "34da505d-f7b4-46d9-96b0-58eaf19003bf"
      },
      "outputs": [
        {
          "output_type": "stream",
          "name": "stdout",
          "text": [
            "Model: \"sequential\"\n",
            "_________________________________________________________________\n",
            " Layer (type)                Output Shape              Param #   \n",
            "=================================================================\n",
            " dense (Dense)               (1, 2)                    10        \n",
            "                                                                 \n",
            " dense_1 (Dense)             (1, 3)                    9         \n",
            "                                                                 \n",
            " dense_2 (Dense)             (1, 4)                    16        \n",
            "                                                                 \n",
            "=================================================================\n",
            "Total params: 35\n",
            "Trainable params: 35\n",
            "Non-trainable params: 0\n",
            "_________________________________________________________________\n"
          ]
        }
      ],
      "source": [
        "x = tf.ones((1, 4))\n",
        "y = model(x)\n",
        "\n",
        "model.summary()"
      ]
    },
    {
      "cell_type": "code",
      "execution_count": 6,
      "metadata": {
        "colab": {
          "base_uri": "https://localhost:8080/"
        },
        "id": "4SzoXRDbUovk",
        "outputId": "67d4d70e-0af4-4b23-815f-d493d717247c"
      },
      "outputs": [
        {
          "output_type": "execute_result",
          "data": {
            "text/plain": [
              "<tf.Tensor: shape=(1, 4), dtype=float32, numpy=array([[1., 1., 1., 1.]], dtype=float32)>"
            ]
          },
          "metadata": {},
          "execution_count": 6
        }
      ],
      "source": [
        "x"
      ]
    },
    {
      "cell_type": "code",
      "execution_count": 7,
      "metadata": {
        "colab": {
          "base_uri": "https://localhost:8080/"
        },
        "id": "_xqvLbYyNkr4",
        "outputId": "b32258e9-4f7a-4033-d213-0dd58ff1c0e0"
      },
      "outputs": [
        {
          "output_type": "execute_result",
          "data": {
            "text/plain": [
              "[<tf.Variable 'dense/kernel:0' shape=(4, 2) dtype=float32, numpy=\n",
              " array([[-0.7387681 ,  0.3539226 ],\n",
              "        [-0.6585326 ,  0.38407183],\n",
              "        [ 0.6130214 ,  0.5952382 ],\n",
              "        [ 0.8695564 , -0.08927631]], dtype=float32)>,\n",
              " <tf.Variable 'dense/bias:0' shape=(2,) dtype=float32, numpy=array([0., 0.], dtype=float32)>,\n",
              " <tf.Variable 'dense_1/kernel:0' shape=(2, 3) dtype=float32, numpy=\n",
              " array([[ 0.02570736,  0.9504328 ,  0.70419383],\n",
              "        [-0.57236207,  0.40141547,  0.79902124]], dtype=float32)>,\n",
              " <tf.Variable 'dense_1/bias:0' shape=(3,) dtype=float32, numpy=array([0., 0., 0.], dtype=float32)>,\n",
              " <tf.Variable 'dense_2/kernel:0' shape=(3, 4) dtype=float32, numpy=\n",
              " array([[ 0.92404914, -0.29289114,  0.7568848 , -0.00942022],\n",
              "        [ 0.47062004,  0.8501667 , -0.05513793, -0.82372063],\n",
              "        [-0.09078562,  0.43390095, -0.72143507, -0.7933419 ]],\n",
              "       dtype=float32)>,\n",
              " <tf.Variable 'dense_2/bias:0' shape=(4,) dtype=float32, numpy=array([0., 0., 0., 0.], dtype=float32)>]"
            ]
          },
          "metadata": {},
          "execution_count": 7
        }
      ],
      "source": [
        "model.weights"
      ]
    },
    {
      "cell_type": "markdown",
      "metadata": {
        "id": "1py6LHXuZ-pf"
      },
      "source": [
        "It can be helpful to note that there's also a corresponding `pop()` method to remove layers; a `Sequential` model behaves very much like a list of layers:"
      ]
    },
    {
      "cell_type": "code",
      "execution_count": 8,
      "metadata": {
        "colab": {
          "base_uri": "https://localhost:8080/"
        },
        "id": "84srS1dxODJg",
        "outputId": "f19addbf-a990-403e-fa9a-b64534b55a80"
      },
      "outputs": [
        {
          "output_type": "execute_result",
          "data": {
            "text/plain": [
              "[<keras.layers.core.dense.Dense at 0x7ffb14d85280>,\n",
              " <keras.layers.core.dense.Dense at 0x7ffb14d85250>]"
            ]
          },
          "metadata": {},
          "execution_count": 8
        }
      ],
      "source": [
        "model.pop()\n",
        "model.layers"
      ]
    },
    {
      "cell_type": "code",
      "execution_count": 9,
      "metadata": {
        "colab": {
          "base_uri": "https://localhost:8080/"
        },
        "id": "zC828yXbZICX",
        "outputId": "3e8e55ed-6648-4f03-f37e-2e24802e08bb"
      },
      "outputs": [
        {
          "output_type": "stream",
          "name": "stdout",
          "text": [
            "Model: \"sequential\"\n",
            "_________________________________________________________________\n",
            " Layer (type)                Output Shape              Param #   \n",
            "=================================================================\n",
            " dense (Dense)               (1, 2)                    10        \n",
            "                                                                 \n",
            " dense_1 (Dense)             (1, 3)                    9         \n",
            "                                                                 \n",
            "=================================================================\n",
            "Total params: 19\n",
            "Trainable params: 19\n",
            "Non-trainable params: 0\n",
            "_________________________________________________________________\n"
          ]
        }
      ],
      "source": [
        "model.summary()"
      ]
    },
    {
      "cell_type": "markdown",
      "metadata": {
        "id": "yX2OgXPLZV54"
      },
      "source": [
        "Additionally, you'll likely recall that a `Sequential` model can also be created incrementally via the `add()` method:"
      ]
    },
    {
      "cell_type": "code",
      "execution_count": 10,
      "metadata": {
        "colab": {
          "base_uri": "https://localhost:8080/"
        },
        "id": "hCZHCQzLZAZL",
        "outputId": "678a29b8-2a10-4b61-921f-6e90497e1c50"
      },
      "outputs": [
        {
          "output_type": "stream",
          "name": "stdout",
          "text": [
            "Model: \"sequential\"\n",
            "_________________________________________________________________\n",
            " Layer (type)                Output Shape              Param #   \n",
            "=================================================================\n",
            " dense (Dense)               (1, 2)                    10        \n",
            "                                                                 \n",
            " dense_1 (Dense)             (1, 3)                    9         \n",
            "                                                                 \n",
            " dense_3 (Dense)             (1, 4)                    16        \n",
            "                                                                 \n",
            "=================================================================\n",
            "Total params: 35\n",
            "Trainable params: 35\n",
            "Non-trainable params: 0\n",
            "_________________________________________________________________\n"
          ]
        }
      ],
      "source": [
        "model.add(layers.Dense(4))\n",
        "model.summary()"
      ]
    },
    {
      "cell_type": "markdown",
      "metadata": {
        "id": "udUKmJrBanPr"
      },
      "source": [
        "## Back to Our Example: A Digit Classifier"
      ]
    },
    {
      "cell_type": "code",
      "execution_count": 11,
      "metadata": {
        "id": "WwTrrPS410Pn"
      },
      "outputs": [],
      "source": [
        "from sklearn.datasets import load_sample_images\n",
        "from sklearn.datasets import load_digits\n",
        "from sklearn.model_selection import train_test_split, cross_val_score\n",
        "from sklearn.preprocessing import OneHotEncoder\n",
        "from sklearn.metrics import accuracy_score, confusion_matrix\n",
        "import matplotlib.pyplot as plt\n",
        "import matplotlib.image as mpimg\n",
        "import numpy as np\n",
        "import seaborn as sns\n",
        "\n",
        "import tensorflow as tf\n",
        "\n",
        "from tensorflow.keras.models import Sequential\n",
        "from tensorflow.keras.layers import Dense, Dropout\n",
        "from tensorflow.keras.regularizers import l2\n",
        "from tensorflow.keras.optimizers import SGD\n",
        "from tensorflow.keras.wrappers import scikit_learn\n",
        "from tensorflow.keras.callbacks import EarlyStopping\n",
        "\n",
        "import os\n",
        "import sys\n",
        "module_path = os.path.abspath(os.path.join(os.pardir, os.pardir))\n",
        "if module_path not in sys.path:\n",
        "    sys.path.append(module_path)\n",
        "    \n",
        "%load_ext autoreload\n",
        "%autoreload 2"
      ]
    },
    {
      "cell_type": "markdown",
      "metadata": {
        "id": "7-7JpvwA10Po"
      },
      "source": [
        "### Load the Digits Dataset (Again)"
      ]
    },
    {
      "cell_type": "code",
      "execution_count": 12,
      "metadata": {
        "id": "ejJ5wKfv10Po"
      },
      "outputs": [],
      "source": [
        "# Load and return the digits dataset (classification).\n",
        "# Each datapoint is a 8x8 image of a digit.\n",
        "\n",
        "digits = load_digits()\n",
        "\n",
        "# Defining feature variables\n",
        "X = digits.data\n",
        "\n",
        "# Defining target variable\n",
        "y = digits.target\n",
        "\n",
        "# To tag each value as even or odd (0 is even, 1 is odd)\n",
        "y_binary = y % 2"
      ]
    },
    {
      "cell_type": "code",
      "execution_count": 13,
      "metadata": {
        "colab": {
          "base_uri": "https://localhost:8080/"
        },
        "id": "UUe5r8pmEWj4",
        "outputId": "2ff76491-8b68-4ab5-825b-327e599ad1ca"
      },
      "outputs": [
        {
          "output_type": "execute_result",
          "data": {
            "text/plain": [
              "array([0, 1, 0, ..., 0, 1, 0])"
            ]
          },
          "metadata": {},
          "execution_count": 13
        }
      ],
      "source": [
        "y_binary"
      ]
    },
    {
      "cell_type": "markdown",
      "metadata": {
        "id": "SBPt3KGAzsYB"
      },
      "source": [
        "### Defining the Input Layer of Our Model Architecture ([Source](https://www.tensorflow.org/api_docs/python/tf/keras/layers/InputLayer))\n",
        "\n",
        "One way is to define the input layer explicitly:"
      ]
    },
    {
      "cell_type": "code",
      "execution_count": 14,
      "metadata": {
        "colab": {
          "base_uri": "https://localhost:8080/"
        },
        "id": "89-eJlXz0D-g",
        "outputId": "9b301fcf-5274-4d81-cfd7-e36974028f45"
      },
      "outputs": [
        {
          "output_type": "stream",
          "name": "stdout",
          "text": [
            "Epoch 1/50\n",
            "180/180 [==============================] - 1s 2ms/step - loss: 0.8980 - accuracy: 0.5943\n",
            "Epoch 2/50\n",
            "180/180 [==============================] - 0s 2ms/step - loss: 0.3856 - accuracy: 0.8164\n",
            "Epoch 3/50\n",
            "180/180 [==============================] - 0s 2ms/step - loss: 0.2877 - accuracy: 0.8770\n",
            "Epoch 4/50\n",
            "180/180 [==============================] - 0s 2ms/step - loss: 0.2485 - accuracy: 0.8937\n",
            "Epoch 5/50\n",
            "180/180 [==============================] - 0s 2ms/step - loss: 0.2203 - accuracy: 0.9110\n",
            "Epoch 6/50\n",
            "180/180 [==============================] - 0s 2ms/step - loss: 0.1978 - accuracy: 0.9104\n",
            "Epoch 7/50\n",
            "180/180 [==============================] - 0s 2ms/step - loss: 0.1739 - accuracy: 0.9277\n",
            "Epoch 8/50\n",
            "180/180 [==============================] - 0s 2ms/step - loss: 0.1491 - accuracy: 0.9393\n",
            "Epoch 9/50\n",
            "180/180 [==============================] - 0s 2ms/step - loss: 0.1295 - accuracy: 0.9477\n",
            "Epoch 10/50\n",
            "180/180 [==============================] - 0s 2ms/step - loss: 0.1218 - accuracy: 0.9466\n",
            "Epoch 11/50\n",
            "180/180 [==============================] - 0s 2ms/step - loss: 0.1083 - accuracy: 0.9594\n",
            "Epoch 12/50\n",
            "180/180 [==============================] - 0s 2ms/step - loss: 0.0994 - accuracy: 0.9599\n",
            "Epoch 13/50\n",
            "180/180 [==============================] - 0s 2ms/step - loss: 0.0948 - accuracy: 0.9649\n",
            "Epoch 14/50\n",
            "180/180 [==============================] - 0s 2ms/step - loss: 0.0881 - accuracy: 0.9688\n",
            "Epoch 15/50\n",
            "180/180 [==============================] - 0s 2ms/step - loss: 0.0841 - accuracy: 0.9705\n",
            "Epoch 16/50\n",
            "180/180 [==============================] - 0s 2ms/step - loss: 0.0832 - accuracy: 0.9688\n",
            "Epoch 17/50\n",
            "180/180 [==============================] - 1s 3ms/step - loss: 0.0802 - accuracy: 0.9722\n",
            "Epoch 18/50\n",
            "180/180 [==============================] - 1s 3ms/step - loss: 0.0770 - accuracy: 0.9738\n",
            "Epoch 19/50\n",
            "180/180 [==============================] - 1s 3ms/step - loss: 0.0729 - accuracy: 0.9755\n",
            "Epoch 20/50\n",
            "180/180 [==============================] - 1s 3ms/step - loss: 0.0728 - accuracy: 0.9750\n",
            "Epoch 21/50\n",
            "180/180 [==============================] - 1s 3ms/step - loss: 0.0711 - accuracy: 0.9738\n",
            "Epoch 22/50\n",
            "180/180 [==============================] - 0s 2ms/step - loss: 0.0697 - accuracy: 0.9738\n",
            "Epoch 23/50\n",
            "180/180 [==============================] - 0s 2ms/step - loss: 0.0653 - accuracy: 0.9755\n",
            "Epoch 24/50\n",
            "180/180 [==============================] - 0s 2ms/step - loss: 0.0666 - accuracy: 0.9789\n",
            "Epoch 25/50\n",
            "180/180 [==============================] - 0s 2ms/step - loss: 0.0624 - accuracy: 0.9750\n",
            "Epoch 26/50\n",
            "180/180 [==============================] - 0s 2ms/step - loss: 0.0624 - accuracy: 0.9783\n",
            "Epoch 27/50\n",
            "180/180 [==============================] - 0s 2ms/step - loss: 0.0603 - accuracy: 0.9794\n",
            "Epoch 28/50\n",
            "180/180 [==============================] - 0s 2ms/step - loss: 0.0577 - accuracy: 0.9789\n",
            "Epoch 29/50\n",
            "180/180 [==============================] - 0s 2ms/step - loss: 0.0552 - accuracy: 0.9822\n",
            "Epoch 30/50\n",
            "180/180 [==============================] - 0s 2ms/step - loss: 0.0577 - accuracy: 0.9783\n",
            "Epoch 31/50\n",
            "180/180 [==============================] - 0s 2ms/step - loss: 0.0551 - accuracy: 0.9816\n",
            "Epoch 32/50\n",
            "180/180 [==============================] - 0s 2ms/step - loss: 0.0524 - accuracy: 0.9827\n",
            "Epoch 33/50\n",
            "180/180 [==============================] - 0s 2ms/step - loss: 0.0545 - accuracy: 0.9827\n",
            "Epoch 34/50\n",
            "180/180 [==============================] - 0s 2ms/step - loss: 0.0513 - accuracy: 0.9811\n",
            "Epoch 35/50\n",
            "180/180 [==============================] - 0s 2ms/step - loss: 0.0502 - accuracy: 0.9839\n",
            "Epoch 36/50\n",
            "180/180 [==============================] - 0s 2ms/step - loss: 0.0474 - accuracy: 0.9833\n",
            "Epoch 37/50\n",
            "180/180 [==============================] - 0s 2ms/step - loss: 0.0477 - accuracy: 0.9844\n",
            "Epoch 38/50\n",
            "180/180 [==============================] - 0s 2ms/step - loss: 0.0467 - accuracy: 0.9844\n",
            "Epoch 39/50\n",
            "180/180 [==============================] - 0s 2ms/step - loss: 0.0451 - accuracy: 0.9855\n",
            "Epoch 40/50\n",
            "180/180 [==============================] - 0s 2ms/step - loss: 0.0442 - accuracy: 0.9855\n",
            "Epoch 41/50\n",
            "180/180 [==============================] - 0s 2ms/step - loss: 0.0421 - accuracy: 0.9866\n",
            "Epoch 42/50\n",
            "180/180 [==============================] - 0s 2ms/step - loss: 0.0423 - accuracy: 0.9861\n",
            "Epoch 43/50\n",
            "180/180 [==============================] - 0s 2ms/step - loss: 0.0387 - accuracy: 0.9894\n",
            "Epoch 44/50\n",
            "180/180 [==============================] - 0s 2ms/step - loss: 0.0368 - accuracy: 0.9894\n",
            "Epoch 45/50\n",
            "180/180 [==============================] - 0s 2ms/step - loss: 0.0407 - accuracy: 0.9866\n",
            "Epoch 46/50\n",
            "180/180 [==============================] - 0s 2ms/step - loss: 0.0395 - accuracy: 0.9900\n",
            "Epoch 47/50\n",
            "180/180 [==============================] - 0s 2ms/step - loss: 0.0404 - accuracy: 0.9861\n",
            "Epoch 48/50\n",
            "180/180 [==============================] - 0s 2ms/step - loss: 0.0374 - accuracy: 0.9878\n",
            "Epoch 49/50\n",
            "180/180 [==============================] - 1s 3ms/step - loss: 0.0376 - accuracy: 0.9889\n",
            "Epoch 50/50\n",
            "180/180 [==============================] - 1s 3ms/step - loss: 0.0361 - accuracy: 0.9905\n"
          ]
        },
        {
          "output_type": "execute_result",
          "data": {
            "text/plain": [
              "<keras.callbacks.History at 0x7ffa86b270d0>"
            ]
          },
          "metadata": {},
          "execution_count": 14
        }
      ],
      "source": [
        "model = Sequential([tf.keras.layers.InputLayer(input_shape=(64,))])\n",
        "model.add(Dense(8, activation='relu'))\n",
        "model.add(Dense(1, activation='sigmoid'))\n",
        "\n",
        "model.compile(optimizer='rmsprop',\n",
        "              loss='binary_crossentropy',\n",
        "              metrics=['accuracy'])\n",
        "\n",
        "model.fit(X, y_binary, epochs=50, batch_size=10)"
      ]
    },
    {
      "cell_type": "markdown",
      "metadata": {
        "id": "Ew8EXENh11rQ"
      },
      "source": [
        "Otherwise, it is implicitly created:"
      ]
    },
    {
      "cell_type": "code",
      "execution_count": 15,
      "metadata": {
        "colab": {
          "base_uri": "https://localhost:8080/"
        },
        "id": "uws-r3a010Pp",
        "outputId": "0978ffaf-7b00-4850-8782-b59576fc7270"
      },
      "outputs": [
        {
          "output_type": "stream",
          "name": "stdout",
          "text": [
            "Epoch 1/50\n",
            "180/180 [==============================] - 1s 2ms/step - loss: 0.6104 - accuracy: 0.7462\n",
            "Epoch 2/50\n",
            "180/180 [==============================] - 0s 2ms/step - loss: 0.2230 - accuracy: 0.9154\n",
            "Epoch 3/50\n",
            "180/180 [==============================] - 0s 2ms/step - loss: 0.1674 - accuracy: 0.9327\n",
            "Epoch 4/50\n",
            "180/180 [==============================] - 0s 2ms/step - loss: 0.1435 - accuracy: 0.9466\n",
            "Epoch 5/50\n",
            "180/180 [==============================] - 1s 3ms/step - loss: 0.1259 - accuracy: 0.9466\n",
            "Epoch 6/50\n",
            "180/180 [==============================] - 1s 3ms/step - loss: 0.1166 - accuracy: 0.9549\n",
            "Epoch 7/50\n",
            "180/180 [==============================] - 1s 4ms/step - loss: 0.1019 - accuracy: 0.9610\n",
            "Epoch 8/50\n",
            "180/180 [==============================] - 1s 4ms/step - loss: 0.0961 - accuracy: 0.9622\n",
            "Epoch 9/50\n",
            "180/180 [==============================] - 1s 3ms/step - loss: 0.0843 - accuracy: 0.9655\n",
            "Epoch 10/50\n",
            "180/180 [==============================] - 0s 2ms/step - loss: 0.0794 - accuracy: 0.9727\n",
            "Epoch 11/50\n",
            "180/180 [==============================] - 0s 2ms/step - loss: 0.0752 - accuracy: 0.9699\n",
            "Epoch 12/50\n",
            "180/180 [==============================] - 0s 2ms/step - loss: 0.0687 - accuracy: 0.9772\n",
            "Epoch 13/50\n",
            "180/180 [==============================] - 0s 2ms/step - loss: 0.0679 - accuracy: 0.9766\n",
            "Epoch 14/50\n",
            "180/180 [==============================] - 0s 2ms/step - loss: 0.0603 - accuracy: 0.9750\n",
            "Epoch 15/50\n",
            "180/180 [==============================] - 0s 2ms/step - loss: 0.0589 - accuracy: 0.9783\n",
            "Epoch 16/50\n",
            "180/180 [==============================] - 0s 2ms/step - loss: 0.0571 - accuracy: 0.9783\n",
            "Epoch 17/50\n",
            "180/180 [==============================] - 0s 2ms/step - loss: 0.0482 - accuracy: 0.9800\n",
            "Epoch 18/50\n",
            "180/180 [==============================] - 0s 2ms/step - loss: 0.0498 - accuracy: 0.9822\n",
            "Epoch 19/50\n",
            "180/180 [==============================] - 0s 2ms/step - loss: 0.0444 - accuracy: 0.9855\n",
            "Epoch 20/50\n",
            "180/180 [==============================] - 0s 2ms/step - loss: 0.0431 - accuracy: 0.9844\n",
            "Epoch 21/50\n",
            "180/180 [==============================] - 0s 2ms/step - loss: 0.0401 - accuracy: 0.9850\n",
            "Epoch 22/50\n",
            "180/180 [==============================] - 0s 2ms/step - loss: 0.0364 - accuracy: 0.9872\n",
            "Epoch 23/50\n",
            "180/180 [==============================] - 0s 2ms/step - loss: 0.0353 - accuracy: 0.9900\n",
            "Epoch 24/50\n",
            "180/180 [==============================] - 0s 2ms/step - loss: 0.0338 - accuracy: 0.9861\n",
            "Epoch 25/50\n",
            "180/180 [==============================] - 0s 2ms/step - loss: 0.0293 - accuracy: 0.9889\n",
            "Epoch 26/50\n",
            "180/180 [==============================] - 0s 2ms/step - loss: 0.0263 - accuracy: 0.9933\n",
            "Epoch 27/50\n",
            "180/180 [==============================] - 0s 2ms/step - loss: 0.0267 - accuracy: 0.9928\n",
            "Epoch 28/50\n",
            "180/180 [==============================] - 0s 2ms/step - loss: 0.0225 - accuracy: 0.9928\n",
            "Epoch 29/50\n",
            "180/180 [==============================] - 0s 2ms/step - loss: 0.0234 - accuracy: 0.9911\n",
            "Epoch 30/50\n",
            "180/180 [==============================] - 0s 2ms/step - loss: 0.0205 - accuracy: 0.9917\n",
            "Epoch 31/50\n",
            "180/180 [==============================] - 0s 2ms/step - loss: 0.0186 - accuracy: 0.9944\n",
            "Epoch 32/50\n",
            "180/180 [==============================] - 0s 2ms/step - loss: 0.0163 - accuracy: 0.9939\n",
            "Epoch 33/50\n",
            "180/180 [==============================] - 0s 2ms/step - loss: 0.0146 - accuracy: 0.9961\n",
            "Epoch 34/50\n",
            "180/180 [==============================] - 0s 2ms/step - loss: 0.0150 - accuracy: 0.9961\n",
            "Epoch 35/50\n",
            "180/180 [==============================] - 1s 3ms/step - loss: 0.0133 - accuracy: 0.9967\n",
            "Epoch 36/50\n",
            "180/180 [==============================] - 1s 4ms/step - loss: 0.0120 - accuracy: 0.9967\n",
            "Epoch 37/50\n",
            "180/180 [==============================] - 1s 3ms/step - loss: 0.0122 - accuracy: 0.9967\n",
            "Epoch 38/50\n",
            "180/180 [==============================] - 1s 4ms/step - loss: 0.0116 - accuracy: 0.9972\n",
            "Epoch 39/50\n",
            "180/180 [==============================] - 1s 3ms/step - loss: 0.0119 - accuracy: 0.9967\n",
            "Epoch 40/50\n",
            "180/180 [==============================] - 0s 2ms/step - loss: 0.0089 - accuracy: 0.9972\n",
            "Epoch 41/50\n",
            "180/180 [==============================] - 0s 2ms/step - loss: 0.0098 - accuracy: 0.9983\n",
            "Epoch 42/50\n",
            "180/180 [==============================] - 0s 2ms/step - loss: 0.0086 - accuracy: 0.9972\n",
            "Epoch 43/50\n",
            "180/180 [==============================] - 0s 2ms/step - loss: 0.0064 - accuracy: 0.9989\n",
            "Epoch 44/50\n",
            "180/180 [==============================] - 0s 2ms/step - loss: 0.0075 - accuracy: 0.9967\n",
            "Epoch 45/50\n",
            "180/180 [==============================] - 0s 2ms/step - loss: 0.0082 - accuracy: 0.9961\n",
            "Epoch 46/50\n",
            "180/180 [==============================] - 0s 2ms/step - loss: 0.0065 - accuracy: 0.9983\n",
            "Epoch 47/50\n",
            "180/180 [==============================] - 0s 2ms/step - loss: 0.0055 - accuracy: 0.9989\n",
            "Epoch 48/50\n",
            "180/180 [==============================] - 0s 2ms/step - loss: 0.0073 - accuracy: 0.9983\n",
            "Epoch 49/50\n",
            "180/180 [==============================] - 0s 2ms/step - loss: 0.0050 - accuracy: 0.9978\n",
            "Epoch 50/50\n",
            "180/180 [==============================] - 0s 2ms/step - loss: 0.0058 - accuracy: 0.9972\n"
          ]
        },
        {
          "output_type": "execute_result",
          "data": {
            "text/plain": [
              "<keras.callbacks.History at 0x7ffa86a154f0>"
            ]
          },
          "metadata": {},
          "execution_count": 15
        }
      ],
      "source": [
        "model = Sequential()\n",
        "model.add(Dense(12, activation='relu', input_dim=64))\n",
        "model.add(Dense(8, activation='relu'))\n",
        "model.add(Dense(1, activation='sigmoid'))\n",
        "\n",
        "model.compile(optimizer='rmsprop',\n",
        "              loss='binary_crossentropy',\n",
        "              metrics=['accuracy'])\n",
        "\n",
        "model.fit(X, y_binary, epochs=50, batch_size=10)"
      ]
    },
    {
      "cell_type": "markdown",
      "metadata": {
        "id": "xDR44wSk10Pp"
      },
      "source": [
        "**It is generally recommend to use the Keras Functional model via `Input`,\n",
        "(which creates an `InputLayer`) without directly using `InputLayer`.**\n",
        "\n",
        "\n",
        "### Things to know:\n",
        "\n",
        "- The data and labels in `fit()` need to be numpy arrays, not `pandas` dfs.\n",
        "- Scaling your data will have a large impact on your model.\n",
        "   > For our traditional input features, we would use a scaler object. For images, as long as the minimum value is 0, we can simply divide through by the maximum pixel intensity."
      ]
    },
    {
      "cell_type": "markdown",
      "metadata": {
        "id": "Z8raDPai10Pp"
      },
      "source": [
        "#### Getting data ready for modeling\n",
        "**Preprocessing**:\n",
        "\n",
        "- use train_test_split to create X_train, y_train, X_test, and y_test\n",
        "- Split training data into pure_train and validation sets.\n",
        "- Scale the pixel intensity to a value between 0 and 1."
      ]
    },
    {
      "cell_type": "markdown",
      "metadata": {
        "id": "81b4Rp2X10Pp"
      },
      "source": [
        "Scaling our input variables will help speed up our neural network.\n",
        "\n",
        "Since our minimum intensity is 0, we can normalize the inputs by dividing each value by the max value (16)."
      ]
    },
    {
      "cell_type": "code",
      "execution_count": 16,
      "metadata": {
        "id": "_XQN6A5910Pq"
      },
      "outputs": [],
      "source": [
        "X_train, X_test, y_train, y_test =\\\n",
        "    train_test_split(X, y_binary, random_state=42, test_size=0.2)\n",
        "\n",
        "X_pure_train, X_val, y_pure_train, y_val =\\\n",
        "    train_test_split(X_train, y_train, random_state=42, test_size=0.2)\n",
        "\n",
        "X_pure_train, X_val, X_test = X_pure_train/16, X_val/16, X_test/16"
      ]
    },
    {
      "cell_type": "code",
      "execution_count": 17,
      "metadata": {
        "colab": {
          "base_uri": "https://localhost:8080/"
        },
        "id": "2WngiBUTbcKm",
        "outputId": "bf670268-e5a4-4c4a-e400-25f72fe392c1"
      },
      "outputs": [
        {
          "output_type": "execute_result",
          "data": {
            "text/plain": [
              "array([0.    , 0.    , 0.    , 0.25  , 0.875 , 0.875 , 0.0625, 0.    ,\n",
              "       0.    , 0.    , 0.1875, 0.875 , 0.75  , 0.625 , 0.25  , 0.    ,\n",
              "       0.    , 0.1875, 0.8125, 0.25  , 0.    , 0.5   , 0.375 , 0.    ,\n",
              "       0.    , 0.1875, 0.9375, 0.5625, 0.125 , 0.9375, 0.0625, 0.    ,\n",
              "       0.    , 0.    , 0.125 , 0.625 , 1.    , 0.8125, 0.    , 0.    ,\n",
              "       0.    , 0.    , 0.    , 0.    , 0.75  , 0.875 , 0.25  , 0.    ,\n",
              "       0.    , 0.    , 0.    , 0.125 , 0.75  , 0.5625, 0.1875, 0.    ,\n",
              "       0.    , 0.    , 0.    , 0.125 , 1.    , 0.875 , 0.    , 0.    ])"
            ]
          },
          "metadata": {},
          "execution_count": 17
        }
      ],
      "source": [
        "X_pure_train[0]"
      ]
    },
    {
      "cell_type": "markdown",
      "metadata": {
        "id": "hyMfxZGY10Pq"
      },
      "source": [
        "For activation, let's start with the familiar sigmoid function, and see how it performs."
      ]
    },
    {
      "cell_type": "code",
      "execution_count": 18,
      "metadata": {
        "colab": {
          "base_uri": "https://localhost:8080/"
        },
        "id": "XXCc1-aJ10Pq",
        "outputId": "1bb44377-4469-46e2-c8c7-65a1d0e073e7"
      },
      "outputs": [
        {
          "output_type": "stream",
          "name": "stdout",
          "text": [
            "Epoch 1/10\n",
            "12/12 [==============================] - 1s 4ms/step - loss: 0.7135 - accuracy: 0.5039\n",
            "Epoch 2/10\n",
            "12/12 [==============================] - 0s 3ms/step - loss: 0.7095 - accuracy: 0.5039\n",
            "Epoch 3/10\n",
            "12/12 [==============================] - 0s 3ms/step - loss: 0.7063 - accuracy: 0.5039\n",
            "Epoch 4/10\n",
            "12/12 [==============================] - 0s 3ms/step - loss: 0.7039 - accuracy: 0.5039\n",
            "Epoch 5/10\n",
            "12/12 [==============================] - 0s 4ms/step - loss: 0.7018 - accuracy: 0.5039\n",
            "Epoch 6/10\n",
            "12/12 [==============================] - 0s 3ms/step - loss: 0.7001 - accuracy: 0.5039\n",
            "Epoch 7/10\n",
            "12/12 [==============================] - 0s 3ms/step - loss: 0.6988 - accuracy: 0.5039\n",
            "Epoch 8/10\n",
            "12/12 [==============================] - 0s 4ms/step - loss: 0.6978 - accuracy: 0.5039\n",
            "Epoch 9/10\n",
            "12/12 [==============================] - 0s 3ms/step - loss: 0.6970 - accuracy: 0.5039\n",
            "Epoch 10/10\n",
            "12/12 [==============================] - 0s 3ms/step - loss: 0.6962 - accuracy: 0.5039\n"
          ]
        }
      ],
      "source": [
        "model = Sequential()\n",
        "# We will start with our trusty sigmoid function.\n",
        "# What does input dimension correspond to?\n",
        "model.add(Dense(12, activation='sigmoid', input_dim=64))\n",
        "model.add(Dense(8, activation='sigmoid'))\n",
        "model.add(Dense(1, activation='sigmoid'))\n",
        "\n",
        "model.compile(optimizer='SGD' ,\n",
        "              # We use binary_crossentropy for a binary loss function\n",
        "              loss='binary_crossentropy',\n",
        "              metrics=['accuracy'])\n",
        "\n",
        "# Assign the variable history to store the results,\n",
        "# and set verbose=1 so we can see the output. To see\n",
        "# only the metrics at the end of each epoch, set verbose=2.\n",
        "results = model.fit(X_pure_train, y_pure_train, epochs=10, batch_size=100, verbose=1)"
      ]
    },
    {
      "cell_type": "markdown",
      "metadata": {
        "id": "HRkFQaDC10Pq"
      },
      "source": [
        "We can access the history of our model via `results.history`.\n",
        "Use __dict__ to take a tour."
      ]
    },
    {
      "cell_type": "code",
      "execution_count": 19,
      "metadata": {
        "id": "sHlurINo10Pq",
        "outputId": "d8830ef6-de40-4484-8e14-32c8a278ee3d",
        "colab": {
          "base_uri": "https://localhost:8080/"
        }
      },
      "outputs": [
        {
          "output_type": "execute_result",
          "data": {
            "text/plain": [
              "{'validation_data': None,\n",
              " 'model': <keras.engine.sequential.Sequential at 0x7ffa8694ba90>,\n",
              " '_chief_worker_only': None,\n",
              " '_supports_tf_logs': False,\n",
              " 'history': {'loss': [0.7135087251663208,\n",
              "   0.7094948887825012,\n",
              "   0.7063273191452026,\n",
              "   0.7039060592651367,\n",
              "   0.7017707824707031,\n",
              "   0.7000734806060791,\n",
              "   0.6987537145614624,\n",
              "   0.6977713108062744,\n",
              "   0.6969839334487915,\n",
              "   0.6962451934814453],\n",
              "  'accuracy': [0.5039164423942566,\n",
              "   0.5039164423942566,\n",
              "   0.5039164423942566,\n",
              "   0.5039164423942566,\n",
              "   0.5039164423942566,\n",
              "   0.5039164423942566,\n",
              "   0.5039164423942566,\n",
              "   0.5039164423942566,\n",
              "   0.5039164423942566,\n",
              "   0.5039164423942566]},\n",
              " 'params': {'verbose': 1, 'epochs': 10, 'steps': 12},\n",
              " 'epoch': [0, 1, 2, 3, 4, 5, 6, 7, 8, 9]}"
            ]
          },
          "metadata": {},
          "execution_count": 19
        }
      ],
      "source": [
        "results.__dict__"
      ]
    },
    {
      "cell_type": "code",
      "execution_count": 20,
      "metadata": {
        "id": "E_bNwsbaqFzH",
        "outputId": "6942df1e-4542-447e-888e-5a22496bbe02",
        "colab": {
          "base_uri": "https://localhost:8080/"
        }
      },
      "outputs": [
        {
          "output_type": "execute_result",
          "data": {
            "text/plain": [
              "1149"
            ]
          },
          "metadata": {},
          "execution_count": 20
        }
      ],
      "source": [
        "len(X_pure_train)\n",
        "\n",
        "# ~1,200 images / 100 images per epoch = 12 steps"
      ]
    },
    {
      "cell_type": "code",
      "execution_count": 21,
      "metadata": {
        "id": "zufk1vG610Pr",
        "outputId": "df7f824c-fb57-433f-dfdb-10a16bbc73b6",
        "colab": {
          "base_uri": "https://localhost:8080/",
          "height": 320
        }
      },
      "outputs": [
        {
          "output_type": "display_data",
          "data": {
            "text/plain": [
              "<Figure size 720x360 with 2 Axes>"
            ],
            "image/png": "[encoded data removed]"
          },
          "metadata": {
            "needs_background": "light"
          }
        }
      ],
      "source": [
        "sigmoid_loss = results.history['loss']\n",
        "sigmoid_accuracy = results.history['accuracy']\n",
        "\n",
        "fig, (ax1, ax2) = plt.subplots(1, 2, figsize=(10, 5))\n",
        "sns.lineplot(x=results.epoch, y=sigmoid_loss, ax=ax1, label='loss')\n",
        "sns.lineplot(x=results.epoch, y=sigmoid_accuracy, ax=ax2, label='accuracy');"
      ]
    },
    {
      "cell_type": "markdown",
      "metadata": {
        "id": "jYJxMRav10Pr"
      },
      "source": [
        "We have two plots above both relating to the quality of our model.  The left-hand plot is our loss. It uses the probabilities associated with our predictions to judge how well our prediction fits reality. We want it to decrease as far as possible.\n",
        "\n",
        "The accuracy judges how well the predictions are after applying the threshold at the output layer.  We want accuracy to increase."
      ]
    },
    {
      "cell_type": "markdown",
      "metadata": {
        "id": "tGIOUB6d10Pr"
      },
      "source": [
        "If we look at our loss, it is still decreasing. That is a signal that our model is **still learning**. If our model is still learning, we can allow it to get better by turning a few dials.\n",
        "\n",
        "Let's:\n",
        "- increase the number of epochs;\n",
        "- change sigmoid activation in the hidden layers to ReLU; and\n",
        "- decrease the batch size."
      ]
    },
    {
      "cell_type": "code",
      "execution_count": 22,
      "metadata": {
        "id": "tpcuY6pB10Pr",
        "outputId": "f6bdde7f-3a05-4079-d4f1-7dc95a29ee82",
        "colab": {
          "base_uri": "https://localhost:8080/"
        }
      },
      "outputs": [
        {
          "output_type": "execute_result",
          "data": {
            "text/plain": [
              "1149"
            ]
          },
          "metadata": {},
          "execution_count": 22
        }
      ],
      "source": [
        "X_pure_train.shape[0]"
      ]
    },
    {
      "cell_type": "code",
      "execution_count": 23,
      "metadata": {
        "id": "q7a4pzVw10Pr",
        "outputId": "6626c773-a3db-428e-aec0-b66821129889",
        "colab": {
          "base_uri": "https://localhost:8080/"
        }
      },
      "outputs": [
        {
          "output_type": "stream",
          "name": "stdout",
          "text": [
            "Epoch 1/100\n",
            "36/36 [==============================] - 1s 3ms/step - loss: 0.6784 - accuracy: 0.5335\n",
            "Epoch 2/100\n",
            "36/36 [==============================] - 0s 2ms/step - loss: 0.6632 - accuracy: 0.6023\n",
            "Epoch 3/100\n",
            "36/36 [==============================] - 0s 3ms/step - loss: 0.6505 - accuracy: 0.6493\n",
            "Epoch 4/100\n",
            "36/36 [==============================] - 0s 2ms/step - loss: 0.6379 - accuracy: 0.6858\n",
            "Epoch 5/100\n",
            "36/36 [==============================] - 0s 2ms/step - loss: 0.6246 - accuracy: 0.7076\n",
            "Epoch 6/100\n",
            "36/36 [==============================] - 0s 2ms/step - loss: 0.6109 - accuracy: 0.7372\n",
            "Epoch 7/100\n",
            "36/36 [==============================] - 0s 2ms/step - loss: 0.5967 - accuracy: 0.7572\n",
            "Epoch 8/100\n",
            "36/36 [==============================] - 0s 2ms/step - loss: 0.5820 - accuracy: 0.7746\n",
            "Epoch 9/100\n",
            "36/36 [==============================] - 0s 2ms/step - loss: 0.5667 - accuracy: 0.7911\n",
            "Epoch 10/100\n",
            "36/36 [==============================] - 0s 2ms/step - loss: 0.5507 - accuracy: 0.8042\n",
            "Epoch 11/100\n",
            "36/36 [==============================] - 0s 2ms/step - loss: 0.5342 - accuracy: 0.8111\n",
            "Epoch 12/100\n",
            "36/36 [==============================] - 0s 2ms/step - loss: 0.5171 - accuracy: 0.8259\n",
            "Epoch 13/100\n",
            "36/36 [==============================] - 0s 2ms/step - loss: 0.4990 - accuracy: 0.8355\n",
            "Epoch 14/100\n",
            "36/36 [==============================] - 0s 2ms/step - loss: 0.4808 - accuracy: 0.8381\n",
            "Epoch 15/100\n",
            "36/36 [==============================] - 0s 2ms/step - loss: 0.4624 - accuracy: 0.8538\n",
            "Epoch 16/100\n",
            "36/36 [==============================] - 0s 2ms/step - loss: 0.4439 - accuracy: 0.8599\n",
            "Epoch 17/100\n",
            "36/36 [==============================] - 0s 2ms/step - loss: 0.4251 - accuracy: 0.8651\n",
            "Epoch 18/100\n",
            "36/36 [==============================] - 0s 2ms/step - loss: 0.4072 - accuracy: 0.8747\n",
            "Epoch 19/100\n",
            "36/36 [==============================] - 0s 2ms/step - loss: 0.3898 - accuracy: 0.8825\n",
            "Epoch 20/100\n",
            "36/36 [==============================] - 0s 2ms/step - loss: 0.3732 - accuracy: 0.8816\n",
            "Epoch 21/100\n",
            "36/36 [==============================] - 0s 3ms/step - loss: 0.3577 - accuracy: 0.8851\n",
            "Epoch 22/100\n",
            "36/36 [==============================] - 0s 2ms/step - loss: 0.3431 - accuracy: 0.8912\n",
            "Epoch 23/100\n",
            "36/36 [==============================] - 0s 2ms/step - loss: 0.3303 - accuracy: 0.8895\n",
            "Epoch 24/100\n",
            "36/36 [==============================] - 0s 2ms/step - loss: 0.3192 - accuracy: 0.8886\n",
            "Epoch 25/100\n",
            "36/36 [==============================] - 0s 2ms/step - loss: 0.3085 - accuracy: 0.8895\n",
            "Epoch 26/100\n",
            "36/36 [==============================] - 0s 2ms/step - loss: 0.2993 - accuracy: 0.8947\n",
            "Epoch 27/100\n",
            "36/36 [==============================] - 0s 2ms/step - loss: 0.2901 - accuracy: 0.8947\n",
            "Epoch 28/100\n",
            "36/36 [==============================] - 0s 2ms/step - loss: 0.2822 - accuracy: 0.8999\n",
            "Epoch 29/100\n",
            "36/36 [==============================] - 0s 2ms/step - loss: 0.2756 - accuracy: 0.8990\n",
            "Epoch 30/100\n",
            "36/36 [==============================] - 0s 2ms/step - loss: 0.2698 - accuracy: 0.9017\n",
            "Epoch 31/100\n",
            "36/36 [==============================] - 0s 2ms/step - loss: 0.2637 - accuracy: 0.9008\n",
            "Epoch 32/100\n",
            "36/36 [==============================] - 0s 2ms/step - loss: 0.2580 - accuracy: 0.9034\n",
            "Epoch 33/100\n",
            "36/36 [==============================] - 0s 2ms/step - loss: 0.2539 - accuracy: 0.9025\n",
            "Epoch 34/100\n",
            "36/36 [==============================] - 0s 2ms/step - loss: 0.2484 - accuracy: 0.9060\n",
            "Epoch 35/100\n",
            "36/36 [==============================] - 0s 2ms/step - loss: 0.2462 - accuracy: 0.9034\n",
            "Epoch 36/100\n",
            "36/36 [==============================] - 0s 2ms/step - loss: 0.2419 - accuracy: 0.9051\n",
            "Epoch 37/100\n",
            "36/36 [==============================] - 0s 2ms/step - loss: 0.2379 - accuracy: 0.9077\n",
            "Epoch 38/100\n",
            "36/36 [==============================] - 0s 2ms/step - loss: 0.2355 - accuracy: 0.9069\n",
            "Epoch 39/100\n",
            "36/36 [==============================] - 0s 2ms/step - loss: 0.2326 - accuracy: 0.9077\n",
            "Epoch 40/100\n",
            "36/36 [==============================] - 0s 2ms/step - loss: 0.2292 - accuracy: 0.9069\n",
            "Epoch 41/100\n",
            "36/36 [==============================] - 0s 2ms/step - loss: 0.2280 - accuracy: 0.9095\n",
            "Epoch 42/100\n",
            "36/36 [==============================] - 0s 2ms/step - loss: 0.2247 - accuracy: 0.9112\n",
            "Epoch 43/100\n",
            "36/36 [==============================] - 0s 2ms/step - loss: 0.2225 - accuracy: 0.9130\n",
            "Epoch 44/100\n",
            "36/36 [==============================] - 0s 2ms/step - loss: 0.2199 - accuracy: 0.9138\n",
            "Epoch 45/100\n",
            "36/36 [==============================] - 0s 2ms/step - loss: 0.2175 - accuracy: 0.9138\n",
            "Epoch 46/100\n",
            "36/36 [==============================] - 0s 2ms/step - loss: 0.2162 - accuracy: 0.9138\n",
            "Epoch 47/100\n",
            "36/36 [==============================] - 0s 2ms/step - loss: 0.2143 - accuracy: 0.9147\n",
            "Epoch 48/100\n",
            "36/36 [==============================] - 0s 2ms/step - loss: 0.2123 - accuracy: 0.9173\n",
            "Epoch 49/100\n",
            "36/36 [==============================] - 0s 2ms/step - loss: 0.2107 - accuracy: 0.9130\n",
            "Epoch 50/100\n",
            "36/36 [==============================] - 0s 2ms/step - loss: 0.2086 - accuracy: 0.9112\n",
            "Epoch 51/100\n",
            "36/36 [==============================] - 0s 2ms/step - loss: 0.2072 - accuracy: 0.9156\n",
            "Epoch 52/100\n",
            "36/36 [==============================] - 0s 2ms/step - loss: 0.2060 - accuracy: 0.9156\n",
            "Epoch 53/100\n",
            "36/36 [==============================] - 0s 2ms/step - loss: 0.2050 - accuracy: 0.9138\n",
            "Epoch 54/100\n",
            "36/36 [==============================] - 0s 2ms/step - loss: 0.2033 - accuracy: 0.9182\n",
            "Epoch 55/100\n",
            "36/36 [==============================] - 0s 2ms/step - loss: 0.2021 - accuracy: 0.9164\n",
            "Epoch 56/100\n",
            "36/36 [==============================] - 0s 2ms/step - loss: 0.1993 - accuracy: 0.9182\n",
            "Epoch 57/100\n",
            "36/36 [==============================] - 0s 2ms/step - loss: 0.1981 - accuracy: 0.9208\n",
            "Epoch 58/100\n",
            "36/36 [==============================] - 0s 2ms/step - loss: 0.1969 - accuracy: 0.9182\n",
            "Epoch 59/100\n",
            "36/36 [==============================] - 0s 2ms/step - loss: 0.1949 - accuracy: 0.9182\n",
            "Epoch 60/100\n",
            "36/36 [==============================] - 0s 2ms/step - loss: 0.1945 - accuracy: 0.9208\n",
            "Epoch 61/100\n",
            "36/36 [==============================] - 0s 2ms/step - loss: 0.1942 - accuracy: 0.9208\n",
            "Epoch 62/100\n",
            "36/36 [==============================] - 0s 2ms/step - loss: 0.1919 - accuracy: 0.9199\n",
            "Epoch 63/100\n",
            "36/36 [==============================] - 0s 2ms/step - loss: 0.1900 - accuracy: 0.9208\n",
            "Epoch 64/100\n",
            "36/36 [==============================] - 0s 2ms/step - loss: 0.1886 - accuracy: 0.9199\n",
            "Epoch 65/100\n",
            "36/36 [==============================] - 0s 2ms/step - loss: 0.1877 - accuracy: 0.9234\n",
            "Epoch 66/100\n",
            "36/36 [==============================] - 0s 2ms/step - loss: 0.1863 - accuracy: 0.9217\n",
            "Epoch 67/100\n",
            "36/36 [==============================] - 0s 2ms/step - loss: 0.1858 - accuracy: 0.9225\n",
            "Epoch 68/100\n",
            "36/36 [==============================] - 0s 2ms/step - loss: 0.1823 - accuracy: 0.9243\n",
            "Epoch 69/100\n",
            "36/36 [==============================] - 0s 2ms/step - loss: 0.1843 - accuracy: 0.9243\n",
            "Epoch 70/100\n",
            "36/36 [==============================] - 0s 2ms/step - loss: 0.1804 - accuracy: 0.9260\n",
            "Epoch 71/100\n",
            "36/36 [==============================] - 0s 2ms/step - loss: 0.1798 - accuracy: 0.9278\n",
            "Epoch 72/100\n",
            "36/36 [==============================] - 0s 2ms/step - loss: 0.1797 - accuracy: 0.9252\n",
            "Epoch 73/100\n",
            "36/36 [==============================] - 0s 2ms/step - loss: 0.1789 - accuracy: 0.9243\n",
            "Epoch 74/100\n",
            "36/36 [==============================] - 0s 3ms/step - loss: 0.1768 - accuracy: 0.9252\n",
            "Epoch 75/100\n",
            "36/36 [==============================] - 0s 2ms/step - loss: 0.1751 - accuracy: 0.9225\n",
            "Epoch 76/100\n",
            "36/36 [==============================] - 0s 2ms/step - loss: 0.1735 - accuracy: 0.9278\n",
            "Epoch 77/100\n",
            "36/36 [==============================] - 0s 2ms/step - loss: 0.1742 - accuracy: 0.9260\n",
            "Epoch 78/100\n",
            "36/36 [==============================] - 0s 2ms/step - loss: 0.1714 - accuracy: 0.9278\n",
            "Epoch 79/100\n",
            "36/36 [==============================] - 0s 2ms/step - loss: 0.1707 - accuracy: 0.9269\n",
            "Epoch 80/100\n",
            "36/36 [==============================] - 0s 2ms/step - loss: 0.1696 - accuracy: 0.9278\n",
            "Epoch 81/100\n",
            "36/36 [==============================] - 0s 2ms/step - loss: 0.1680 - accuracy: 0.9295\n",
            "Epoch 82/100\n",
            "36/36 [==============================] - 0s 2ms/step - loss: 0.1666 - accuracy: 0.9339\n",
            "Epoch 83/100\n",
            "36/36 [==============================] - 0s 2ms/step - loss: 0.1658 - accuracy: 0.9312\n",
            "Epoch 84/100\n",
            "36/36 [==============================] - 0s 2ms/step - loss: 0.1633 - accuracy: 0.9347\n",
            "Epoch 85/100\n",
            "36/36 [==============================] - 0s 2ms/step - loss: 0.1640 - accuracy: 0.9339\n",
            "Epoch 86/100\n",
            "36/36 [==============================] - 0s 2ms/step - loss: 0.1619 - accuracy: 0.9382\n",
            "Epoch 87/100\n",
            "36/36 [==============================] - 0s 2ms/step - loss: 0.1610 - accuracy: 0.9347\n",
            "Epoch 88/100\n",
            "36/36 [==============================] - 0s 2ms/step - loss: 0.1589 - accuracy: 0.9365\n",
            "Epoch 89/100\n",
            "36/36 [==============================] - 0s 2ms/step - loss: 0.1585 - accuracy: 0.9330\n",
            "Epoch 90/100\n",
            "36/36 [==============================] - 0s 2ms/step - loss: 0.1568 - accuracy: 0.9373\n",
            "Epoch 91/100\n",
            "36/36 [==============================] - 0s 2ms/step - loss: 0.1562 - accuracy: 0.9382\n",
            "Epoch 92/100\n",
            "36/36 [==============================] - 0s 2ms/step - loss: 0.1544 - accuracy: 0.9417\n",
            "Epoch 93/100\n",
            "36/36 [==============================] - 0s 2ms/step - loss: 0.1534 - accuracy: 0.9391\n",
            "Epoch 94/100\n",
            "36/36 [==============================] - 0s 2ms/step - loss: 0.1521 - accuracy: 0.9391\n",
            "Epoch 95/100\n",
            "36/36 [==============================] - 0s 2ms/step - loss: 0.1510 - accuracy: 0.9417\n",
            "Epoch 96/100\n",
            "36/36 [==============================] - 0s 2ms/step - loss: 0.1493 - accuracy: 0.9382\n",
            "Epoch 97/100\n",
            "36/36 [==============================] - 0s 2ms/step - loss: 0.1497 - accuracy: 0.9460\n",
            "Epoch 98/100\n",
            "36/36 [==============================] - 0s 3ms/step - loss: 0.1476 - accuracy: 0.9434\n",
            "Epoch 99/100\n",
            "36/36 [==============================] - 0s 2ms/step - loss: 0.1457 - accuracy: 0.9478\n",
            "Epoch 100/100\n",
            "36/36 [==============================] - 0s 2ms/step - loss: 0.1451 - accuracy: 0.9417\n"
          ]
        }
      ],
      "source": [
        "model = Sequential()\n",
        "model.add(Dense(12, activation='relu', input_dim=64))\n",
        "model.add(Dense(8, activation='relu'))\n",
        "model.add(Dense(1, activation='sigmoid'))\n",
        "\n",
        "model.compile(optimizer='SGD',\n",
        "              loss='binary_crossentropy',\n",
        "              metrics=['accuracy'])\n",
        "\n",
        "# Assign the variable history to store the results,\n",
        "# and set verbose=1 so we can see the output.\n",
        "results = model.fit(X_pure_train, y_pure_train, epochs=100, batch_size=None, verbose=1)"
      ]
    },
    {
      "cell_type": "code",
      "execution_count": 24,
      "metadata": {
        "id": "pwCoZn7K10Pr",
        "outputId": "ac36fc4d-120a-432e-de2d-0e0a4ab168b7",
        "colab": {
          "base_uri": "https://localhost:8080/",
          "height": 321
        }
      },
      "outputs": [
        {
          "output_type": "display_data",
          "data": {
            "text/plain": [
              "<Figure size 720x360 with 2 Axes>"
            ],
            "image/png": "[encoded data removed]"
          },
          "metadata": {
            "needs_background": "light"
          }
        }
      ],
      "source": [
        "sigmoid_loss = results.history['loss']\n",
        "sigmoid_accuracy = results.history['accuracy']\n",
        "\n",
        "fig, (ax1, ax2) = plt.subplots(1, 2, figsize=(10, 5))\n",
        "sns.lineplot(x=results.epoch, y=sigmoid_loss, ax=ax1, label='loss')\n",
        "sns.lineplot(x=results.epoch, y=sigmoid_accuracy, ax=ax2, label='accuracy');"
      ]
    },
    {
      "cell_type": "markdown",
      "metadata": {
        "id": "Qgtit9GP10Ps"
      },
      "source": [
        "If we increase the learning rate to a very high number, we see that our model overshoots the minimum, and starts bouncing all around."
      ]
    },
    {
      "cell_type": "code",
      "execution_count": 25,
      "metadata": {
        "id": "BlyH2sbg10Ps",
        "outputId": "e34c6dfe-8380-4cc6-95a2-c0d2995ad6e1",
        "colab": {
          "base_uri": "https://localhost:8080/",
          "height": 1000
        }
      },
      "outputs": [
        {
          "output_type": "stream",
          "name": "stdout",
          "text": [
            "Epoch 1/30\n"
          ]
        },
        {
          "output_type": "stream",
          "name": "stderr",
          "text": [
            "/usr/local/lib/python3.8/dist-packages/keras/optimizers/optimizer_v2/gradient_descent.py:108: UserWarning: The `lr` argument is deprecated, use `learning_rate` instead.\n",
            "  super(SGD, self).__init__(name, **kwargs)\n"
          ]
        },
        {
          "output_type": "stream",
          "name": "stdout",
          "text": [
            "115/115 [==============================] - 1s 2ms/step - loss: 1.3741 - accuracy: 0.5248\n",
            "Epoch 2/30\n",
            "115/115 [==============================] - 0s 2ms/step - loss: 1.1246 - accuracy: 0.4787\n",
            "Epoch 3/30\n",
            "115/115 [==============================] - 0s 2ms/step - loss: 0.9364 - accuracy: 0.5083\n",
            "Epoch 4/30\n",
            "115/115 [==============================] - 0s 2ms/step - loss: 1.0306 - accuracy: 0.4900\n",
            "Epoch 5/30\n",
            "115/115 [==============================] - 0s 2ms/step - loss: 0.9459 - accuracy: 0.5074\n",
            "Epoch 6/30\n",
            "115/115 [==============================] - 0s 2ms/step - loss: 0.9208 - accuracy: 0.5205\n",
            "Epoch 7/30\n",
            "115/115 [==============================] - 0s 2ms/step - loss: 0.9843 - accuracy: 0.5048\n",
            "Epoch 8/30\n",
            "115/115 [==============================] - 0s 2ms/step - loss: 1.1690 - accuracy: 0.4430\n",
            "Epoch 9/30\n",
            "115/115 [==============================] - 0s 2ms/step - loss: 1.0227 - accuracy: 0.4865\n",
            "Epoch 10/30\n",
            "115/115 [==============================] - 0s 2ms/step - loss: 1.0239 - accuracy: 0.4891\n",
            "Epoch 11/30\n",
            "115/115 [==============================] - 0s 2ms/step - loss: 1.0159 - accuracy: 0.5057\n",
            "Epoch 12/30\n",
            "115/115 [==============================] - 0s 2ms/step - loss: 0.9368 - accuracy: 0.5187\n",
            "Epoch 13/30\n",
            "115/115 [==============================] - 0s 2ms/step - loss: 0.9605 - accuracy: 0.5161\n",
            "Epoch 14/30\n",
            "115/115 [==============================] - 0s 2ms/step - loss: 0.8768 - accuracy: 0.5178\n",
            "Epoch 15/30\n",
            "115/115 [==============================] - 0s 2ms/step - loss: 0.9824 - accuracy: 0.5196\n",
            "Epoch 16/30\n",
            "115/115 [==============================] - 0s 3ms/step - loss: 1.0321 - accuracy: 0.4804\n",
            "Epoch 17/30\n",
            "115/115 [==============================] - 0s 3ms/step - loss: 0.9179 - accuracy: 0.5265\n",
            "Epoch 18/30\n",
            "115/115 [==============================] - 0s 3ms/step - loss: 1.0266 - accuracy: 0.4804\n",
            "Epoch 19/30\n",
            "115/115 [==============================] - 0s 3ms/step - loss: 1.0040 - accuracy: 0.5126\n",
            "Epoch 20/30\n",
            "115/115 [==============================] - 0s 3ms/step - loss: 1.0916 - accuracy: 0.4761\n",
            "Epoch 21/30\n",
            "115/115 [==============================] - 0s 3ms/step - loss: 0.9575 - accuracy: 0.5161\n",
            "Epoch 22/30\n",
            "115/115 [==============================] - 0s 3ms/step - loss: 0.9623 - accuracy: 0.5117\n",
            "Epoch 23/30\n",
            "115/115 [==============================] - 0s 3ms/step - loss: 0.9105 - accuracy: 0.5292\n",
            "Epoch 24/30\n",
            "115/115 [==============================] - 0s 3ms/step - loss: 1.0238 - accuracy: 0.4978\n",
            "Epoch 25/30\n",
            "115/115 [==============================] - 0s 2ms/step - loss: 0.9815 - accuracy: 0.4900\n",
            "Epoch 26/30\n",
            "115/115 [==============================] - 0s 2ms/step - loss: 1.0514 - accuracy: 0.4909\n",
            "Epoch 27/30\n",
            "115/115 [==============================] - 0s 2ms/step - loss: 1.0772 - accuracy: 0.4848\n",
            "Epoch 28/30\n",
            "115/115 [==============================] - 0s 2ms/step - loss: 1.1102 - accuracy: 0.4900\n",
            "Epoch 29/30\n",
            "115/115 [==============================] - 0s 2ms/step - loss: 1.0497 - accuracy: 0.4865\n",
            "Epoch 30/30\n",
            "115/115 [==============================] - 0s 2ms/step - loss: 0.9125 - accuracy: 0.5222\n"
          ]
        },
        {
          "output_type": "display_data",
          "data": {
            "text/plain": [
              "<Figure size 720x360 with 2 Axes>"
            ],
            "image/png": "[encoded data removed]"
          },
          "metadata": {
            "needs_background": "light"
          }
        }
      ],
      "source": [
        "model = Sequential()\n",
        "\n",
        "sgd = SGD(lr=9)\n",
        "model.add(Dense(12, activation='relu', input_dim=64))\n",
        "model.add(Dense(8, activation='relu'))\n",
        "model.add(Dense(1, activation='sigmoid'))\n",
        "\n",
        "model.compile(optimizer=sgd,\n",
        "              loss='binary_crossentropy',\n",
        "              metrics=['accuracy'])\n",
        "\n",
        "results = model.fit(X_pure_train, y_pure_train,\n",
        "                    epochs=30, batch_size=10, verbose=1)\n",
        "\n",
        "relu_loss = results.history['loss']\n",
        "relu_accuracy = results.history['accuracy']\n",
        "\n",
        "fig, (ax1, ax2) = plt.subplots(1, 2, figsize=(10, 5))\n",
        "sns.lineplot(x=results.epoch, y=relu_loss, ax=ax1, label='loss')\n",
        "sns.lineplot(x=results.epoch, y=relu_accuracy, ax=ax2, label='accuracy');"
      ]
    },
    {
      "cell_type": "markdown",
      "metadata": {
        "id": "bc40fpIW10Ps"
      },
      "source": [
        "### Exercise\n",
        "\n",
        "We have been looking only at our training set. Let's add in our validation set to the picture. Check the docstring for the `.fit()` method and add in our validation data."
      ]
    },
    {
      "cell_type": "code",
      "execution_count": 26,
      "metadata": {
        "id": "JiBkIiUn10Ps",
        "outputId": "2515bd7f-23db-4737-81ad-8e76907c702d",
        "colab": {
          "base_uri": "https://localhost:8080/",
          "height": 1000
        }
      },
      "outputs": [
        {
          "output_type": "stream",
          "name": "stdout",
          "text": [
            "Epoch 1/30\n",
            "115/115 [==============================] - 2s 8ms/step - loss: 0.6644 - accuracy: 0.5213 - val_loss: 0.6139 - val_accuracy: 0.6285\n",
            "Epoch 2/30\n",
            "115/115 [==============================] - 0s 4ms/step - loss: 0.5590 - accuracy: 0.7337 - val_loss: 0.4811 - val_accuracy: 0.8299\n",
            "Epoch 3/30\n",
            "115/115 [==============================] - 0s 3ms/step - loss: 0.4490 - accuracy: 0.8712 - val_loss: 0.4002 - val_accuracy: 0.8993\n",
            "Epoch 4/30\n",
            "115/115 [==============================] - 0s 3ms/step - loss: 0.3666 - accuracy: 0.9104 - val_loss: 0.3322 - val_accuracy: 0.9097\n",
            "Epoch 5/30\n",
            "115/115 [==============================] - 0s 3ms/step - loss: 0.2979 - accuracy: 0.9199 - val_loss: 0.2763 - val_accuracy: 0.9271\n",
            "Epoch 6/30\n",
            "115/115 [==============================] - 0s 3ms/step - loss: 0.2389 - accuracy: 0.9330 - val_loss: 0.2488 - val_accuracy: 0.9236\n",
            "Epoch 7/30\n",
            "115/115 [==============================] - 0s 3ms/step - loss: 0.1979 - accuracy: 0.9347 - val_loss: 0.1981 - val_accuracy: 0.9236\n",
            "Epoch 8/30\n",
            "115/115 [==============================] - 0s 3ms/step - loss: 0.1714 - accuracy: 0.9408 - val_loss: 0.1823 - val_accuracy: 0.9306\n",
            "Epoch 9/30\n",
            "115/115 [==============================] - 0s 3ms/step - loss: 0.1507 - accuracy: 0.9487 - val_loss: 0.1965 - val_accuracy: 0.9201\n",
            "Epoch 10/30\n",
            "115/115 [==============================] - 0s 3ms/step - loss: 0.1370 - accuracy: 0.9513 - val_loss: 0.1622 - val_accuracy: 0.9306\n",
            "Epoch 11/30\n",
            "115/115 [==============================] - 0s 3ms/step - loss: 0.1263 - accuracy: 0.9556 - val_loss: 0.1523 - val_accuracy: 0.9375\n",
            "Epoch 12/30\n",
            "115/115 [==============================] - 0s 3ms/step - loss: 0.1172 - accuracy: 0.9530 - val_loss: 0.1332 - val_accuracy: 0.9375\n",
            "Epoch 13/30\n",
            "115/115 [==============================] - 0s 3ms/step - loss: 0.1058 - accuracy: 0.9600 - val_loss: 0.1149 - val_accuracy: 0.9479\n",
            "Epoch 14/30\n",
            "115/115 [==============================] - 0s 3ms/step - loss: 0.0944 - accuracy: 0.9608 - val_loss: 0.1121 - val_accuracy: 0.9549\n",
            "Epoch 15/30\n",
            "115/115 [==============================] - 0s 3ms/step - loss: 0.0874 - accuracy: 0.9626 - val_loss: 0.1030 - val_accuracy: 0.9618\n",
            "Epoch 16/30\n",
            "115/115 [==============================] - 0s 3ms/step - loss: 0.0805 - accuracy: 0.9643 - val_loss: 0.1008 - val_accuracy: 0.9549\n",
            "Epoch 17/30\n",
            "115/115 [==============================] - 0s 3ms/step - loss: 0.0734 - accuracy: 0.9669 - val_loss: 0.0967 - val_accuracy: 0.9549\n",
            "Epoch 18/30\n",
            "115/115 [==============================] - 0s 3ms/step - loss: 0.0628 - accuracy: 0.9756 - val_loss: 0.0810 - val_accuracy: 0.9618\n",
            "Epoch 19/30\n",
            "115/115 [==============================] - 0s 3ms/step - loss: 0.0557 - accuracy: 0.9817 - val_loss: 0.0808 - val_accuracy: 0.9618\n",
            "Epoch 20/30\n",
            "115/115 [==============================] - 0s 3ms/step - loss: 0.0484 - accuracy: 0.9852 - val_loss: 0.0723 - val_accuracy: 0.9688\n",
            "Epoch 21/30\n",
            "115/115 [==============================] - 0s 3ms/step - loss: 0.0415 - accuracy: 0.9896 - val_loss: 0.0641 - val_accuracy: 0.9757\n",
            "Epoch 22/30\n",
            "115/115 [==============================] - 0s 3ms/step - loss: 0.0397 - accuracy: 0.9869 - val_loss: 0.0625 - val_accuracy: 0.9757\n",
            "Epoch 23/30\n",
            "115/115 [==============================] - 0s 3ms/step - loss: 0.0328 - accuracy: 0.9930 - val_loss: 0.0634 - val_accuracy: 0.9757\n",
            "Epoch 24/30\n",
            "115/115 [==============================] - 0s 3ms/step - loss: 0.0304 - accuracy: 0.9930 - val_loss: 0.0603 - val_accuracy: 0.9792\n",
            "Epoch 25/30\n",
            "115/115 [==============================] - 0s 3ms/step - loss: 0.0283 - accuracy: 0.9948 - val_loss: 0.0609 - val_accuracy: 0.9757\n",
            "Epoch 26/30\n",
            "115/115 [==============================] - 0s 3ms/step - loss: 0.0254 - accuracy: 0.9948 - val_loss: 0.0650 - val_accuracy: 0.9792\n",
            "Epoch 27/30\n",
            "115/115 [==============================] - 0s 3ms/step - loss: 0.0218 - accuracy: 0.9956 - val_loss: 0.0625 - val_accuracy: 0.9757\n",
            "Epoch 28/30\n",
            "115/115 [==============================] - 0s 3ms/step - loss: 0.0180 - accuracy: 0.9974 - val_loss: 0.0525 - val_accuracy: 0.9792\n",
            "Epoch 29/30\n",
            "115/115 [==============================] - 0s 3ms/step - loss: 0.0184 - accuracy: 0.9948 - val_loss: 0.0511 - val_accuracy: 0.9792\n",
            "Epoch 30/30\n",
            "115/115 [==============================] - 0s 3ms/step - loss: 0.0163 - accuracy: 0.9983 - val_loss: 0.0539 - val_accuracy: 0.9826\n"
          ]
        },
        {
          "output_type": "display_data",
          "data": {
            "text/plain": [
              "<Figure size 720x360 with 2 Axes>"
            ],
            "image/png": "[encoded data removed]"
          },
          "metadata": {
            "needs_background": "light"
          }
        }
      ],
      "source": [
        "model = Sequential()\n",
        "model.add(Dense(12, activation='relu', input_dim=64))\n",
        "model.add(Dense(8, activation='relu'))\n",
        "model.add(Dense(4, activation='relu'))\n",
        "model.add(Dense(1, activation='sigmoid'))\n",
        "\n",
        "model.compile(optimizer='adam',\n",
        "              loss='binary_crossentropy',\n",
        "              metrics=['accuracy'])\n",
        "\n",
        "results = model.fit(X_pure_train, y_pure_train, validation_data=(X_val, y_val),\n",
        "                    epochs=30, batch_size=10, verbose=1)\n",
        "\n",
        "train_loss = results.history['loss']\n",
        "train_acc = results.history['accuracy']\n",
        "val_loss = results.history['val_loss']\n",
        "val_acc = results.history['val_accuracy']\n",
        "\n",
        "fig, (ax1, ax2) = plt.subplots(1, 2, figsize=(10, 5))\n",
        "sns.lineplot(x=results.epoch, y=train_loss, ax=ax1, label='train_loss')\n",
        "sns.lineplot(x=results.epoch, y=train_acc, ax=ax2, label='train_accuracy')\n",
        "\n",
        "sns.lineplot(x=results.epoch, y=val_loss, ax=ax1, label='val_loss')\n",
        "sns.lineplot(x=results.epoch, y=val_acc, ax=ax2, label='val_accuracy');"
      ]
    },
    {
      "cell_type": "markdown",
      "metadata": {
        "id": "JbVhOg-F10Ps"
      },
      "source": [
        "<details>\n",
        "    <summary>One answer here</summary>\n",
        "<code>model = Sequential()\n",
        "model.add(Dense(12, activation='relu', input_dim=64))\n",
        "model.add(Dense(8, activation='relu'))\n",
        "model.add(Dense(4, activation='relu'))\n",
        "model.add(Dense(1, activation='sigmoid'))\n",
        "model.compile(optimizer='adam',\n",
        "              loss='binary_crossentropy',\n",
        "              metrics=['accuracy'])\n",
        "results = model.fit(X_pure_train, y_pure_train,\n",
        "                   validation_data=(X_val, y_val),\n",
        "                   epochs=30, batch_size=10)\n",
        "train_loss = results.history['loss']\n",
        "train_acc = results.history['accuracy']\n",
        "val_loss = results.history['val_loss']\n",
        "val_acc = results.history['val_accuracy']\n",
        "fig, (ax1, ax2) = plt.subplots(1, 2, figsize=(10, 5))\n",
        "sns.lineplot(x=results.epoch, y=train_loss, ax=ax1, label='train_loss')\n",
        "sns.lineplot(x=results.epoch, y=train_acc, ax=ax2, label='train_accuracy')\n",
        "sns.lineplot(x=results.epoch, y=val_loss, ax=ax1, label='val_loss')\n",
        "sns.lineplot(x=results.epoch, y=val_acc, ax=ax2, label='val_accuracy');</code>\n",
        "</details>"
      ]
    },
    {
      "cell_type": "code",
      "execution_count": 27,
      "metadata": {
        "id": "waXgwk7k10Ps",
        "outputId": "bfa95ac5-aa04-412c-f2f8-eaa55491eab8",
        "colab": {
          "base_uri": "https://localhost:8080/"
        }
      },
      "outputs": [
        {
          "output_type": "execute_result",
          "data": {
            "text/plain": [
              "0.9826388955116272"
            ]
          },
          "metadata": {},
          "execution_count": 27
        }
      ],
      "source": [
        "results.history['val_accuracy'][-1]"
      ]
    },
    {
      "cell_type": "markdown",
      "metadata": {
        "id": "xsRGn7Uj10Ps"
      },
      "source": [
        "## Connecting with `sklearn`\n",
        "\n",
        "The `keras.wrappers` submodule means that we can turn `keras` models into estimators that `sklearn` tools will recognize."
      ]
    },
    {
      "cell_type": "code",
      "execution_count": 28,
      "metadata": {
        "id": "wnS_7pBM10Ps",
        "outputId": "8257d7ac-f411-4300-daab-4c7d912a7bed",
        "colab": {
          "base_uri": "https://localhost:8080/",
          "height": 451
        }
      },
      "outputs": [
        {
          "output_type": "error",
          "ename": "TypeError",
          "evalue": "ignored",
          "traceback": [
            "\u001b[0;31m---------------------------------------------------------------------------\u001b[0m",
            "\u001b[0;31mEmpty\u001b[0m                                     Traceback (most recent call last)",
            "\u001b[0;32m/usr/local/lib/python3.8/dist-packages/joblib/parallel.py\u001b[0m in \u001b[0;36mdispatch_one_batch\u001b[0;34m(self, iterator)\u001b[0m\n\u001b[1;32m    861\u001b[0m             \u001b[0;32mtry\u001b[0m\u001b[0;34m:\u001b[0m\u001b[0;34m\u001b[0m\u001b[0;34m\u001b[0m\u001b[0m\n\u001b[0;32m--> 862\u001b[0;31m                 \u001b[0mtasks\u001b[0m \u001b[0;34m=\u001b[0m \u001b[0mself\u001b[0m\u001b[0;34m.\u001b[0m\u001b[0m_ready_batches\u001b[0m\u001b[0;34m.\u001b[0m\u001b[0mget\u001b[0m\u001b[0;34m(\u001b[0m\u001b[0mblock\u001b[0m\u001b[0;34m=\u001b[0m\u001b[0;32mFalse\u001b[0m\u001b[0;34m)\u001b[0m\u001b[0;34m\u001b[0m\u001b[0;34m\u001b[0m\u001b[0m\n\u001b[0m\u001b[1;32m    863\u001b[0m             \u001b[0;32mexcept\u001b[0m \u001b[0mqueue\u001b[0m\u001b[0;34m.\u001b[0m\u001b[0mEmpty\u001b[0m\u001b[0;34m:\u001b[0m\u001b[0;34m\u001b[0m\u001b[0;34m\u001b[0m\u001b[0m\n",
            "\u001b[0;32m/usr/lib/python3.8/queue.py\u001b[0m in \u001b[0;36mget\u001b[0;34m(self, block, timeout)\u001b[0m\n\u001b[1;32m    166\u001b[0m                 \u001b[0;32mif\u001b[0m \u001b[0;32mnot\u001b[0m \u001b[0mself\u001b[0m\u001b[0;34m.\u001b[0m\u001b[0m_qsize\u001b[0m\u001b[0;34m(\u001b[0m\u001b[0;34m)\u001b[0m\u001b[0;34m:\u001b[0m\u001b[0;34m\u001b[0m\u001b[0;34m\u001b[0m\u001b[0m\n\u001b[0;32m--> 167\u001b[0;31m                     \u001b[0;32mraise\u001b[0m \u001b[0mEmpty\u001b[0m\u001b[0;34m\u001b[0m\u001b[0;34m\u001b[0m\u001b[0m\n\u001b[0m\u001b[1;32m    168\u001b[0m             \u001b[0;32melif\u001b[0m \u001b[0mtimeout\u001b[0m \u001b[0;32mis\u001b[0m \u001b[0;32mNone\u001b[0m\u001b[0;34m:\u001b[0m\u001b[0;34m\u001b[0m\u001b[0;34m\u001b[0m\u001b[0m\n",
            "\u001b[0;31mEmpty\u001b[0m: ",
            "\nDuring handling of the above exception, another exception occurred:\n",
            "\u001b[0;31mTypeError\u001b[0m                                 Traceback (most recent call last)",
            "\u001b[0;32m<ipython-input-28-d437ef7338da>\u001b[0m in \u001b[0;36m<module>\u001b[0;34m\u001b[0m\n\u001b[1;32m      1\u001b[0m \u001b[0;31m# This will throw an error.\u001b[0m\u001b[0;34m\u001b[0m\u001b[0;34m\u001b[0m\u001b[0;34m\u001b[0m\u001b[0m\n\u001b[1;32m      2\u001b[0m \u001b[0;34m\u001b[0m\u001b[0m\n\u001b[0;32m----> 3\u001b[0;31m \u001b[0mcross_val_score\u001b[0m\u001b[0;34m(\u001b[0m\u001b[0mmodel\u001b[0m\u001b[0;34m,\u001b[0m \u001b[0mX_pure_train\u001b[0m\u001b[0;34m,\u001b[0m \u001b[0my_pure_train\u001b[0m\u001b[0;34m,\u001b[0m \u001b[0mscoring\u001b[0m \u001b[0;34m=\u001b[0m \u001b[0;34m'accuracy'\u001b[0m\u001b[0;34m)\u001b[0m\u001b[0;34m\u001b[0m\u001b[0;34m\u001b[0m\u001b[0m\n\u001b[0m",
            "\u001b[0;32m/usr/local/lib/python3.8/dist-packages/sklearn/model_selection/_validation.py\u001b[0m in \u001b[0;36mcross_val_score\u001b[0;34m(estimator, X, y, groups, scoring, cv, n_jobs, verbose, fit_params, pre_dispatch, error_score)\u001b[0m\n\u001b[1;32m    507\u001b[0m     \u001b[0mscorer\u001b[0m \u001b[0;34m=\u001b[0m \u001b[0mcheck_scoring\u001b[0m\u001b[0;34m(\u001b[0m\u001b[0mestimator\u001b[0m\u001b[0;34m,\u001b[0m \u001b[0mscoring\u001b[0m\u001b[0;34m=\u001b[0m\u001b[0mscoring\u001b[0m\u001b[0;34m)\u001b[0m\u001b[0;34m\u001b[0m\u001b[0;34m\u001b[0m\u001b[0m\n\u001b[1;32m    508\u001b[0m \u001b[0;34m\u001b[0m\u001b[0m\n\u001b[0;32m--> 509\u001b[0;31m     cv_results = cross_validate(\n\u001b[0m\u001b[1;32m    510\u001b[0m         \u001b[0mestimator\u001b[0m\u001b[0;34m=\u001b[0m\u001b[0mestimator\u001b[0m\u001b[0;34m,\u001b[0m\u001b[0;34m\u001b[0m\u001b[0;34m\u001b[0m\u001b[0m\n\u001b[1;32m    511\u001b[0m         \u001b[0mX\u001b[0m\u001b[0;34m=\u001b[0m\u001b[0mX\u001b[0m\u001b[0;34m,\u001b[0m\u001b[0;34m\u001b[0m\u001b[0;34m\u001b[0m\u001b[0m\n",
            "\u001b[0;32m/usr/local/lib/python3.8/dist-packages/sklearn/model_selection/_validation.py\u001b[0m in \u001b[0;36mcross_validate\u001b[0;34m(estimator, X, y, groups, scoring, cv, n_jobs, verbose, fit_params, pre_dispatch, return_train_score, return_estimator, error_score)\u001b[0m\n\u001b[1;32m    265\u001b[0m     \u001b[0;31m# independent, and that it is pickle-able.\u001b[0m\u001b[0;34m\u001b[0m\u001b[0;34m\u001b[0m\u001b[0;34m\u001b[0m\u001b[0m\n\u001b[1;32m    266\u001b[0m     \u001b[0mparallel\u001b[0m \u001b[0;34m=\u001b[0m \u001b[0mParallel\u001b[0m\u001b[0;34m(\u001b[0m\u001b[0mn_jobs\u001b[0m\u001b[0;34m=\u001b[0m\u001b[0mn_jobs\u001b[0m\u001b[0;34m,\u001b[0m \u001b[0mverbose\u001b[0m\u001b[0;34m=\u001b[0m\u001b[0mverbose\u001b[0m\u001b[0;34m,\u001b[0m \u001b[0mpre_dispatch\u001b[0m\u001b[0;34m=\u001b[0m\u001b[0mpre_dispatch\u001b[0m\u001b[0;34m)\u001b[0m\u001b[0;34m\u001b[0m\u001b[0;34m\u001b[0m\u001b[0m\n\u001b[0;32m--> 267\u001b[0;31m     results = parallel(\n\u001b[0m\u001b[1;32m    268\u001b[0m         delayed(_fit_and_score)(\n\u001b[1;32m    269\u001b[0m             \u001b[0mclone\u001b[0m\u001b[0;34m(\u001b[0m\u001b[0mestimator\u001b[0m\u001b[0;34m)\u001b[0m\u001b[0;34m,\u001b[0m\u001b[0;34m\u001b[0m\u001b[0;34m\u001b[0m\u001b[0m\n",
            "\u001b[0;32m/usr/local/lib/python3.8/dist-packages/joblib/parallel.py\u001b[0m in \u001b[0;36m__call__\u001b[0;34m(self, iterable)\u001b[0m\n\u001b[1;32m   1083\u001b[0m             \u001b[0;31m# remaining jobs.\u001b[0m\u001b[0;34m\u001b[0m\u001b[0;34m\u001b[0m\u001b[0;34m\u001b[0m\u001b[0m\n\u001b[1;32m   1084\u001b[0m             \u001b[0mself\u001b[0m\u001b[0;34m.\u001b[0m\u001b[0m_iterating\u001b[0m \u001b[0;34m=\u001b[0m \u001b[0;32mFalse\u001b[0m\u001b[0;34m\u001b[0m\u001b[0;34m\u001b[0m\u001b[0m\n\u001b[0;32m-> 1085\u001b[0;31m             \u001b[0;32mif\u001b[0m \u001b[0mself\u001b[0m\u001b[0;34m.\u001b[0m\u001b[0mdispatch_one_batch\u001b[0m\u001b[0;34m(\u001b[0m\u001b[0miterator\u001b[0m\u001b[0;34m)\u001b[0m\u001b[0;34m:\u001b[0m\u001b[0;34m\u001b[0m\u001b[0;34m\u001b[0m\u001b[0m\n\u001b[0m\u001b[1;32m   1086\u001b[0m                 \u001b[0mself\u001b[0m\u001b[0;34m.\u001b[0m\u001b[0m_iterating\u001b[0m \u001b[0;34m=\u001b[0m \u001b[0mself\u001b[0m\u001b[0;34m.\u001b[0m\u001b[0m_original_iterator\u001b[0m \u001b[0;32mis\u001b[0m \u001b[0;32mnot\u001b[0m \u001b[0;32mNone\u001b[0m\u001b[0;34m\u001b[0m\u001b[0;34m\u001b[0m\u001b[0m\n\u001b[1;32m   1087\u001b[0m \u001b[0;34m\u001b[0m\u001b[0m\n",
            "\u001b[0;32m/usr/local/lib/python3.8/dist-packages/joblib/parallel.py\u001b[0m in \u001b[0;36mdispatch_one_batch\u001b[0;34m(self, iterator)\u001b[0m\n\u001b[1;32m    871\u001b[0m                 \u001b[0mbig_batch_size\u001b[0m \u001b[0;34m=\u001b[0m \u001b[0mbatch_size\u001b[0m \u001b[0;34m*\u001b[0m \u001b[0mn_jobs\u001b[0m\u001b[0;34m\u001b[0m\u001b[0;34m\u001b[0m\u001b[0m\n\u001b[1;32m    872\u001b[0m \u001b[0;34m\u001b[0m\u001b[0m\n\u001b[0;32m--> 873\u001b[0;31m                 \u001b[0mislice\u001b[0m \u001b[0;34m=\u001b[0m \u001b[0mlist\u001b[0m\u001b[0;34m(\u001b[0m\u001b[0mitertools\u001b[0m\u001b[0;34m.\u001b[0m\u001b[0mislice\u001b[0m\u001b[0;34m(\u001b[0m\u001b[0miterator\u001b[0m\u001b[0;34m,\u001b[0m \u001b[0mbig_batch_size\u001b[0m\u001b[0;34m)\u001b[0m\u001b[0;34m)\u001b[0m\u001b[0;34m\u001b[0m\u001b[0;34m\u001b[0m\u001b[0m\n\u001b[0m\u001b[1;32m    874\u001b[0m                 \u001b[0;32mif\u001b[0m \u001b[0mlen\u001b[0m\u001b[0;34m(\u001b[0m\u001b[0mislice\u001b[0m\u001b[0;34m)\u001b[0m \u001b[0;34m==\u001b[0m \u001b[0;36m0\u001b[0m\u001b[0;34m:\u001b[0m\u001b[0;34m\u001b[0m\u001b[0;34m\u001b[0m\u001b[0m\n\u001b[1;32m    875\u001b[0m                     \u001b[0;32mreturn\u001b[0m \u001b[0;32mFalse\u001b[0m\u001b[0;34m\u001b[0m\u001b[0;34m\u001b[0m\u001b[0m\n",
            "\u001b[0;32m/usr/local/lib/python3.8/dist-packages/sklearn/model_selection/_validation.py\u001b[0m in \u001b[0;36m<genexpr>\u001b[0;34m(.0)\u001b[0m\n\u001b[1;32m    267\u001b[0m     results = parallel(\n\u001b[1;32m    268\u001b[0m         delayed(_fit_and_score)(\n\u001b[0;32m--> 269\u001b[0;31m             \u001b[0mclone\u001b[0m\u001b[0;34m(\u001b[0m\u001b[0mestimator\u001b[0m\u001b[0;34m)\u001b[0m\u001b[0;34m,\u001b[0m\u001b[0;34m\u001b[0m\u001b[0;34m\u001b[0m\u001b[0m\n\u001b[0m\u001b[1;32m    270\u001b[0m             \u001b[0mX\u001b[0m\u001b[0;34m,\u001b[0m\u001b[0;34m\u001b[0m\u001b[0;34m\u001b[0m\u001b[0m\n\u001b[1;32m    271\u001b[0m             \u001b[0my\u001b[0m\u001b[0;34m,\u001b[0m\u001b[0;34m\u001b[0m\u001b[0;34m\u001b[0m\u001b[0m\n",
            "\u001b[0;32m/usr/local/lib/python3.8/dist-packages/sklearn/base.py\u001b[0m in \u001b[0;36mclone\u001b[0;34m(estimator, safe)\u001b[0m\n\u001b[1;32m     74\u001b[0m                 )\n\u001b[1;32m     75\u001b[0m             \u001b[0;32melse\u001b[0m\u001b[0;34m:\u001b[0m\u001b[0;34m\u001b[0m\u001b[0;34m\u001b[0m\u001b[0m\n\u001b[0;32m---> 76\u001b[0;31m                 raise TypeError(\n\u001b[0m\u001b[1;32m     77\u001b[0m                     \u001b[0;34m\"Cannot clone object '%s' (type %s): \"\u001b[0m\u001b[0;34m\u001b[0m\u001b[0;34m\u001b[0m\u001b[0m\n\u001b[1;32m     78\u001b[0m                     \u001b[0;34m\"it does not seem to be a scikit-learn \"\u001b[0m\u001b[0;34m\u001b[0m\u001b[0;34m\u001b[0m\u001b[0m\n",
            "\u001b[0;31mTypeError\u001b[0m: Cannot clone object '<keras.engine.sequential.Sequential object at 0x7ffa7ea7c700>' (type <class 'keras.engine.sequential.Sequential'>): it does not seem to be a scikit-learn estimator as it does not implement a 'get_params' method."
          ]
        }
      ],
      "source": [
        "# This will throw an error.\n",
        "\n",
        "cross_val_score(model, X_pure_train, y_pure_train, scoring = 'accuracy')"
      ]
    },
    {
      "cell_type": "code",
      "execution_count": 29,
      "metadata": {
        "id": "av0SunAL10Pt"
      },
      "outputs": [],
      "source": [
        "def build_model():\n",
        "    model = Sequential()\n",
        "    model.add(Dense(12, activation='relu', input_dim=64))\n",
        "    model.add(Dense(8, activation='relu'))\n",
        "    model.add(Dense(4, activation='relu'))\n",
        "    model.add(Dense(1, activation = 'sigmoid'))\n",
        "\n",
        "    model.compile(optimizer='adam',\n",
        "                  loss='binary_crossentropy',\n",
        "                  metrics=['accuracy'])\n",
        "    return model"
      ]
    },
    {
      "cell_type": "code",
      "execution_count": 30,
      "metadata": {
        "id": "zt3b99kH10Pt",
        "outputId": "fd913f57-2111-4290-8cdc-9d350b8230b3",
        "colab": {
          "base_uri": "https://localhost:8080/"
        }
      },
      "outputs": [
        {
          "output_type": "stream",
          "name": "stderr",
          "text": [
            "<ipython-input-30-9939e0b5e565>:1: DeprecationWarning: KerasClassifier is deprecated, use Sci-Keras (https://github.com/adriangb/scikeras) instead. See https://www.adriangb.com/scikeras/stable/migration.html for help migrating.\n",
            "  keras_model = scikit_learn.KerasClassifier(build_model,\n"
          ]
        }
      ],
      "source": [
        "keras_model = scikit_learn.KerasClassifier(build_model,\n",
        "                                           epochs=50,\n",
        "                                           batch_size=32,\n",
        "                                           verbose=2)"
      ]
    },
    {
      "cell_type": "code",
      "execution_count": 31,
      "metadata": {
        "id": "411iYUsX10Pt",
        "outputId": "bcb1e3c6-dd01-4567-ba39-0223a5c9c6df",
        "colab": {
          "base_uri": "https://localhost:8080/"
        }
      },
      "outputs": [
        {
          "output_type": "execute_result",
          "data": {
            "text/plain": [
              "keras.wrappers.scikit_learn.KerasClassifier"
            ]
          },
          "metadata": {},
          "execution_count": 31
        }
      ],
      "source": [
        "type(keras_model)"
      ]
    },
    {
      "cell_type": "code",
      "execution_count": 32,
      "metadata": {
        "id": "ZORqTZQa10Pt",
        "outputId": "66796f18-b550-4f3b-f4c6-28a0eac274b1",
        "colab": {
          "base_uri": "https://localhost:8080/"
        }
      },
      "outputs": [
        {
          "output_type": "stream",
          "name": "stdout",
          "text": [
            "Epoch 1/50\n",
            "29/29 - 1s - loss: 0.6620 - accuracy: 0.6583 - 621ms/epoch - 21ms/step\n",
            "Epoch 2/50\n",
            "29/29 - 0s - loss: 0.6054 - accuracy: 0.7737 - 67ms/epoch - 2ms/step\n",
            "Epoch 3/50\n",
            "29/29 - 0s - loss: 0.5185 - accuracy: 0.8259 - 67ms/epoch - 2ms/step\n",
            "Epoch 4/50\n",
            "29/29 - 0s - loss: 0.4223 - accuracy: 0.8564 - 64ms/epoch - 2ms/step\n",
            "Epoch 5/50\n",
            "29/29 - 0s - loss: 0.3443 - accuracy: 0.8836 - 63ms/epoch - 2ms/step\n",
            "Epoch 6/50\n",
            "29/29 - 0s - loss: 0.2956 - accuracy: 0.8923 - 63ms/epoch - 2ms/step\n",
            "Epoch 7/50\n",
            "29/29 - 0s - loss: 0.2579 - accuracy: 0.9119 - 57ms/epoch - 2ms/step\n",
            "Epoch 8/50\n",
            "29/29 - 0s - loss: 0.2350 - accuracy: 0.9173 - 68ms/epoch - 2ms/step\n",
            "Epoch 9/50\n",
            "29/29 - 0s - loss: 0.2141 - accuracy: 0.9238 - 62ms/epoch - 2ms/step\n",
            "Epoch 10/50\n",
            "29/29 - 0s - loss: 0.1987 - accuracy: 0.9293 - 62ms/epoch - 2ms/step\n",
            "Epoch 11/50\n",
            "29/29 - 0s - loss: 0.1852 - accuracy: 0.9347 - 56ms/epoch - 2ms/step\n",
            "Epoch 12/50\n",
            "29/29 - 0s - loss: 0.1743 - accuracy: 0.9369 - 68ms/epoch - 2ms/step\n",
            "Epoch 13/50\n",
            "29/29 - 0s - loss: 0.1616 - accuracy: 0.9445 - 65ms/epoch - 2ms/step\n",
            "Epoch 14/50\n",
            "29/29 - 0s - loss: 0.1563 - accuracy: 0.9456 - 57ms/epoch - 2ms/step\n",
            "Epoch 15/50\n",
            "29/29 - 0s - loss: 0.1399 - accuracy: 0.9543 - 66ms/epoch - 2ms/step\n",
            "Epoch 16/50\n",
            "29/29 - 0s - loss: 0.1335 - accuracy: 0.9532 - 64ms/epoch - 2ms/step\n",
            "Epoch 17/50\n",
            "29/29 - 0s - loss: 0.1230 - accuracy: 0.9565 - 57ms/epoch - 2ms/step\n",
            "Epoch 18/50\n",
            "29/29 - 0s - loss: 0.1169 - accuracy: 0.9597 - 61ms/epoch - 2ms/step\n",
            "Epoch 19/50\n",
            "29/29 - 0s - loss: 0.1088 - accuracy: 0.9608 - 58ms/epoch - 2ms/step\n",
            "Epoch 20/50\n",
            "29/29 - 0s - loss: 0.1021 - accuracy: 0.9641 - 59ms/epoch - 2ms/step\n",
            "Epoch 21/50\n",
            "29/29 - 0s - loss: 0.0965 - accuracy: 0.9652 - 61ms/epoch - 2ms/step\n",
            "Epoch 22/50\n",
            "29/29 - 0s - loss: 0.0927 - accuracy: 0.9641 - 67ms/epoch - 2ms/step\n",
            "Epoch 23/50\n",
            "29/29 - 0s - loss: 0.0856 - accuracy: 0.9706 - 59ms/epoch - 2ms/step\n",
            "Epoch 24/50\n",
            "29/29 - 0s - loss: 0.0810 - accuracy: 0.9739 - 58ms/epoch - 2ms/step\n",
            "Epoch 25/50\n",
            "29/29 - 0s - loss: 0.0767 - accuracy: 0.9750 - 61ms/epoch - 2ms/step\n",
            "Epoch 26/50\n",
            "29/29 - 0s - loss: 0.0752 - accuracy: 0.9728 - 61ms/epoch - 2ms/step\n",
            "Epoch 27/50\n",
            "29/29 - 0s - loss: 0.0695 - accuracy: 0.9761 - 65ms/epoch - 2ms/step\n",
            "Epoch 28/50\n",
            "29/29 - 0s - loss: 0.0665 - accuracy: 0.9804 - 66ms/epoch - 2ms/step\n",
            "Epoch 29/50\n",
            "29/29 - 0s - loss: 0.0613 - accuracy: 0.9837 - 58ms/epoch - 2ms/step\n",
            "Epoch 30/50\n",
            "29/29 - 0s - loss: 0.0582 - accuracy: 0.9815 - 63ms/epoch - 2ms/step\n",
            "Epoch 31/50\n",
            "29/29 - 0s - loss: 0.0560 - accuracy: 0.9826 - 63ms/epoch - 2ms/step\n",
            "Epoch 32/50\n",
            "29/29 - 0s - loss: 0.0534 - accuracy: 0.9859 - 71ms/epoch - 2ms/step\n",
            "Epoch 33/50\n",
            "29/29 - 0s - loss: 0.0510 - accuracy: 0.9848 - 66ms/epoch - 2ms/step\n",
            "Epoch 34/50\n",
            "29/29 - 0s - loss: 0.0475 - accuracy: 0.9869 - 66ms/epoch - 2ms/step\n",
            "Epoch 35/50\n",
            "29/29 - 0s - loss: 0.0456 - accuracy: 0.9837 - 60ms/epoch - 2ms/step\n",
            "Epoch 36/50\n",
            "29/29 - 0s - loss: 0.0434 - accuracy: 0.9869 - 64ms/epoch - 2ms/step\n",
            "Epoch 37/50\n",
            "29/29 - 0s - loss: 0.0418 - accuracy: 0.9869 - 69ms/epoch - 2ms/step\n",
            "Epoch 38/50\n",
            "29/29 - 0s - loss: 0.0391 - accuracy: 0.9869 - 56ms/epoch - 2ms/step\n",
            "Epoch 39/50\n",
            "29/29 - 0s - loss: 0.0375 - accuracy: 0.9859 - 68ms/epoch - 2ms/step\n",
            "Epoch 40/50\n",
            "29/29 - 0s - loss: 0.0380 - accuracy: 0.9891 - 59ms/epoch - 2ms/step\n",
            "Epoch 41/50\n",
            "29/29 - 0s - loss: 0.0344 - accuracy: 0.9880 - 66ms/epoch - 2ms/step\n",
            "Epoch 42/50\n",
            "29/29 - 0s - loss: 0.0317 - accuracy: 0.9902 - 59ms/epoch - 2ms/step\n",
            "Epoch 43/50\n",
            "29/29 - 0s - loss: 0.0312 - accuracy: 0.9913 - 55ms/epoch - 2ms/step\n",
            "Epoch 44/50\n",
            "29/29 - 0s - loss: 0.0298 - accuracy: 0.9924 - 63ms/epoch - 2ms/step\n",
            "Epoch 45/50\n",
            "29/29 - 0s - loss: 0.0299 - accuracy: 0.9902 - 53ms/epoch - 2ms/step\n",
            "Epoch 46/50\n",
            "29/29 - 0s - loss: 0.0257 - accuracy: 0.9913 - 58ms/epoch - 2ms/step\n",
            "Epoch 47/50\n",
            "29/29 - 0s - loss: 0.0244 - accuracy: 0.9924 - 68ms/epoch - 2ms/step\n",
            "Epoch 48/50\n",
            "29/29 - 0s - loss: 0.0239 - accuracy: 0.9946 - 65ms/epoch - 2ms/step\n",
            "Epoch 49/50\n",
            "29/29 - 0s - loss: 0.0224 - accuracy: 0.9956 - 62ms/epoch - 2ms/step\n",
            "Epoch 50/50\n",
            "29/29 - 0s - loss: 0.0213 - accuracy: 0.9946 - 66ms/epoch - 2ms/step\n",
            "8/8 - 0s - loss: 0.1157 - accuracy: 0.9739 - 150ms/epoch - 19ms/step\n",
            "Epoch 1/50\n",
            "29/29 - 1s - loss: 0.6719 - accuracy: 0.6224 - 558ms/epoch - 19ms/step\n",
            "Epoch 2/50\n",
            "29/29 - 0s - loss: 0.6050 - accuracy: 0.7552 - 59ms/epoch - 2ms/step\n",
            "Epoch 3/50\n",
            "29/29 - 0s - loss: 0.5137 - accuracy: 0.8052 - 73ms/epoch - 3ms/step\n",
            "Epoch 4/50\n",
            "29/29 - 0s - loss: 0.4253 - accuracy: 0.8357 - 53ms/epoch - 2ms/step\n",
            "Epoch 5/50\n",
            "29/29 - 0s - loss: 0.3526 - accuracy: 0.8672 - 65ms/epoch - 2ms/step\n",
            "Epoch 6/50\n",
            "29/29 - 0s - loss: 0.3017 - accuracy: 0.8868 - 62ms/epoch - 2ms/step\n",
            "Epoch 7/50\n",
            "29/29 - 0s - loss: 0.2629 - accuracy: 0.9021 - 57ms/epoch - 2ms/step\n",
            "Epoch 8/50\n",
            "29/29 - 0s - loss: 0.2358 - accuracy: 0.9075 - 57ms/epoch - 2ms/step\n",
            "Epoch 9/50\n",
            "29/29 - 0s - loss: 0.2114 - accuracy: 0.9184 - 54ms/epoch - 2ms/step\n",
            "Epoch 10/50\n",
            "29/29 - 0s - loss: 0.1929 - accuracy: 0.9206 - 62ms/epoch - 2ms/step\n",
            "Epoch 11/50\n",
            "29/29 - 0s - loss: 0.1752 - accuracy: 0.9304 - 61ms/epoch - 2ms/step\n",
            "Epoch 12/50\n",
            "29/29 - 0s - loss: 0.1605 - accuracy: 0.9358 - 74ms/epoch - 3ms/step\n",
            "Epoch 13/50\n",
            "29/29 - 0s - loss: 0.1502 - accuracy: 0.9423 - 64ms/epoch - 2ms/step\n",
            "Epoch 14/50\n",
            "29/29 - 0s - loss: 0.1406 - accuracy: 0.9467 - 63ms/epoch - 2ms/step\n",
            "Epoch 15/50\n",
            "29/29 - 0s - loss: 0.1324 - accuracy: 0.9521 - 59ms/epoch - 2ms/step\n",
            "Epoch 16/50\n",
            "29/29 - 0s - loss: 0.1290 - accuracy: 0.9456 - 77ms/epoch - 3ms/step\n",
            "Epoch 17/50\n",
            "29/29 - 0s - loss: 0.1264 - accuracy: 0.9532 - 61ms/epoch - 2ms/step\n",
            "Epoch 18/50\n",
            "29/29 - 0s - loss: 0.1161 - accuracy: 0.9576 - 65ms/epoch - 2ms/step\n",
            "Epoch 19/50\n",
            "29/29 - 0s - loss: 0.1185 - accuracy: 0.9521 - 64ms/epoch - 2ms/step\n",
            "Epoch 20/50\n",
            "29/29 - 0s - loss: 0.1075 - accuracy: 0.9576 - 60ms/epoch - 2ms/step\n",
            "Epoch 21/50\n",
            "29/29 - 0s - loss: 0.1033 - accuracy: 0.9619 - 63ms/epoch - 2ms/step\n",
            "Epoch 22/50\n",
            "29/29 - 0s - loss: 0.0975 - accuracy: 0.9619 - 54ms/epoch - 2ms/step\n",
            "Epoch 23/50\n",
            "29/29 - 0s - loss: 0.0976 - accuracy: 0.9641 - 60ms/epoch - 2ms/step\n",
            "Epoch 24/50\n",
            "29/29 - 0s - loss: 0.0919 - accuracy: 0.9663 - 61ms/epoch - 2ms/step\n",
            "Epoch 25/50\n",
            "29/29 - 0s - loss: 0.0944 - accuracy: 0.9674 - 56ms/epoch - 2ms/step\n",
            "Epoch 26/50\n",
            "29/29 - 0s - loss: 0.0889 - accuracy: 0.9684 - 64ms/epoch - 2ms/step\n",
            "Epoch 27/50\n",
            "29/29 - 0s - loss: 0.0886 - accuracy: 0.9695 - 68ms/epoch - 2ms/step\n",
            "Epoch 28/50\n",
            "29/29 - 0s - loss: 0.0859 - accuracy: 0.9684 - 61ms/epoch - 2ms/step\n",
            "Epoch 29/50\n",
            "29/29 - 0s - loss: 0.0776 - accuracy: 0.9728 - 55ms/epoch - 2ms/step\n",
            "Epoch 30/50\n",
            "29/29 - 0s - loss: 0.0756 - accuracy: 0.9739 - 90ms/epoch - 3ms/step\n",
            "Epoch 31/50\n",
            "29/29 - 0s - loss: 0.0735 - accuracy: 0.9739 - 107ms/epoch - 4ms/step\n",
            "Epoch 32/50\n",
            "29/29 - 0s - loss: 0.0730 - accuracy: 0.9761 - 107ms/epoch - 4ms/step\n",
            "Epoch 33/50\n",
            "29/29 - 0s - loss: 0.0705 - accuracy: 0.9771 - 108ms/epoch - 4ms/step\n",
            "Epoch 34/50\n",
            "29/29 - 0s - loss: 0.0679 - accuracy: 0.9750 - 109ms/epoch - 4ms/step\n",
            "Epoch 35/50\n",
            "29/29 - 0s - loss: 0.0665 - accuracy: 0.9771 - 101ms/epoch - 3ms/step\n",
            "Epoch 36/50\n",
            "29/29 - 0s - loss: 0.0620 - accuracy: 0.9771 - 105ms/epoch - 4ms/step\n",
            "Epoch 37/50\n",
            "29/29 - 0s - loss: 0.0650 - accuracy: 0.9771 - 109ms/epoch - 4ms/step\n",
            "Epoch 38/50\n",
            "29/29 - 0s - loss: 0.0615 - accuracy: 0.9761 - 94ms/epoch - 3ms/step\n",
            "Epoch 39/50\n",
            "29/29 - 0s - loss: 0.0598 - accuracy: 0.9815 - 98ms/epoch - 3ms/step\n",
            "Epoch 40/50\n",
            "29/29 - 0s - loss: 0.0761 - accuracy: 0.9674 - 118ms/epoch - 4ms/step\n",
            "Epoch 41/50\n",
            "29/29 - 0s - loss: 0.0624 - accuracy: 0.9739 - 111ms/epoch - 4ms/step\n",
            "Epoch 42/50\n",
            "29/29 - 0s - loss: 0.0571 - accuracy: 0.9771 - 101ms/epoch - 3ms/step\n",
            "Epoch 43/50\n",
            "29/29 - 0s - loss: 0.0527 - accuracy: 0.9837 - 102ms/epoch - 4ms/step\n",
            "Epoch 44/50\n",
            "29/29 - 0s - loss: 0.0505 - accuracy: 0.9848 - 100ms/epoch - 3ms/step\n",
            "Epoch 45/50\n",
            "29/29 - 0s - loss: 0.0562 - accuracy: 0.9804 - 103ms/epoch - 4ms/step\n",
            "Epoch 46/50\n",
            "29/29 - 0s - loss: 0.0487 - accuracy: 0.9837 - 96ms/epoch - 3ms/step\n",
            "Epoch 47/50\n",
            "29/29 - 0s - loss: 0.0496 - accuracy: 0.9848 - 92ms/epoch - 3ms/step\n",
            "Epoch 48/50\n",
            "29/29 - 0s - loss: 0.0476 - accuracy: 0.9859 - 91ms/epoch - 3ms/step\n",
            "Epoch 49/50\n",
            "29/29 - 0s - loss: 0.0477 - accuracy: 0.9837 - 94ms/epoch - 3ms/step\n",
            "Epoch 50/50\n",
            "29/29 - 0s - loss: 0.0430 - accuracy: 0.9880 - 104ms/epoch - 4ms/step\n",
            "8/8 - 0s - loss: 0.1211 - accuracy: 0.9435 - 158ms/epoch - 20ms/step\n",
            "Epoch 1/50\n",
            "29/29 - 1s - loss: 0.6658 - accuracy: 0.5234 - 573ms/epoch - 20ms/step\n",
            "Epoch 2/50\n",
            "29/29 - 0s - loss: 0.6312 - accuracy: 0.6496 - 65ms/epoch - 2ms/step\n",
            "Epoch 3/50\n",
            "29/29 - 0s - loss: 0.5934 - accuracy: 0.7236 - 67ms/epoch - 2ms/step\n",
            "Epoch 4/50\n",
            "29/29 - 0s - loss: 0.5513 - accuracy: 0.7987 - 63ms/epoch - 2ms/step\n",
            "Epoch 5/50\n",
            "29/29 - 0s - loss: 0.5112 - accuracy: 0.8237 - 66ms/epoch - 2ms/step\n",
            "Epoch 6/50\n",
            "29/29 - 0s - loss: 0.4719 - accuracy: 0.8487 - 61ms/epoch - 2ms/step\n",
            "Epoch 7/50\n",
            "29/29 - 0s - loss: 0.4302 - accuracy: 0.8683 - 65ms/epoch - 2ms/step\n",
            "Epoch 8/50\n",
            "29/29 - 0s - loss: 0.3784 - accuracy: 0.8912 - 57ms/epoch - 2ms/step\n",
            "Epoch 9/50\n",
            "29/29 - 0s - loss: 0.3186 - accuracy: 0.9021 - 54ms/epoch - 2ms/step\n",
            "Epoch 10/50\n",
            "29/29 - 0s - loss: 0.2778 - accuracy: 0.9042 - 68ms/epoch - 2ms/step\n",
            "Epoch 11/50\n",
            "29/29 - 0s - loss: 0.2471 - accuracy: 0.9075 - 61ms/epoch - 2ms/step\n",
            "Epoch 12/50\n",
            "29/29 - 0s - loss: 0.2233 - accuracy: 0.9227 - 57ms/epoch - 2ms/step\n",
            "Epoch 13/50\n",
            "29/29 - 0s - loss: 0.2069 - accuracy: 0.9238 - 61ms/epoch - 2ms/step\n",
            "Epoch 14/50\n",
            "29/29 - 0s - loss: 0.2045 - accuracy: 0.9195 - 60ms/epoch - 2ms/step\n",
            "Epoch 15/50\n",
            "29/29 - 0s - loss: 0.1928 - accuracy: 0.9173 - 63ms/epoch - 2ms/step\n",
            "Epoch 16/50\n",
            "29/29 - 0s - loss: 0.1787 - accuracy: 0.9325 - 54ms/epoch - 2ms/step\n",
            "Epoch 17/50\n",
            "29/29 - 0s - loss: 0.1715 - accuracy: 0.9391 - 59ms/epoch - 2ms/step\n",
            "Epoch 18/50\n",
            "29/29 - 0s - loss: 0.1625 - accuracy: 0.9336 - 58ms/epoch - 2ms/step\n",
            "Epoch 19/50\n",
            "29/29 - 0s - loss: 0.1540 - accuracy: 0.9391 - 62ms/epoch - 2ms/step\n",
            "Epoch 20/50\n",
            "29/29 - 0s - loss: 0.1552 - accuracy: 0.9412 - 79ms/epoch - 3ms/step\n",
            "Epoch 21/50\n",
            "29/29 - 0s - loss: 0.1438 - accuracy: 0.9489 - 63ms/epoch - 2ms/step\n",
            "Epoch 22/50\n",
            "29/29 - 0s - loss: 0.1388 - accuracy: 0.9445 - 68ms/epoch - 2ms/step\n",
            "Epoch 23/50\n",
            "29/29 - 0s - loss: 0.1338 - accuracy: 0.9489 - 52ms/epoch - 2ms/step\n",
            "Epoch 24/50\n",
            "29/29 - 0s - loss: 0.1279 - accuracy: 0.9521 - 58ms/epoch - 2ms/step\n",
            "Epoch 25/50\n",
            "29/29 - 0s - loss: 0.1259 - accuracy: 0.9499 - 68ms/epoch - 2ms/step\n",
            "Epoch 26/50\n",
            "29/29 - 0s - loss: 0.1202 - accuracy: 0.9576 - 56ms/epoch - 2ms/step\n",
            "Epoch 27/50\n",
            "29/29 - 0s - loss: 0.1138 - accuracy: 0.9597 - 70ms/epoch - 2ms/step\n",
            "Epoch 28/50\n",
            "29/29 - 0s - loss: 0.1164 - accuracy: 0.9554 - 54ms/epoch - 2ms/step\n",
            "Epoch 29/50\n",
            "29/29 - 0s - loss: 0.1075 - accuracy: 0.9641 - 67ms/epoch - 2ms/step\n",
            "Epoch 30/50\n",
            "29/29 - 0s - loss: 0.1077 - accuracy: 0.9619 - 55ms/epoch - 2ms/step\n",
            "Epoch 31/50\n",
            "29/29 - 0s - loss: 0.1017 - accuracy: 0.9630 - 78ms/epoch - 3ms/step\n",
            "Epoch 32/50\n",
            "29/29 - 0s - loss: 0.0997 - accuracy: 0.9652 - 58ms/epoch - 2ms/step\n",
            "Epoch 33/50\n",
            "29/29 - 0s - loss: 0.0970 - accuracy: 0.9663 - 68ms/epoch - 2ms/step\n",
            "Epoch 34/50\n",
            "29/29 - 0s - loss: 0.0934 - accuracy: 0.9674 - 67ms/epoch - 2ms/step\n",
            "Epoch 35/50\n",
            "29/29 - 0s - loss: 0.0940 - accuracy: 0.9641 - 76ms/epoch - 3ms/step\n",
            "Epoch 36/50\n",
            "29/29 - 0s - loss: 0.0886 - accuracy: 0.9663 - 55ms/epoch - 2ms/step\n",
            "Epoch 37/50\n",
            "29/29 - 0s - loss: 0.0878 - accuracy: 0.9717 - 56ms/epoch - 2ms/step\n",
            "Epoch 38/50\n",
            "29/29 - 0s - loss: 0.0811 - accuracy: 0.9706 - 54ms/epoch - 2ms/step\n",
            "Epoch 39/50\n",
            "29/29 - 0s - loss: 0.0797 - accuracy: 0.9717 - 56ms/epoch - 2ms/step\n",
            "Epoch 40/50\n",
            "29/29 - 0s - loss: 0.0824 - accuracy: 0.9684 - 56ms/epoch - 2ms/step\n",
            "Epoch 41/50\n",
            "29/29 - 0s - loss: 0.0756 - accuracy: 0.9728 - 60ms/epoch - 2ms/step\n",
            "Epoch 42/50\n",
            "29/29 - 0s - loss: 0.0722 - accuracy: 0.9739 - 77ms/epoch - 3ms/step\n",
            "Epoch 43/50\n",
            "29/29 - 0s - loss: 0.0699 - accuracy: 0.9750 - 64ms/epoch - 2ms/step\n",
            "Epoch 44/50\n",
            "29/29 - 0s - loss: 0.0682 - accuracy: 0.9750 - 67ms/epoch - 2ms/step\n",
            "Epoch 45/50\n",
            "29/29 - 0s - loss: 0.0669 - accuracy: 0.9750 - 57ms/epoch - 2ms/step\n",
            "Epoch 46/50\n",
            "29/29 - 0s - loss: 0.0650 - accuracy: 0.9761 - 57ms/epoch - 2ms/step\n",
            "Epoch 47/50\n",
            "29/29 - 0s - loss: 0.0631 - accuracy: 0.9782 - 59ms/epoch - 2ms/step\n",
            "Epoch 48/50\n",
            "29/29 - 0s - loss: 0.0657 - accuracy: 0.9793 - 59ms/epoch - 2ms/step\n",
            "Epoch 49/50\n",
            "29/29 - 0s - loss: 0.0608 - accuracy: 0.9804 - 60ms/epoch - 2ms/step\n",
            "Epoch 50/50\n",
            "29/29 - 0s - loss: 0.0587 - accuracy: 0.9815 - 63ms/epoch - 2ms/step\n",
            "8/8 - 0s - loss: 0.0843 - accuracy: 0.9609 - 163ms/epoch - 20ms/step\n",
            "Epoch 1/50\n",
            "29/29 - 1s - loss: 0.6739 - accuracy: 0.5332 - 582ms/epoch - 20ms/step\n",
            "Epoch 2/50\n",
            "29/29 - 0s - loss: 0.6356 - accuracy: 0.6605 - 62ms/epoch - 2ms/step\n",
            "Epoch 3/50\n",
            "29/29 - 0s - loss: 0.5876 - accuracy: 0.7486 - 74ms/epoch - 3ms/step\n",
            "Epoch 4/50\n",
            "29/29 - 0s - loss: 0.5262 - accuracy: 0.8172 - 64ms/epoch - 2ms/step\n",
            "Epoch 5/50\n",
            "29/29 - 0s - loss: 0.4545 - accuracy: 0.8716 - 62ms/epoch - 2ms/step\n",
            "Epoch 6/50\n",
            "29/29 - 0s - loss: 0.3782 - accuracy: 0.8857 - 58ms/epoch - 2ms/step\n",
            "Epoch 7/50\n",
            "29/29 - 0s - loss: 0.3115 - accuracy: 0.9064 - 77ms/epoch - 3ms/step\n",
            "Epoch 8/50\n",
            "29/29 - 0s - loss: 0.2650 - accuracy: 0.9129 - 59ms/epoch - 2ms/step\n",
            "Epoch 9/50\n",
            "29/29 - 0s - loss: 0.2389 - accuracy: 0.9195 - 60ms/epoch - 2ms/step\n",
            "Epoch 10/50\n",
            "29/29 - 0s - loss: 0.2225 - accuracy: 0.9217 - 57ms/epoch - 2ms/step\n",
            "Epoch 11/50\n",
            "29/29 - 0s - loss: 0.2094 - accuracy: 0.9217 - 58ms/epoch - 2ms/step\n",
            "Epoch 12/50\n",
            "29/29 - 0s - loss: 0.1950 - accuracy: 0.9271 - 63ms/epoch - 2ms/step\n",
            "Epoch 13/50\n",
            "29/29 - 0s - loss: 0.1840 - accuracy: 0.9314 - 62ms/epoch - 2ms/step\n",
            "Epoch 14/50\n",
            "29/29 - 0s - loss: 0.1750 - accuracy: 0.9412 - 64ms/epoch - 2ms/step\n",
            "Epoch 15/50\n",
            "29/29 - 0s - loss: 0.1644 - accuracy: 0.9347 - 62ms/epoch - 2ms/step\n",
            "Epoch 16/50\n",
            "29/29 - 0s - loss: 0.1576 - accuracy: 0.9347 - 65ms/epoch - 2ms/step\n",
            "Epoch 17/50\n",
            "29/29 - 0s - loss: 0.1510 - accuracy: 0.9380 - 70ms/epoch - 2ms/step\n",
            "Epoch 18/50\n",
            "29/29 - 0s - loss: 0.1438 - accuracy: 0.9412 - 63ms/epoch - 2ms/step\n",
            "Epoch 19/50\n",
            "29/29 - 0s - loss: 0.1345 - accuracy: 0.9445 - 70ms/epoch - 2ms/step\n",
            "Epoch 20/50\n",
            "29/29 - 0s - loss: 0.1290 - accuracy: 0.9489 - 70ms/epoch - 2ms/step\n",
            "Epoch 21/50\n",
            "29/29 - 0s - loss: 0.1217 - accuracy: 0.9597 - 64ms/epoch - 2ms/step\n",
            "Epoch 22/50\n",
            "29/29 - 0s - loss: 0.1141 - accuracy: 0.9554 - 67ms/epoch - 2ms/step\n",
            "Epoch 23/50\n",
            "29/29 - 0s - loss: 0.1062 - accuracy: 0.9608 - 61ms/epoch - 2ms/step\n",
            "Epoch 24/50\n",
            "29/29 - 0s - loss: 0.1003 - accuracy: 0.9674 - 66ms/epoch - 2ms/step\n",
            "Epoch 25/50\n",
            "29/29 - 0s - loss: 0.0926 - accuracy: 0.9663 - 62ms/epoch - 2ms/step\n",
            "Epoch 26/50\n",
            "29/29 - 0s - loss: 0.0922 - accuracy: 0.9706 - 57ms/epoch - 2ms/step\n",
            "Epoch 27/50\n",
            "29/29 - 0s - loss: 0.0899 - accuracy: 0.9695 - 65ms/epoch - 2ms/step\n",
            "Epoch 28/50\n",
            "29/29 - 0s - loss: 0.0840 - accuracy: 0.9761 - 56ms/epoch - 2ms/step\n",
            "Epoch 29/50\n",
            "29/29 - 0s - loss: 0.0782 - accuracy: 0.9739 - 70ms/epoch - 2ms/step\n",
            "Epoch 30/50\n",
            "29/29 - 0s - loss: 0.0736 - accuracy: 0.9739 - 68ms/epoch - 2ms/step\n",
            "Epoch 31/50\n",
            "29/29 - 0s - loss: 0.0709 - accuracy: 0.9804 - 77ms/epoch - 3ms/step\n",
            "Epoch 32/50\n",
            "29/29 - 0s - loss: 0.0698 - accuracy: 0.9782 - 66ms/epoch - 2ms/step\n",
            "Epoch 33/50\n",
            "29/29 - 0s - loss: 0.0650 - accuracy: 0.9815 - 81ms/epoch - 3ms/step\n",
            "Epoch 34/50\n",
            "29/29 - 0s - loss: 0.0623 - accuracy: 0.9793 - 63ms/epoch - 2ms/step\n",
            "Epoch 35/50\n",
            "29/29 - 0s - loss: 0.0584 - accuracy: 0.9837 - 60ms/epoch - 2ms/step\n",
            "Epoch 36/50\n",
            "29/29 - 0s - loss: 0.0559 - accuracy: 0.9826 - 67ms/epoch - 2ms/step\n",
            "Epoch 37/50\n",
            "29/29 - 0s - loss: 0.0550 - accuracy: 0.9848 - 70ms/epoch - 2ms/step\n",
            "Epoch 38/50\n",
            "29/29 - 0s - loss: 0.0532 - accuracy: 0.9848 - 64ms/epoch - 2ms/step\n",
            "Epoch 39/50\n",
            "29/29 - 0s - loss: 0.0486 - accuracy: 0.9859 - 60ms/epoch - 2ms/step\n",
            "Epoch 40/50\n",
            "29/29 - 0s - loss: 0.0493 - accuracy: 0.9859 - 60ms/epoch - 2ms/step\n",
            "Epoch 41/50\n",
            "29/29 - 0s - loss: 0.0457 - accuracy: 0.9913 - 61ms/epoch - 2ms/step\n",
            "Epoch 42/50\n",
            "29/29 - 0s - loss: 0.0429 - accuracy: 0.9913 - 57ms/epoch - 2ms/step\n",
            "Epoch 43/50\n",
            "29/29 - 0s - loss: 0.0421 - accuracy: 0.9924 - 60ms/epoch - 2ms/step\n",
            "Epoch 44/50\n",
            "29/29 - 0s - loss: 0.0401 - accuracy: 0.9913 - 63ms/epoch - 2ms/step\n",
            "Epoch 45/50\n",
            "29/29 - 0s - loss: 0.0381 - accuracy: 0.9924 - 60ms/epoch - 2ms/step\n",
            "Epoch 46/50\n",
            "29/29 - 0s - loss: 0.0385 - accuracy: 0.9924 - 70ms/epoch - 2ms/step\n",
            "Epoch 47/50\n",
            "29/29 - 0s - loss: 0.0343 - accuracy: 0.9935 - 64ms/epoch - 2ms/step\n",
            "Epoch 48/50\n",
            "29/29 - 0s - loss: 0.0336 - accuracy: 0.9924 - 68ms/epoch - 2ms/step\n",
            "Epoch 49/50\n",
            "29/29 - 0s - loss: 0.0350 - accuracy: 0.9924 - 62ms/epoch - 2ms/step\n",
            "Epoch 50/50\n",
            "29/29 - 0s - loss: 0.0303 - accuracy: 0.9935 - 60ms/epoch - 2ms/step\n",
            "8/8 - 0s - loss: 0.0859 - accuracy: 0.9565 - 212ms/epoch - 27ms/step\n",
            "Epoch 1/50\n",
            "29/29 - 1s - loss: 0.6670 - accuracy: 0.5620 - 894ms/epoch - 31ms/step\n",
            "Epoch 2/50\n",
            "29/29 - 0s - loss: 0.5939 - accuracy: 0.7402 - 93ms/epoch - 3ms/step\n",
            "Epoch 3/50\n",
            "29/29 - 0s - loss: 0.4774 - accuracy: 0.8598 - 70ms/epoch - 2ms/step\n",
            "Epoch 4/50\n",
            "29/29 - 0s - loss: 0.3731 - accuracy: 0.8772 - 61ms/epoch - 2ms/step\n",
            "Epoch 5/50\n",
            "29/29 - 0s - loss: 0.3117 - accuracy: 0.8935 - 69ms/epoch - 2ms/step\n",
            "Epoch 6/50\n",
            "29/29 - 0s - loss: 0.2675 - accuracy: 0.9033 - 60ms/epoch - 2ms/step\n",
            "Epoch 7/50\n",
            "29/29 - 0s - loss: 0.2386 - accuracy: 0.9152 - 65ms/epoch - 2ms/step\n",
            "Epoch 8/50\n",
            "29/29 - 0s - loss: 0.2129 - accuracy: 0.9261 - 62ms/epoch - 2ms/step\n",
            "Epoch 9/50\n",
            "29/29 - 0s - loss: 0.1941 - accuracy: 0.9272 - 65ms/epoch - 2ms/step\n",
            "Epoch 10/50\n",
            "29/29 - 0s - loss: 0.1789 - accuracy: 0.9348 - 54ms/epoch - 2ms/step\n",
            "Epoch 11/50\n",
            "29/29 - 0s - loss: 0.1631 - accuracy: 0.9370 - 57ms/epoch - 2ms/step\n",
            "Epoch 12/50\n",
            "29/29 - 0s - loss: 0.1510 - accuracy: 0.9435 - 68ms/epoch - 2ms/step\n",
            "Epoch 13/50\n",
            "29/29 - 0s - loss: 0.1402 - accuracy: 0.9446 - 59ms/epoch - 2ms/step\n",
            "Epoch 14/50\n",
            "29/29 - 0s - loss: 0.1298 - accuracy: 0.9500 - 54ms/epoch - 2ms/step\n",
            "Epoch 15/50\n",
            "29/29 - 0s - loss: 0.1212 - accuracy: 0.9543 - 58ms/epoch - 2ms/step\n",
            "Epoch 16/50\n",
            "29/29 - 0s - loss: 0.1132 - accuracy: 0.9620 - 73ms/epoch - 3ms/step\n",
            "Epoch 17/50\n",
            "29/29 - 0s - loss: 0.1092 - accuracy: 0.9598 - 61ms/epoch - 2ms/step\n",
            "Epoch 18/50\n",
            "29/29 - 0s - loss: 0.1009 - accuracy: 0.9696 - 58ms/epoch - 2ms/step\n",
            "Epoch 19/50\n",
            "29/29 - 0s - loss: 0.0949 - accuracy: 0.9674 - 58ms/epoch - 2ms/step\n",
            "Epoch 20/50\n",
            "29/29 - 0s - loss: 0.0889 - accuracy: 0.9674 - 60ms/epoch - 2ms/step\n",
            "Epoch 21/50\n",
            "29/29 - 0s - loss: 0.0841 - accuracy: 0.9728 - 54ms/epoch - 2ms/step\n",
            "Epoch 22/50\n",
            "29/29 - 0s - loss: 0.0794 - accuracy: 0.9815 - 60ms/epoch - 2ms/step\n",
            "Epoch 23/50\n",
            "29/29 - 0s - loss: 0.0762 - accuracy: 0.9793 - 58ms/epoch - 2ms/step\n",
            "Epoch 24/50\n",
            "29/29 - 0s - loss: 0.0710 - accuracy: 0.9826 - 60ms/epoch - 2ms/step\n",
            "Epoch 25/50\n",
            "29/29 - 0s - loss: 0.0704 - accuracy: 0.9772 - 58ms/epoch - 2ms/step\n",
            "Epoch 26/50\n",
            "29/29 - 0s - loss: 0.0654 - accuracy: 0.9826 - 77ms/epoch - 3ms/step\n",
            "Epoch 27/50\n",
            "29/29 - 0s - loss: 0.0618 - accuracy: 0.9837 - 66ms/epoch - 2ms/step\n",
            "Epoch 28/50\n",
            "29/29 - 0s - loss: 0.0632 - accuracy: 0.9815 - 72ms/epoch - 2ms/step\n",
            "Epoch 29/50\n",
            "29/29 - 0s - loss: 0.0620 - accuracy: 0.9783 - 62ms/epoch - 2ms/step\n",
            "Epoch 30/50\n",
            "29/29 - 0s - loss: 0.0584 - accuracy: 0.9815 - 66ms/epoch - 2ms/step\n",
            "Epoch 31/50\n",
            "29/29 - 0s - loss: 0.0623 - accuracy: 0.9815 - 76ms/epoch - 3ms/step\n",
            "Epoch 32/50\n",
            "29/29 - 0s - loss: 0.0509 - accuracy: 0.9826 - 76ms/epoch - 3ms/step\n",
            "Epoch 33/50\n",
            "29/29 - 0s - loss: 0.0487 - accuracy: 0.9859 - 61ms/epoch - 2ms/step\n",
            "Epoch 34/50\n",
            "29/29 - 0s - loss: 0.0446 - accuracy: 0.9891 - 70ms/epoch - 2ms/step\n",
            "Epoch 35/50\n",
            "29/29 - 0s - loss: 0.0421 - accuracy: 0.9891 - 58ms/epoch - 2ms/step\n",
            "Epoch 36/50\n",
            "29/29 - 0s - loss: 0.0410 - accuracy: 0.9880 - 56ms/epoch - 2ms/step\n",
            "Epoch 37/50\n",
            "29/29 - 0s - loss: 0.0380 - accuracy: 0.9902 - 66ms/epoch - 2ms/step\n",
            "Epoch 38/50\n",
            "29/29 - 0s - loss: 0.0357 - accuracy: 0.9902 - 74ms/epoch - 3ms/step\n",
            "Epoch 39/50\n",
            "29/29 - 0s - loss: 0.0397 - accuracy: 0.9891 - 61ms/epoch - 2ms/step\n",
            "Epoch 40/50\n",
            "29/29 - 0s - loss: 0.0324 - accuracy: 0.9891 - 65ms/epoch - 2ms/step\n",
            "Epoch 41/50\n",
            "29/29 - 0s - loss: 0.0345 - accuracy: 0.9902 - 59ms/epoch - 2ms/step\n",
            "Epoch 42/50\n",
            "29/29 - 0s - loss: 0.0311 - accuracy: 0.9924 - 74ms/epoch - 3ms/step\n",
            "Epoch 43/50\n",
            "29/29 - 0s - loss: 0.0299 - accuracy: 0.9924 - 60ms/epoch - 2ms/step\n",
            "Epoch 44/50\n",
            "29/29 - 0s - loss: 0.0295 - accuracy: 0.9913 - 57ms/epoch - 2ms/step\n",
            "Epoch 45/50\n",
            "29/29 - 0s - loss: 0.0272 - accuracy: 0.9924 - 59ms/epoch - 2ms/step\n",
            "Epoch 46/50\n",
            "29/29 - 0s - loss: 0.0249 - accuracy: 0.9935 - 70ms/epoch - 2ms/step\n",
            "Epoch 47/50\n",
            "29/29 - 0s - loss: 0.0240 - accuracy: 0.9946 - 71ms/epoch - 2ms/step\n",
            "Epoch 48/50\n",
            "29/29 - 0s - loss: 0.0254 - accuracy: 0.9913 - 59ms/epoch - 2ms/step\n",
            "Epoch 49/50\n",
            "29/29 - 0s - loss: 0.0234 - accuracy: 0.9913 - 56ms/epoch - 2ms/step\n",
            "Epoch 50/50\n",
            "29/29 - 0s - loss: 0.0210 - accuracy: 0.9935 - 53ms/epoch - 2ms/step\n",
            "8/8 - 0s - loss: 0.0811 - accuracy: 0.9694 - 139ms/epoch - 17ms/step\n"
          ]
        },
        {
          "output_type": "execute_result",
          "data": {
            "text/plain": [
              "array([0.97391301, 0.94347829, 0.96086955, 0.95652175, 0.96943229])"
            ]
          },
          "metadata": {},
          "execution_count": 32
        }
      ],
      "source": [
        "cross_val_score(keras_model, X_pure_train, y_pure_train)"
      ]
    },
    {
      "cell_type": "markdown",
      "metadata": {
        "id": "L-UfQo8D10Pt"
      },
      "source": [
        "## Level Up: Regularization"
      ]
    },
    {
      "cell_type": "markdown",
      "metadata": {
        "id": "xG7PeB8610Pt"
      },
      "source": [
        "Does regularization make sense in the context of neural networks? <br/>\n",
        "\n",
        "Yes! We still have all of the salient ingredients: a loss function, overfitting vs. underfitting, and coefficients (weights) that could get too large.\n",
        "\n",
        "But there are now a few different flavors besides L1 and L2 regularization. (Note that L1 regularization is not common in the context of  neural networks.)\n",
        "\n",
        "We'll add a few more layers to give regularization a better chance of making a difference!"
      ]
    },
    {
      "cell_type": "code",
      "execution_count": 33,
      "metadata": {
        "id": "UYN_-uxJ10Pt",
        "outputId": "b7946b0b-fb0a-48bb-8b85-1d245b505ca5",
        "colab": {
          "base_uri": "https://localhost:8080/",
          "height": 320
        }
      },
      "outputs": [
        {
          "output_type": "display_data",
          "data": {
            "text/plain": [
              "<Figure size 720x360 with 2 Axes>"
            ],
            "image/png": "[encoded data removed]"
          },
          "metadata": {
            "needs_background": "light"
          }
        }
      ],
      "source": [
        "model = Sequential()\n",
        "model.add(Dense(30, activation='relu', input_dim=64))\n",
        "\n",
        "# We can add L2 (or L1) regularization right into\n",
        "# the layer with the kernel_regularizer parameter.\n",
        "\n",
        "model.add(Dense(20, activation='relu',\n",
        "                kernel_regularizer=l2(l2=0.05)))\n",
        "\n",
        "# Note that there is also a bias_regularizer,\n",
        "# but this tends to have less effect.\n",
        "\n",
        "model.add(Dense(12, activation='relu'))\n",
        "model.add(Dense(12, activation='relu'))\n",
        "model.add(Dense(12, activation='relu'))\n",
        "model.add(Dense(8, activation='relu'))\n",
        "model.add(Dense(4, activation='relu'))\n",
        "model.add(Dense(1, activation ='sigmoid'))\n",
        "\n",
        "model.compile(optimizer='adam',\n",
        "              loss='binary_crossentropy',\n",
        "              metrics=['accuracy'])\n",
        "\n",
        "results = model.fit(X_pure_train, y_pure_train, epochs=20, batch_size=32,\n",
        "                    verbose=0, validation_data=(X_val, y_val))\n",
        "\n",
        "train_loss = results.history['loss']\n",
        "train_acc = results.history['accuracy']\n",
        "val_loss = results.history['val_loss']\n",
        "val_acc = results.history['val_accuracy']\n",
        "\n",
        "\n",
        "fig, (ax1, ax2) = plt.subplots(1, 2, figsize=(10, 5))\n",
        "sns.lineplot(x=results.epoch, y=train_loss, ax=ax1, label='train_loss')\n",
        "sns.lineplot(x=results.epoch, y=train_acc, ax=ax2, label='train_accuracy')\n",
        "\n",
        "sns.lineplot(x=results.epoch, y=val_loss, ax=ax1, label='val_loss')\n",
        "sns.lineplot(x=results.epoch, y=val_acc, ax=ax2, label='val_accuracy');"
      ]
    },
    {
      "cell_type": "markdown",
      "metadata": {
        "id": "eAj8_P7510Pt"
      },
      "source": [
        "Adding L2 to multiple layers:"
      ]
    },
    {
      "cell_type": "code",
      "execution_count": 34,
      "metadata": {
        "id": "IeSsNDAC10Pt",
        "outputId": "e47ee1ec-2420-4524-9aa7-4ad59673cd01",
        "colab": {
          "base_uri": "https://localhost:8080/",
          "height": 320
        }
      },
      "outputs": [
        {
          "output_type": "display_data",
          "data": {
            "text/plain": [
              "<Figure size 720x360 with 2 Axes>"
            ],
            "image/png": "[encoded data removed]"
          },
          "metadata": {
            "needs_background": "light"
          }
        }
      ],
      "source": [
        "model = Sequential()\n",
        "model.add(Dense(30, activation='relu',\n",
        "                input_dim=64))\n",
        "model.add(Dense(20, activation='relu',\n",
        "                kernel_regularizer=l2(l2=0.01)))\n",
        "\n",
        "model.add(Dense(12, activation='relu',\n",
        "                kernel_regularizer=l2(l2=0.01)))\n",
        "model.add(Dense(12, activation='relu',\n",
        "                kernel_regularizer=l2(l2=0.01)))\n",
        "model.add(Dense(12, activation='relu',\n",
        "                kernel_regularizer=l2(l2=0.01)))\n",
        "model.add(Dense(8, activation='relu',\n",
        "                kernel_regularizer=l2(l2=0.01)))\n",
        "model.add(Dense(4, activation='relu',\n",
        "                kernel_regularizer=l2(l2=0.01)))\n",
        "model.add(Dense(1, activation='sigmoid'))\n",
        "\n",
        "model.compile(optimizer='adam',\n",
        "              loss='binary_crossentropy',\n",
        "              metrics=['accuracy'])\n",
        "\n",
        "results = model.fit(X_pure_train, y_pure_train, epochs=20, batch_size=32,\n",
        "                    verbose=0, validation_data=(X_val, y_val))\n",
        "\n",
        "train_loss = results.history['loss']\n",
        "train_acc = results.history['accuracy']\n",
        "val_loss = results.history['val_loss']\n",
        "val_acc = results.history['val_accuracy']\n",
        "\n",
        "\n",
        "fig, (ax1, ax2) = plt.subplots(1, 2, figsize=(10, 5))\n",
        "sns.lineplot(x=results.epoch, y=train_loss, ax=ax1, label='train_loss')\n",
        "sns.lineplot(x=results.epoch, y=train_acc, ax=ax2, label='train_accuracy')\n",
        "\n",
        "sns.lineplot(x=results.epoch, y=val_loss, ax=ax1, label='val_loss')\n",
        "sns.lineplot(x=results.epoch, y=val_acc, ax=ax2, label='val_accuracy');"
      ]
    },
    {
      "cell_type": "markdown",
      "metadata": {
        "id": "fBbkcNYe10Pu"
      },
      "source": [
        "### Dropout\n",
        "\n",
        "We can also specify a dropout layer in keras, which randomly shuts off different nodes during training. This can help to prevent overfitting.\n",
        "\n",
        "![drop_out](https://raw.githubusercontent.com/flatiron-school/DS-Instructor-Content/main/Deep-Learning/Network-Regularization-Evaluation/images/drop_out.png?token=GHSAT0AAAAAAB6I4Q5QROZWFEQMDAIWKTKIY7GMBZQ)"
      ]
    },
    {
      "cell_type": "markdown",
      "metadata": {
        "id": "eBX2bQhJ10Pu"
      },
      "source": [
        "### Exercise\n",
        "\n",
        "To add dropout to a `keras` network, simply add it as though it were a layer. It will apply to the immediately preceding layer.\n",
        "\n",
        "Add Dropout to one or more layers below."
      ]
    },
    {
      "cell_type": "code",
      "execution_count": 35,
      "metadata": {
        "id": "MmGLJdSf10Pu",
        "outputId": "810a144e-8774-4f79-9bf8-8b1038aab0b0",
        "colab": {
          "base_uri": "https://localhost:8080/",
          "height": 321
        }
      },
      "outputs": [
        {
          "output_type": "display_data",
          "data": {
            "text/plain": [
              "<Figure size 720x360 with 2 Axes>"
            ],
            "image/png": "[encoded data removed]"
          },
          "metadata": {
            "needs_background": "light"
          }
        }
      ],
      "source": [
        "model = Sequential()\n",
        "model.add(Dense(30, activation='relu', input_dim=64))\n",
        "model.add(Dense(20, activation='relu'))\n",
        "model.add(Dense(12, activation='relu'))\n",
        "model.add(Dense(12, activation='relu'))\n",
        "model.add(Dense(12, activation='relu'))\n",
        "model.add(Dense(8, activation='relu'))\n",
        "model.add(Dense(4, activation='relu'))\n",
        "model.add(Dense(1, activation ='sigmoid'))\n",
        "\n",
        "model.compile(optimizer='adam',\n",
        "              loss='binary_crossentropy',\n",
        "              metrics=['accuracy'])\n",
        "\n",
        "results = model.fit(X_pure_train, y_pure_train, epochs=50,\n",
        "                    batch_size= 32, verbose=0,\n",
        "                    validation_data=(X_val, y_val))\n",
        "\n",
        "train_loss = results.history['loss']\n",
        "train_acc = results.history['accuracy']\n",
        "val_loss = results.history['val_loss']\n",
        "val_acc = results.history['val_accuracy']\n",
        "\n",
        "\n",
        "fig, (ax1, ax2) = plt.subplots(1, 2, figsize=(10, 5))\n",
        "sns.lineplot(x=results.epoch, y=train_loss, ax=ax1, label='train_loss')\n",
        "sns.lineplot(x=results.epoch, y=train_acc, ax=ax2, label='train_accuracy')\n",
        "\n",
        "sns.lineplot(x=results.epoch, y=val_loss, ax=ax1, label='val_loss')\n",
        "sns.lineplot(x=results.epoch, y=val_acc, ax=ax2, label='val_accuracy');"
      ]
    },
    {
      "cell_type": "markdown",
      "metadata": {
        "id": "mOmjMT_o10Pu"
      },
      "source": [
        "<details>\n",
        "    <summary>One answer here</summary>\n",
        "<code>model = Sequential()\n",
        "model.add(Dense(30, activation='relu', input_dim=64))\n",
        "model.add(Dense(20, activation='relu'))\n",
        "model.add(Dropout(0.5))\n",
        "model.add(Dense(12, activation='relu'))\n",
        "model.add(Dropout(0.2))\n",
        "model.add(Dense(12, activation='relu'))\n",
        "model.add(Dense(12, activation='relu'))\n",
        "model.add(Dense(8, activation='relu'))\n",
        "model.add(Dense(4, activation='relu'))\n",
        "model.add(Dense(1, activation ='sigmoid'))\n",
        "\n",
        "model.compile(optimizer='adam',\n",
        "              loss='binary_crossentropy',\n",
        "              metrics=['accuracy'])\n",
        "\n",
        "results = model.fit(X_pure_train, y_pure_train, epochs=50,\n",
        "                    batch_size= 32, verbose=0,\n",
        "                    validation_data=(X_val, y_val))\n",
        "\n",
        "train_loss = results.history['loss']\n",
        "train_acc = results.history['accuracy']\n",
        "val_loss = results.history['val_loss']\n",
        "val_acc = results.history['val_accuracy']\n",
        "\n",
        "\n",
        "fig, (ax1, ax2) = plt.subplots(1, 2, figsize=(10, 5))\n",
        "sns.lineplot(x=results.epoch, y=train_loss, ax=ax1, label='train_loss')\n",
        "sns.lineplot(x=results.epoch, y=train_acc, ax=ax2, label='train_accuracy')\n",
        "\n",
        "sns.lineplot(x=results.epoch, y=val_loss, ax=ax1, label='val_loss')\n",
        "sns.lineplot(x=results.epoch, y=val_acc, ax=ax2, label='val_accuracy');</code>\n",
        "</details>"
      ]
    },
    {
      "cell_type": "code",
      "execution_count": 36,
      "metadata": {
        "id": "XHgMRzwq10Pu",
        "outputId": "6606fcc2-4c49-4401-e3f8-ac8127428625",
        "colab": {
          "base_uri": "https://localhost:8080/"
        }
      },
      "outputs": [
        {
          "output_type": "execute_result",
          "data": {
            "text/plain": [
              "0.9861111044883728"
            ]
          },
          "metadata": {},
          "execution_count": 36
        }
      ],
      "source": [
        "results.history['val_accuracy'][-1]"
      ]
    },
    {
      "cell_type": "markdown",
      "metadata": {
        "id": "yDoj2osu10Pu"
      },
      "source": [
        "### Early Stopping"
      ]
    },
    {
      "cell_type": "markdown",
      "metadata": {
        "id": "O5KN7lJW10Pu"
      },
      "source": [
        "We can also tell our neural network to stop once it stops realizing any gain.\n",
        "\n",
        "Here we tell it to stop once the a very small positive change in the validation loss occurs:"
      ]
    },
    {
      "cell_type": "code",
      "execution_count": 37,
      "metadata": {
        "id": "cXmO2lvu10Pu",
        "outputId": "6d5f94ff-e62d-4183-b7b3-c4b52839af75",
        "colab": {
          "base_uri": "https://localhost:8080/",
          "height": 337
        }
      },
      "outputs": [
        {
          "output_type": "stream",
          "name": "stdout",
          "text": [
            "Epoch 2: early stopping\n"
          ]
        },
        {
          "output_type": "display_data",
          "data": {
            "text/plain": [
              "<Figure size 720x360 with 2 Axes>"
            ],
            "image/png": "[encoded data removed]"
          },
          "metadata": {
            "needs_background": "light"
          }
        }
      ],
      "source": [
        "model = Sequential()\n",
        "model.add(Dense(30, activation='relu', input_dim=64))\n",
        "model.add(Dense(20, activation='relu'))\n",
        "model.add(Dropout(0.5))\n",
        "model.add(Dense(12, activation='relu'))\n",
        "model.add(Dense(12, activation='relu'))\n",
        "model.add(Dense(12, activation='relu'))\n",
        "model.add(Dense(8, activation='relu'))\n",
        "model.add(Dense(4, activation='relu'))\n",
        "model.add(Dense(1, activation ='sigmoid'))\n",
        "\n",
        "model.compile(optimizer='adam',\n",
        "              loss='binary_crossentropy',\n",
        "              metrics=['accuracy'])\n",
        "\n",
        "# Define the EarlyStopping object\n",
        "early_stop = EarlyStopping(monitor='val_loss', min_delta=1e-8,\n",
        "                           verbose=1,\n",
        "                           mode='min')\n",
        "\n",
        "# Place this in a list as the value of the `callbacks` parameter\n",
        "# in the `.fit()` method.\n",
        "results = model.fit(X_pure_train, y_pure_train,\n",
        "                    epochs=20, batch_size=32,\n",
        "                    verbose=0, validation_data=(X_val, y_val),\n",
        "                    callbacks=[early_stop])\n",
        "\n",
        "train_loss = results.history['loss']\n",
        "train_acc = results.history['accuracy']\n",
        "val_loss = results.history['val_loss']\n",
        "val_acc = results.history['val_accuracy']\n",
        "\n",
        "\n",
        "fig, (ax1, ax2) = plt.subplots(1, 2, figsize=(10, 5))\n",
        "sns.lineplot(x=results.epoch, y=train_loss, ax=ax1, label='train_loss')\n",
        "sns.lineplot(x=results.epoch, y=train_acc, ax=ax2, label='train_accuracy')\n",
        "\n",
        "sns.lineplot(x=results.epoch, y=val_loss, ax=ax1, label='val_loss')\n",
        "sns.lineplot(x=results.epoch, y=val_acc, ax=ax2, label='val_accuracy');"
      ]
    },
    {
      "cell_type": "markdown",
      "metadata": {
        "id": "RlaHpz-I10Pu"
      },
      "source": [
        "### Exercise\n",
        "\n",
        "That probably stopped too early. We can specify the number of epochs in which it doesn't see decrease in the loss with the `patience` parameter. Modify the code below to include an Early Stop with a patience of 5 epochs."
      ]
    },
    {
      "cell_type": "code",
      "execution_count": 38,
      "metadata": {
        "id": "K2vGP_m410Pu",
        "outputId": "43fb3222-7b15-4400-bd23-6fb848673663",
        "colab": {
          "base_uri": "https://localhost:8080/",
          "height": 337
        }
      },
      "outputs": [
        {
          "output_type": "stream",
          "name": "stdout",
          "text": [
            "Epoch 24: early stopping\n"
          ]
        },
        {
          "output_type": "display_data",
          "data": {
            "text/plain": [
              "<Figure size 720x360 with 2 Axes>"
            ],
            "image/png": "[encoded data removed]"
          },
          "metadata": {
            "needs_background": "light"
          }
        }
      ],
      "source": [
        "model = Sequential()\n",
        "model.add(Dense(30, activation='relu', input_dim=64))\n",
        "model.add(Dense(20, activation='relu'))\n",
        "model.add(Dropout(0.5))\n",
        "model.add(Dense(12, activation='relu'))\n",
        "model.add(Dense(12, activation='relu'))\n",
        "model.add(Dense(12, activation='relu'))\n",
        "model.add(Dense(8, activation='relu'))\n",
        "model.add(Dense(4, activation='relu'))\n",
        "model.add(Dense(1, activation ='sigmoid'))\n",
        "\n",
        "model.compile(optimizer='adam',\n",
        "              loss='binary_crossentropy',\n",
        "              metrics=['accuracy'])\n",
        "\n",
        "# Define the EarlyStopping object\n",
        "early_stop = EarlyStopping(monitor='val_loss', min_delta=1e-8,\n",
        "                           verbose=1, patience=5,\n",
        "                           mode='min')\n",
        "\n",
        "# Place this in a list as the value of the `callbacks` parameter\n",
        "# in the `.fit()` method.\n",
        "results = model.fit(X_pure_train, y_pure_train,\n",
        "                    epochs=50, batch_size= 32,\n",
        "                    verbose=0, validation_data=(X_val, y_val),\n",
        "                    callbacks=[early_stop])\n",
        "\n",
        "train_loss = results.history['loss']\n",
        "train_acc = results.history['accuracy']\n",
        "val_loss = results.history['val_loss']\n",
        "val_acc = results.history['val_accuracy']\n",
        "\n",
        "\n",
        "fig, (ax1, ax2) = plt.subplots(1, 2, figsize=(10, 5))\n",
        "sns.lineplot(x=results.epoch, y=train_loss, ax=ax1, label='train_loss')\n",
        "sns.lineplot(x=results.epoch, y=train_acc, ax=ax2, label='train_accuracy')\n",
        "\n",
        "sns.lineplot(x=results.epoch, y=val_loss, ax=ax1, label='val_loss')\n",
        "sns.lineplot(x=results.epoch, y=val_acc, ax=ax2, label='val_accuracy');"
      ]
    },
    {
      "cell_type": "markdown",
      "metadata": {
        "id": "3AREZlph10Pv"
      },
      "source": [
        "<details>\n",
        "    <summary>One answer here</summary>\n",
        "<code>model = Sequential()\n",
        "model.add(Dense(30, activation='relu', input_dim=64))\n",
        "model.add(Dense(20, activation='relu'))\n",
        "model.add(Dropout(0.5))\n",
        "model.add(Dense(12, activation='relu'))\n",
        "model.add(Dense(12, activation='relu'))\n",
        "model.add(Dense(12, activation='relu'))\n",
        "model.add(Dense(8, activation='relu'))\n",
        "model.add(Dense(4, activation='relu'))\n",
        "model.add(Dense(1, activation ='sigmoid'))\n",
        "\n",
        "model.compile(optimizer='adam',\n",
        "              loss='binary_crossentropy',\n",
        "              metrics=['accuracy'])\n",
        "\n",
        "# Define the EarlyStopping object\n",
        "\n",
        "\n",
        "\n",
        "# Place this in a list as the value of the `callbacks` parameter\n",
        "# in the `.fit()` method.\n",
        "results = model.fit(X_pure_train, y_pure_train,\n",
        "                    epochs=50, batch_size= 32,\n",
        "                    verbose=0, validation_data=(X_val, y_val),\n",
        "                    callbacks=[early_stop])\n",
        "\n",
        "train_loss = results.history['loss']\n",
        "train_acc = results.history['accuracy']\n",
        "val_loss = results.history['val_loss']\n",
        "val_acc = results.history['val_accuracy']\n",
        "\n",
        "\n",
        "fig, (ax1, ax2) = plt.subplots(1, 2, figsize=(10, 5))\n",
        "sns.lineplot(x=results.epoch, y=train_loss, ax=ax1, label='train_loss')\n",
        "sns.lineplot(x=results.epoch, y=train_acc, ax=ax2, label='train_accuracy')\n",
        "\n",
        "sns.lineplot(x=results.epoch, y=val_loss, ax=ax1, label='val_loss')\n",
        "sns.lineplot(x=results.epoch, y=val_acc, ax=ax2, label='val_accuracy');</code>\n",
        "</details>"
      ]
    },
    {
      "cell_type": "code",
      "execution_count": 39,
      "metadata": {
        "id": "JaPnwykm10Pv",
        "outputId": "fb4987b7-871c-423d-cc9f-61f56c008f40",
        "colab": {
          "base_uri": "https://localhost:8080/"
        }
      },
      "outputs": [
        {
          "output_type": "execute_result",
          "data": {
            "text/plain": [
              "0.9652777910232544"
            ]
          },
          "metadata": {},
          "execution_count": 39
        }
      ],
      "source": [
        "results.history['val_accuracy'][-1]"
      ]
    },
    {
      "cell_type": "markdown",
      "metadata": {
        "id": "MSrdvvt-10Pv"
      },
      "source": [
        "## Multiclass Classification and Softmax"
      ]
    },
    {
      "cell_type": "markdown",
      "metadata": {
        "id": "MfZGkfmp10Pv"
      },
      "source": [
        "Now let's return to the problem of predicting digits 0 through 9."
      ]
    },
    {
      "cell_type": "code",
      "execution_count": 40,
      "metadata": {
        "id": "WIIEGEF510Pv"
      },
      "outputs": [],
      "source": [
        "digits = load_digits()\n",
        "X = digits.data\n",
        "y = digits.target"
      ]
    },
    {
      "cell_type": "code",
      "execution_count": 41,
      "metadata": {
        "id": "KoZEH5XT10Pv"
      },
      "outputs": [],
      "source": [
        "X_train, X_test, y_train, y_test = train_test_split(X, y,\n",
        "                                                    random_state=42,\n",
        "                                                    test_size=0.2)\n",
        "X_pure_train, X_val, y_pure_train, y_val =\\\n",
        "    train_test_split(X_train, y_train,\n",
        "                     random_state=42, test_size=0.2)\n",
        "X_pure_train, X_val, X_test = X_pure_train/16, X_val/16, X_test/16"
      ]
    },
    {
      "cell_type": "markdown",
      "metadata": {
        "id": "ZO5KuAVZ10Pv"
      },
      "source": [
        "For a multiclass output, our neural net expects our target to be in a certain form."
      ]
    },
    {
      "cell_type": "code",
      "execution_count": 42,
      "metadata": {
        "id": "k5qha_Xm10Pv"
      },
      "outputs": [],
      "source": [
        "ohe = OneHotEncoder(sparse=False)\n",
        "y_pure_train = ohe.fit_transform(y_pure_train.reshape(-1,1))\n",
        "y_val = ohe.transform(y_val.reshape(-1,1))\n",
        "y_test = ohe.transform(y_test.reshape(-1,1))"
      ]
    },
    {
      "cell_type": "code",
      "execution_count": 43,
      "metadata": {
        "id": "WYil5HV710Pv",
        "outputId": "8eea62c3-6f19-479e-911e-05be009ff989",
        "colab": {
          "base_uri": "https://localhost:8080/"
        }
      },
      "outputs": [
        {
          "output_type": "execute_result",
          "data": {
            "text/plain": [
              "array([[0., 0., 0., ..., 0., 0., 0.],\n",
              "       [0., 0., 0., ..., 0., 0., 1.],\n",
              "       [0., 0., 0., ..., 0., 0., 0.],\n",
              "       ...,\n",
              "       [0., 0., 0., ..., 0., 1., 0.],\n",
              "       [0., 0., 0., ..., 0., 0., 0.],\n",
              "       [0., 0., 0., ..., 0., 0., 0.]])"
            ]
          },
          "metadata": {},
          "execution_count": 43
        }
      ],
      "source": [
        "y_test"
      ]
    },
    {
      "cell_type": "code",
      "execution_count": 44,
      "metadata": {
        "id": "014x0EYd10Pv",
        "outputId": "8164d1dc-6bbe-4e4b-a3d2-2071136c10fd",
        "colab": {
          "base_uri": "https://localhost:8080/"
        }
      },
      "outputs": [
        {
          "output_type": "stream",
          "name": "stdout",
          "text": [
            "Epoch 1/50\n",
            "115/115 [==============================] - 1s 5ms/step - loss: 2.2440 - accuracy: 0.1288 - val_loss: 2.1230 - val_accuracy: 0.2049\n",
            "Epoch 2/50\n",
            "115/115 [==============================] - 0s 3ms/step - loss: 1.9521 - accuracy: 0.2715 - val_loss: 1.7499 - val_accuracy: 0.3785\n",
            "Epoch 3/50\n",
            "115/115 [==============================] - 0s 3ms/step - loss: 1.5177 - accuracy: 0.5065 - val_loss: 1.3403 - val_accuracy: 0.6007\n",
            "Epoch 4/50\n",
            "115/115 [==============================] - 0s 3ms/step - loss: 1.1294 - accuracy: 0.7032 - val_loss: 1.0113 - val_accuracy: 0.7535\n",
            "Epoch 5/50\n",
            "115/115 [==============================] - 0s 3ms/step - loss: 0.8632 - accuracy: 0.7850 - val_loss: 0.8014 - val_accuracy: 0.7847\n",
            "Epoch 6/50\n",
            "115/115 [==============================] - 0s 3ms/step - loss: 0.6846 - accuracy: 0.8172 - val_loss: 0.6525 - val_accuracy: 0.8368\n",
            "Epoch 7/50\n",
            "115/115 [==============================] - 0s 3ms/step - loss: 0.5605 - accuracy: 0.8564 - val_loss: 0.5612 - val_accuracy: 0.8368\n",
            "Epoch 8/50\n",
            "115/115 [==============================] - 1s 4ms/step - loss: 0.4805 - accuracy: 0.8764 - val_loss: 0.4928 - val_accuracy: 0.8681\n",
            "Epoch 9/50\n",
            "115/115 [==============================] - 0s 4ms/step - loss: 0.4181 - accuracy: 0.8834 - val_loss: 0.4430 - val_accuracy: 0.8889\n",
            "Epoch 10/50\n",
            "115/115 [==============================] - 1s 5ms/step - loss: 0.3726 - accuracy: 0.8973 - val_loss: 0.4018 - val_accuracy: 0.8854\n",
            "Epoch 11/50\n",
            "115/115 [==============================] - 1s 5ms/step - loss: 0.3394 - accuracy: 0.9086 - val_loss: 0.3723 - val_accuracy: 0.9132\n",
            "Epoch 12/50\n",
            "115/115 [==============================] - 1s 5ms/step - loss: 0.3077 - accuracy: 0.9173 - val_loss: 0.3325 - val_accuracy: 0.9306\n",
            "Epoch 13/50\n",
            "115/115 [==============================] - 0s 4ms/step - loss: 0.2829 - accuracy: 0.9269 - val_loss: 0.3239 - val_accuracy: 0.9236\n",
            "Epoch 14/50\n",
            "115/115 [==============================] - 0s 3ms/step - loss: 0.2655 - accuracy: 0.9286 - val_loss: 0.2859 - val_accuracy: 0.9236\n",
            "Epoch 15/50\n",
            "115/115 [==============================] - 0s 3ms/step - loss: 0.2487 - accuracy: 0.9321 - val_loss: 0.2801 - val_accuracy: 0.9410\n",
            "Epoch 16/50\n",
            "115/115 [==============================] - 0s 3ms/step - loss: 0.2298 - accuracy: 0.9434 - val_loss: 0.2647 - val_accuracy: 0.9340\n",
            "Epoch 17/50\n",
            "115/115 [==============================] - 0s 4ms/step - loss: 0.2193 - accuracy: 0.9495 - val_loss: 0.2436 - val_accuracy: 0.9479\n",
            "Epoch 18/50\n",
            "115/115 [==============================] - 0s 4ms/step - loss: 0.2060 - accuracy: 0.9513 - val_loss: 0.2471 - val_accuracy: 0.9340\n",
            "Epoch 19/50\n",
            "115/115 [==============================] - 0s 3ms/step - loss: 0.1947 - accuracy: 0.9530 - val_loss: 0.2234 - val_accuracy: 0.9514\n",
            "Epoch 20/50\n",
            "115/115 [==============================] - 0s 3ms/step - loss: 0.1860 - accuracy: 0.9547 - val_loss: 0.2304 - val_accuracy: 0.9306\n",
            "Epoch 21/50\n",
            "115/115 [==============================] - 0s 3ms/step - loss: 0.1782 - accuracy: 0.9608 - val_loss: 0.2074 - val_accuracy: 0.9549\n",
            "Epoch 22/50\n",
            "115/115 [==============================] - 0s 3ms/step - loss: 0.1700 - accuracy: 0.9582 - val_loss: 0.2040 - val_accuracy: 0.9444\n",
            "Epoch 23/50\n",
            "115/115 [==============================] - 0s 3ms/step - loss: 0.1649 - accuracy: 0.9634 - val_loss: 0.2018 - val_accuracy: 0.9514\n",
            "Epoch 24/50\n",
            "115/115 [==============================] - 0s 3ms/step - loss: 0.1579 - accuracy: 0.9591 - val_loss: 0.2006 - val_accuracy: 0.9549\n",
            "Epoch 25/50\n",
            "115/115 [==============================] - 0s 3ms/step - loss: 0.1550 - accuracy: 0.9608 - val_loss: 0.1857 - val_accuracy: 0.9514\n",
            "Epoch 26/50\n",
            "115/115 [==============================] - 0s 3ms/step - loss: 0.1444 - accuracy: 0.9678 - val_loss: 0.1970 - val_accuracy: 0.9479\n",
            "Epoch 27/50\n",
            "115/115 [==============================] - 0s 3ms/step - loss: 0.1410 - accuracy: 0.9678 - val_loss: 0.1858 - val_accuracy: 0.9479\n",
            "Epoch 28/50\n",
            "115/115 [==============================] - 0s 3ms/step - loss: 0.1393 - accuracy: 0.9661 - val_loss: 0.1888 - val_accuracy: 0.9375\n",
            "Epoch 29/50\n",
            "115/115 [==============================] - 0s 3ms/step - loss: 0.1304 - accuracy: 0.9704 - val_loss: 0.1901 - val_accuracy: 0.9375\n",
            "Epoch 30/50\n",
            "115/115 [==============================] - 0s 3ms/step - loss: 0.1274 - accuracy: 0.9678 - val_loss: 0.1791 - val_accuracy: 0.9410\n",
            "Epoch 31/50\n",
            "115/115 [==============================] - 0s 3ms/step - loss: 0.1249 - accuracy: 0.9678 - val_loss: 0.1698 - val_accuracy: 0.9549\n",
            "Epoch 32/50\n",
            "115/115 [==============================] - 0s 3ms/step - loss: 0.1205 - accuracy: 0.9687 - val_loss: 0.1659 - val_accuracy: 0.9653\n",
            "Epoch 33/50\n",
            "115/115 [==============================] - 0s 3ms/step - loss: 0.1184 - accuracy: 0.9730 - val_loss: 0.1774 - val_accuracy: 0.9410\n",
            "Epoch 34/50\n",
            "115/115 [==============================] - 0s 3ms/step - loss: 0.1170 - accuracy: 0.9678 - val_loss: 0.1745 - val_accuracy: 0.9479\n",
            "Epoch 35/50\n",
            "115/115 [==============================] - 0s 3ms/step - loss: 0.1112 - accuracy: 0.9721 - val_loss: 0.1604 - val_accuracy: 0.9618\n",
            "Epoch 36/50\n",
            "115/115 [==============================] - 0s 3ms/step - loss: 0.1046 - accuracy: 0.9756 - val_loss: 0.1877 - val_accuracy: 0.9479\n",
            "Epoch 37/50\n",
            "115/115 [==============================] - 0s 3ms/step - loss: 0.1044 - accuracy: 0.9756 - val_loss: 0.1612 - val_accuracy: 0.9514\n",
            "Epoch 38/50\n",
            "115/115 [==============================] - 0s 3ms/step - loss: 0.1010 - accuracy: 0.9721 - val_loss: 0.1618 - val_accuracy: 0.9549\n",
            "Epoch 39/50\n",
            "115/115 [==============================] - 0s 3ms/step - loss: 0.0991 - accuracy: 0.9756 - val_loss: 0.1576 - val_accuracy: 0.9479\n",
            "Epoch 40/50\n",
            "115/115 [==============================] - 0s 3ms/step - loss: 0.0959 - accuracy: 0.9765 - val_loss: 0.1596 - val_accuracy: 0.9549\n",
            "Epoch 41/50\n",
            "115/115 [==============================] - 0s 4ms/step - loss: 0.0934 - accuracy: 0.9739 - val_loss: 0.1526 - val_accuracy: 0.9618\n",
            "Epoch 42/50\n",
            "115/115 [==============================] - 1s 5ms/step - loss: 0.0905 - accuracy: 0.9791 - val_loss: 0.1480 - val_accuracy: 0.9583\n",
            "Epoch 43/50\n",
            "115/115 [==============================] - 1s 5ms/step - loss: 0.0908 - accuracy: 0.9774 - val_loss: 0.1510 - val_accuracy: 0.9618\n",
            "Epoch 44/50\n",
            "115/115 [==============================] - 1s 5ms/step - loss: 0.0853 - accuracy: 0.9756 - val_loss: 0.1523 - val_accuracy: 0.9514\n",
            "Epoch 45/50\n",
            "115/115 [==============================] - 1s 5ms/step - loss: 0.0820 - accuracy: 0.9774 - val_loss: 0.1855 - val_accuracy: 0.9340\n",
            "Epoch 46/50\n",
            "115/115 [==============================] - 0s 3ms/step - loss: 0.0809 - accuracy: 0.9843 - val_loss: 0.1457 - val_accuracy: 0.9583\n",
            "Epoch 47/50\n",
            "115/115 [==============================] - 0s 3ms/step - loss: 0.0780 - accuracy: 0.9791 - val_loss: 0.1378 - val_accuracy: 0.9618\n",
            "Epoch 48/50\n",
            "115/115 [==============================] - 0s 3ms/step - loss: 0.0774 - accuracy: 0.9817 - val_loss: 0.1636 - val_accuracy: 0.9549\n",
            "Epoch 49/50\n",
            "115/115 [==============================] - 0s 3ms/step - loss: 0.0756 - accuracy: 0.9817 - val_loss: 0.1467 - val_accuracy: 0.9549\n",
            "Epoch 50/50\n",
            "115/115 [==============================] - 0s 3ms/step - loss: 0.0733 - accuracy: 0.9817 - val_loss: 0.1379 - val_accuracy: 0.9618\n"
          ]
        }
      ],
      "source": [
        "# Model from above, but now with ten output neurons:\n",
        "\n",
        "model = Sequential()\n",
        "model.add(Dense(12, activation='relu', input_dim=64))\n",
        "model.add(Dense(8, activation='relu'))\n",
        "model.add(Dense(10, activation='softmax'))\n",
        "\n",
        "model.compile(optimizer='adam',\n",
        "              loss='categorical_crossentropy',\n",
        "              metrics=['accuracy'])\n",
        "\n",
        "results = model.fit(X_pure_train, y_pure_train,\n",
        "                   epochs=50, batch_size=10,\n",
        "                   validation_data=(X_val, y_val))"
      ]
    },
    {
      "cell_type": "markdown",
      "metadata": {
        "id": "wBP6YxDW10Pw"
      },
      "source": [
        "$$\\large \\text{Softmax}(x_{i}) = \\frac{\\exp(x_i)}{\\sum_j \\exp(x_j)}$$\n",
        "\n",
        "The sofmax function outputs a number between 0 and 1 for each of our classes.  All of the probabilities of the classes sum up to 1.\n",
        "\n",
        "The number of nodes in our output layer equals the number of categories in our dataset.\n",
        "\n",
        "We also need a new loss function: **categorical crossentropy**, which calculates a separate loss for each label and then sums the results."
      ]
    },
    {
      "cell_type": "code",
      "execution_count": 45,
      "metadata": {
        "id": "QlHdzLMc10Pw"
      },
      "outputs": [],
      "source": [
        "history = results.history\n",
        "training_loss = history['loss']\n",
        "val_loss = history['val_loss']\n",
        "training_accuracy = history['accuracy']\n",
        "val_accuracy = history['val_accuracy']"
      ]
    },
    {
      "cell_type": "code",
      "execution_count": 46,
      "metadata": {
        "id": "OkuSgIoo10Pw",
        "outputId": "b76289e2-2c29-472e-c8c7-1b01a90cbbd7",
        "colab": {
          "base_uri": "https://localhost:8080/",
          "height": 320
        }
      },
      "outputs": [
        {
          "output_type": "display_data",
          "data": {
            "text/plain": [
              "<Figure size 1080x360 with 2 Axes>"
            ],
            "image/png": "[encoded data removed]"
          },
          "metadata": {
            "needs_background": "light"
          }
        }
      ],
      "source": [
        "fig, (ax1,ax2) = plt.subplots(1,2,figsize=(15,5))\n",
        "\n",
        "\n",
        "sns.lineplot(x=list(range(len(training_loss))),\n",
        "             y=training_loss, color='r', label='training', ax=ax1)\n",
        "sns.lineplot(x=list(range(len(val_loss))),\n",
        "             y=val_loss, color='b', label='validation', ax=ax1)\n",
        "sns.lineplot(x=list(range(len(training_loss))),\n",
        "             y=training_accuracy, color='r', label='training',ax=ax2)\n",
        "sns.lineplot(x=list(range(len(val_loss))),\n",
        "             y=val_accuracy, color='b', label='validation',ax=ax2)\n",
        "ax1.legend();"
      ]
    },
    {
      "cell_type": "code",
      "execution_count": 47,
      "metadata": {
        "id": "DlfkxasG10Pw",
        "outputId": "bac746aa-6275-4bc1-c117-a641189cc09b",
        "colab": {
          "base_uri": "https://localhost:8080/"
        }
      },
      "outputs": [
        {
          "output_type": "stream",
          "name": "stdout",
          "text": [
            "12/12 [==============================] - 0s 3ms/step\n"
          ]
        }
      ],
      "source": [
        "y_hat_test = np.argmax(model.predict(X_test), axis=-1)"
      ]
    },
    {
      "cell_type": "code",
      "execution_count": 48,
      "metadata": {
        "id": "ScLViUWQ10Pw",
        "outputId": "c12dbf08-82a2-4262-e85c-f40215f140f0",
        "colab": {
          "base_uri": "https://localhost:8080/"
        }
      },
      "outputs": [
        {
          "output_type": "execute_result",
          "data": {
            "text/plain": [
              "array([[30,  0,  0,  0,  1,  1,  1,  0,  0,  0],\n",
              "       [ 0, 28,  0,  0,  0,  0,  0,  0,  0,  0],\n",
              "       [ 0,  1, 28,  2,  0,  0,  0,  0,  2,  0],\n",
              "       [ 0,  0,  1, 32,  0,  1,  0,  0,  0,  0],\n",
              "       [ 0,  0,  0,  0, 46,  0,  0,  0,  0,  0],\n",
              "       [ 1,  0,  0,  0,  0, 44,  0,  0,  0,  2],\n",
              "       [ 0,  0,  0,  0,  1,  0, 34,  0,  0,  0],\n",
              "       [ 0,  0,  0,  0,  0,  0,  0, 33,  0,  1],\n",
              "       [ 0,  1,  1,  0,  0,  1,  0,  0, 26,  1],\n",
              "       [ 0,  1,  0,  1,  0,  0,  0,  1,  0, 37]])"
            ]
          },
          "metadata": {},
          "execution_count": 48
        }
      ],
      "source": [
        "y_test_restore = ohe.inverse_transform(y_test)\n",
        "confusion_matrix(y_test_restore, y_hat_test)"
      ]
    },
    {
      "cell_type": "markdown",
      "metadata": {
        "id": "b_R8NDYQ10Pw"
      },
      "source": [
        "Wow, look at that performance!  \n",
        "\n",
        "That is great, but remember, we were dealing with simple black and white images.  With color, our basic neural net will have less success.\n",
        "\n",
        "We will explore more advanced tools in the coming days.\n"
      ]
    }
  ],
  "metadata": {
    "celltoolbar": "Raw Cell Format",
    "colab": {
      "provenance": [],
      "include_colab_link": true
    },
    "kernelspec": {
      "display_name": "Python 3 (ipykernel)",
      "language": "python",
      "name": "python3"
    },
    "language_info": {
      "codemirror_mode": {
        "name": "ipython",
        "version": 3
      },
      "file_extension": ".py",
      "mimetype": "text/x-python",
      "name": "python",
      "nbconvert_exporter": "python",
      "pygments_lexer": "ipython3",
      "version": "3.9.13"
    },
    "varInspector": {
      "cols": {
        "lenName": 16,
        "lenType": 16,
        "lenVar": 40
      },
      "kernels_config": {
        "python": {
          "delete_cmd_postfix": "",
          "delete_cmd_prefix": "del ",
          "library": "var_list.py",
          "varRefreshCmd": "print(var_dic_list())"
        },
        "r": {
          "delete_cmd_postfix": ") ",
          "delete_cmd_prefix": "rm(",
          "library": "var_list.r",
          "varRefreshCmd": "cat(var_dic_list()) "
        }
      },
      "types_to_exclude": [
        "module",
        "function",
        "builtin_function_or_method",
        "instance",
        "_Feature"
      ],
      "window_display": false
    }
  },
  "nbformat": 4,
  "nbformat_minor": 0
}