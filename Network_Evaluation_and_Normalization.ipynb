{
  "cells": [
    {
      "cell_type": "markdown",
      "metadata": {
        "id": "view-in-github",
        "colab_type": "text"
      },
      "source": [
        "<a href=\"https://colab.research.google.com/github/wayhall/DumpColab/blob/main/Network_Evaluation_and_Normalization.ipynb\" target=\"_parent\"><img src=\"https://colab.research.google.com/assets/colab-badge.svg\" alt=\"Open In Colab\"/></a>"
      ]
    },
    {
      "cell_type": "markdown",
      "metadata": {
        "id": "FxTXQ-Dl10Pl"
      },
      "source": [
        "# Evaluation of Neural Networks"
      ]
    },
    {
      "cell_type": "markdown",
      "metadata": {
        "id": "-dBqBCHB10Po"
      },
      "source": [
        "## Learning Objectives\n",
        "\n",
        "- use `keras` to code up a neural network model;\n",
        "- use wrappers inside `keras` to make models that can jibe with `sklearn`;\n",
        "- scale input data via normalization to promote faster training convergence."
      ]
    },
    {
      "cell_type": "markdown",
      "metadata": {
        "id": "SsAuFAl2Gzk-"
      },
      "source": [
        "## Architecting a [Sequential Model](https://www.tensorflow.org/guide/keras/sequential_model)\n",
        "\n",
        "### Setup\n",
        "```\n",
        "import tensorflow as tf\n",
        "from tensorflow import keras\n",
        "from tensorflow.keras import layers\n",
        "```\n",
        "\n",
        "### When to Use a Sequential Model\n",
        "\n",
        "A `Sequential` model is appropriate for **a plain stack of layers** where each layer has **exactly one input tensor and one output tensor**.\n",
        "\n",
        "Schematically, this `Sequential` model:\n",
        "```\n",
        "# Define Sequential model with 3 layers\n",
        "model = keras.Sequential(\n",
        "    [\n",
        "        layers.Dense(2, activation=\"relu\", name=\"layer1\"),\n",
        "        layers.Dense(3, activation=\"relu\", name=\"layer2\"),\n",
        "        layers.Dense(4, name=\"layer3\"),\n",
        "    ]\n",
        ")\n",
        "# Call model on a test input\n",
        "x = tf.ones((3, 3))\n",
        "y = model(x)\n",
        "\n",
        "```\n",
        "\n",
        "...is equivalent to this function:\n",
        "```\n",
        "# Create 3 layers\n",
        "layer1 = layers.Dense(2, activation=\"relu\", name=\"layer1\")\n",
        "layer2 = layers.Dense(3, activation=\"relu\", name=\"layer2\")\n",
        "layer3 = layers.Dense(4, name=\"layer3\")\n",
        "\n",
        "# Call layers on a test input\n",
        "x = tf.ones((3, 3))\n",
        "y = layer3(layer2(layer1(x)))\n",
        "```\n",
        "\n",
        "A Sequential model is **not** appropriate when:\n",
        "\n",
        "- Your model has multiple inputs or multiple outputs\n",
        "- Any of your layers has multiple inputs or multiple outputs\n",
        "- You need to do layer sharing\n",
        "- You want non-linear topology (e.g. a residual connection, a multi-branch model)"
      ]
    },
    {
      "cell_type": "code",
      "execution_count": null,
      "metadata": {
        "id": "f1ThMEbBLKLF"
      },
      "outputs": [],
      "source": [
        "import tensorflow as tf\n",
        "from tensorflow import keras\n",
        "from tensorflow.keras import layers\n",
        "\n",
        "model = keras.Sequential()\n",
        "model.add(layers.Dense(2, activation=\"relu\"))\n",
        "model.add(layers.Dense(3, activation=\"relu\"))\n",
        "model.add(layers.Dense(4))"
      ]
    },
    {
      "cell_type": "code",
      "execution_count": null,
      "metadata": {
        "colab": {
          "base_uri": "https://localhost:8080/"
        },
        "id": "YpLgG5f8LVuY",
        "outputId": "a6af68a3-45f5-4b06-f1b6-965bfd03f5ce"
      },
      "outputs": [
        {
          "output_type": "execute_result",
          "data": {
            "text/plain": [
              "[<keras.layers.core.dense.Dense at 0x7f75803b8280>,\n",
              " <keras.layers.core.dense.Dense at 0x7f75803b8250>,\n",
              " <keras.layers.core.dense.Dense at 0x7f75803b82b0>]"
            ]
          },
          "metadata": {},
          "execution_count": 2
        }
      ],
      "source": [
        "model.layers"
      ]
    },
    {
      "cell_type": "markdown",
      "metadata": {
        "id": "6ivjtoc2NdNg"
      },
      "source": [
        "Generally, all layers in Keras need to know the shape of their inputs in order to be able to create their weights. So when you create a layer like this, initially, it has no weights:"
      ]
    },
    {
      "cell_type": "code",
      "execution_count": null,
      "metadata": {
        "id": "wDiBSrZ8NULx"
      },
      "outputs": [],
      "source": [
        "# This will throw an error\n",
        "\n",
        "model.weights"
      ]
    },
    {
      "cell_type": "code",
      "execution_count": null,
      "metadata": {
        "id": "LOdVzg5tLZuX"
      },
      "outputs": [],
      "source": [
        "# This will throw an error:\n",
        "\n",
        "model.summary()"
      ]
    },
    {
      "cell_type": "markdown",
      "metadata": {
        "id": "tXidm4AfMqnh"
      },
      "source": [
        "**Note**: *The model creates its weights the first time it is called on an input, since the shape of the weights depends on the shape of the inputs.*"
      ]
    },
    {
      "cell_type": "code",
      "execution_count": null,
      "metadata": {
        "colab": {
          "base_uri": "https://localhost:8080/"
        },
        "id": "77EDWLMLNF1C",
        "outputId": "b08480ea-804e-4306-e146-938291a18d7f"
      },
      "outputs": [
        {
          "output_type": "stream",
          "name": "stdout",
          "text": [
            "Model: \"sequential\"\n",
            "_________________________________________________________________\n",
            " Layer (type)                Output Shape              Param #   \n",
            "=================================================================\n",
            " dense (Dense)               (1, 2)                    10        \n",
            "                                                                 \n",
            " dense_1 (Dense)             (1, 3)                    9         \n",
            "                                                                 \n",
            " dense_2 (Dense)             (1, 4)                    16        \n",
            "                                                                 \n",
            "=================================================================\n",
            "Total params: 35\n",
            "Trainable params: 35\n",
            "Non-trainable params: 0\n",
            "_________________________________________________________________\n"
          ]
        }
      ],
      "source": [
        "x = tf.ones((1, 4))\n",
        "y = model(x)\n",
        "\n",
        "model.summary()"
      ]
    },
    {
      "cell_type": "code",
      "execution_count": null,
      "metadata": {
        "colab": {
          "base_uri": "https://localhost:8080/"
        },
        "id": "4SzoXRDbUovk",
        "outputId": "73018967-b213-40bc-b3aa-644c2fa9aa62"
      },
      "outputs": [
        {
          "output_type": "execute_result",
          "data": {
            "text/plain": [
              "<tf.Tensor: shape=(1, 4), dtype=float32, numpy=array([[1., 1., 1., 1.]], dtype=float32)>"
            ]
          },
          "metadata": {},
          "execution_count": 4
        }
      ],
      "source": [
        "x"
      ]
    },
    {
      "cell_type": "code",
      "execution_count": null,
      "metadata": {
        "colab": {
          "base_uri": "https://localhost:8080/"
        },
        "id": "_xqvLbYyNkr4",
        "outputId": "3dc0020c-7e2e-44cf-af1b-b5a6e29d7008"
      },
      "outputs": [
        {
          "output_type": "execute_result",
          "data": {
            "text/plain": [
              "[<tf.Variable 'dense/kernel:0' shape=(4, 2) dtype=float32, numpy=\n",
              " array([[ 0.77174354,  0.2056129 ],\n",
              "        [ 0.20850897,  0.08521557],\n",
              "        [-0.29575706, -0.40948367],\n",
              "        [-0.64213204,  0.2055664 ]], dtype=float32)>,\n",
              " <tf.Variable 'dense/bias:0' shape=(2,) dtype=float32, numpy=array([0., 0.], dtype=float32)>,\n",
              " <tf.Variable 'dense_1/kernel:0' shape=(2, 3) dtype=float32, numpy=\n",
              " array([[ 0.05128527,  0.5326264 , -0.8329531 ],\n",
              "        [ 0.5448233 ,  1.0753496 , -0.78146195]], dtype=float32)>,\n",
              " <tf.Variable 'dense_1/bias:0' shape=(3,) dtype=float32, numpy=array([0., 0., 0.], dtype=float32)>,\n",
              " <tf.Variable 'dense_2/kernel:0' shape=(3, 4) dtype=float32, numpy=\n",
              " array([[-0.40596014, -0.8522795 ,  0.82303023, -0.773864  ],\n",
              "        [-0.35428703, -0.610565  , -0.14243418, -0.13531226],\n",
              "        [-0.89134455,  0.5055686 ,  0.22277737,  0.74397254]],\n",
              "       dtype=float32)>,\n",
              " <tf.Variable 'dense_2/bias:0' shape=(4,) dtype=float32, numpy=array([0., 0., 0., 0.], dtype=float32)>]"
            ]
          },
          "metadata": {},
          "execution_count": 5
        }
      ],
      "source": [
        "model.weights"
      ]
    },
    {
      "cell_type": "markdown",
      "metadata": {
        "id": "1py6LHXuZ-pf"
      },
      "source": [
        "It can be helpful to note that there's also a corresponding `pop()` method to remove layers; a `Sequential` model behaves very much like a list of layers:"
      ]
    },
    {
      "cell_type": "code",
      "execution_count": null,
      "metadata": {
        "colab": {
          "base_uri": "https://localhost:8080/"
        },
        "id": "84srS1dxODJg",
        "outputId": "d9054e31-f5a7-4069-d13a-d57a47d4cb74"
      },
      "outputs": [
        {
          "output_type": "execute_result",
          "data": {
            "text/plain": [
              "[<keras.layers.core.dense.Dense at 0x7f75803b8280>,\n",
              " <keras.layers.core.dense.Dense at 0x7f75803b8250>]"
            ]
          },
          "metadata": {},
          "execution_count": 6
        }
      ],
      "source": [
        "model.pop()\n",
        "model.layers"
      ]
    },
    {
      "cell_type": "code",
      "execution_count": null,
      "metadata": {
        "colab": {
          "base_uri": "https://localhost:8080/"
        },
        "id": "zC828yXbZICX",
        "outputId": "9381535c-fe51-44f0-f28b-4296a5d7d746"
      },
      "outputs": [
        {
          "output_type": "stream",
          "name": "stdout",
          "text": [
            "Model: \"sequential\"\n",
            "_________________________________________________________________\n",
            " Layer (type)                Output Shape              Param #   \n",
            "=================================================================\n",
            " dense (Dense)               (1, 2)                    10        \n",
            "                                                                 \n",
            " dense_1 (Dense)             (1, 3)                    9         \n",
            "                                                                 \n",
            "=================================================================\n",
            "Total params: 19\n",
            "Trainable params: 19\n",
            "Non-trainable params: 0\n",
            "_________________________________________________________________\n"
          ]
        }
      ],
      "source": [
        "model.summary()"
      ]
    },
    {
      "cell_type": "markdown",
      "metadata": {
        "id": "yX2OgXPLZV54"
      },
      "source": [
        "Additionally, you'll likely recall that a `Sequential` model can also be created incrementally via the `add()` method:"
      ]
    },
    {
      "cell_type": "code",
      "execution_count": null,
      "metadata": {
        "colab": {
          "base_uri": "https://localhost:8080/"
        },
        "id": "hCZHCQzLZAZL",
        "outputId": "e81d8a3a-ca13-41b6-a3cc-756b48d619d6"
      },
      "outputs": [
        {
          "output_type": "stream",
          "name": "stdout",
          "text": [
            "Model: \"sequential\"\n",
            "_________________________________________________________________\n",
            " Layer (type)                Output Shape              Param #   \n",
            "=================================================================\n",
            " dense (Dense)               (1, 2)                    10        \n",
            "                                                                 \n",
            " dense_1 (Dense)             (1, 3)                    9         \n",
            "                                                                 \n",
            " dense_3 (Dense)             (1, 4)                    16        \n",
            "                                                                 \n",
            "=================================================================\n",
            "Total params: 35\n",
            "Trainable params: 35\n",
            "Non-trainable params: 0\n",
            "_________________________________________________________________\n"
          ]
        }
      ],
      "source": [
        "model.add(layers.Dense(4))\n",
        "model.summary()"
      ]
    },
    {
      "cell_type": "markdown",
      "metadata": {
        "id": "udUKmJrBanPr"
      },
      "source": [
        "## Back to Our Example: A Digit Classifier"
      ]
    },
    {
      "cell_type": "code",
      "execution_count": null,
      "metadata": {
        "id": "WwTrrPS410Pn"
      },
      "outputs": [],
      "source": [
        "from sklearn.datasets import load_sample_images\n",
        "from sklearn.datasets import load_digits\n",
        "from sklearn.model_selection import train_test_split, cross_val_score\n",
        "from sklearn.preprocessing import OneHotEncoder\n",
        "from sklearn.metrics import accuracy_score, confusion_matrix\n",
        "import matplotlib.pyplot as plt\n",
        "import matplotlib.image as mpimg\n",
        "import numpy as np\n",
        "import seaborn as sns\n",
        "\n",
        "import tensorflow as tf\n",
        "\n",
        "from tensorflow.keras.models import Sequential\n",
        "from tensorflow.keras.layers import Dense, Dropout\n",
        "from tensorflow.keras.regularizers import l2\n",
        "from tensorflow.keras.optimizers import SGD\n",
        "from tensorflow.keras.wrappers import scikit_learn\n",
        "from tensorflow.keras.callbacks import EarlyStopping\n",
        "\n",
        "import os\n",
        "import sys\n",
        "module_path = os.path.abspath(os.path.join(os.pardir, os.pardir))\n",
        "if module_path not in sys.path:\n",
        "    sys.path.append(module_path)\n",
        "    \n",
        "%load_ext autoreload\n",
        "%autoreload 2"
      ]
    },
    {
      "cell_type": "markdown",
      "metadata": {
        "id": "7-7JpvwA10Po"
      },
      "source": [
        "### Load the Digits Dataset (Again)"
      ]
    },
    {
      "cell_type": "code",
      "execution_count": null,
      "metadata": {
        "id": "ejJ5wKfv10Po"
      },
      "outputs": [],
      "source": [
        "# Load and return the digits dataset (classification).\n",
        "# Each datapoint is a 8x8 image of a digit.\n",
        "\n",
        "digits = load_digits()\n",
        "\n",
        "# Defining feature variables\n",
        "X = digits.data\n",
        "\n",
        "# Defining target variable\n",
        "y = digits.target\n",
        "\n",
        "# To tag each value as even or odd (0 is even, 1 is odd)\n",
        "y_binary = y % 2"
      ]
    },
    {
      "cell_type": "code",
      "execution_count": null,
      "metadata": {
        "colab": {
          "base_uri": "https://localhost:8080/"
        },
        "id": "UUe5r8pmEWj4",
        "outputId": "9be83fa8-9868-48f8-beb8-ac18a4eb1625"
      },
      "outputs": [
        {
          "output_type": "execute_result",
          "data": {
            "text/plain": [
              "array([0, 1, 0, ..., 0, 1, 0])"
            ]
          },
          "metadata": {},
          "execution_count": 11
        }
      ],
      "source": [
        "y_binary"
      ]
    },
    {
      "cell_type": "markdown",
      "metadata": {
        "id": "SBPt3KGAzsYB"
      },
      "source": [
        "### Defining the Input Layer of Our Model Architecture ([Source](https://www.tensorflow.org/api_docs/python/tf/keras/layers/InputLayer))\n",
        "\n",
        "One way is to define the input layer explicitly:"
      ]
    },
    {
      "cell_type": "code",
      "execution_count": null,
      "metadata": {
        "colab": {
          "base_uri": "https://localhost:8080/"
        },
        "id": "89-eJlXz0D-g",
        "outputId": "39879a14-bac0-4129-a8cd-972cfd1af59d"
      },
      "outputs": [
        {
          "output_type": "stream",
          "name": "stdout",
          "text": [
            "Epoch 1/50\n",
            "180/180 [==============================] - 1s 2ms/step - loss: 1.0507 - accuracy: 0.6789\n",
            "Epoch 2/50\n",
            "180/180 [==============================] - 0s 2ms/step - loss: 0.4002 - accuracy: 0.8514\n",
            "Epoch 3/50\n",
            "180/180 [==============================] - 0s 2ms/step - loss: 0.2739 - accuracy: 0.8920\n",
            "Epoch 4/50\n",
            "180/180 [==============================] - 0s 2ms/step - loss: 0.2090 - accuracy: 0.9143\n",
            "Epoch 5/50\n",
            "180/180 [==============================] - 0s 2ms/step - loss: 0.1822 - accuracy: 0.9282\n",
            "Epoch 6/50\n",
            "180/180 [==============================] - 0s 2ms/step - loss: 0.1644 - accuracy: 0.9327\n",
            "Epoch 7/50\n",
            "180/180 [==============================] - 0s 3ms/step - loss: 0.1468 - accuracy: 0.9382\n",
            "Epoch 8/50\n",
            "180/180 [==============================] - 0s 3ms/step - loss: 0.1385 - accuracy: 0.9427\n",
            "Epoch 9/50\n",
            "180/180 [==============================] - 0s 2ms/step - loss: 0.1212 - accuracy: 0.9538\n",
            "Epoch 10/50\n",
            "180/180 [==============================] - 0s 2ms/step - loss: 0.1191 - accuracy: 0.9527\n",
            "Epoch 11/50\n",
            "180/180 [==============================] - 0s 2ms/step - loss: 0.1127 - accuracy: 0.9544\n",
            "Epoch 12/50\n",
            "180/180 [==============================] - 0s 2ms/step - loss: 0.1030 - accuracy: 0.9572\n",
            "Epoch 13/50\n",
            "180/180 [==============================] - 0s 2ms/step - loss: 0.1016 - accuracy: 0.9594\n",
            "Epoch 14/50\n",
            "180/180 [==============================] - 0s 2ms/step - loss: 0.0984 - accuracy: 0.9572\n",
            "Epoch 15/50\n",
            "180/180 [==============================] - 0s 2ms/step - loss: 0.0926 - accuracy: 0.9633\n",
            "Epoch 16/50\n",
            "180/180 [==============================] - 0s 2ms/step - loss: 0.0929 - accuracy: 0.9638\n",
            "Epoch 17/50\n",
            "180/180 [==============================] - 0s 2ms/step - loss: 0.0884 - accuracy: 0.9666\n",
            "Epoch 18/50\n",
            "180/180 [==============================] - 0s 2ms/step - loss: 0.0834 - accuracy: 0.9705\n",
            "Epoch 19/50\n",
            "180/180 [==============================] - 0s 2ms/step - loss: 0.0800 - accuracy: 0.9677\n",
            "Epoch 20/50\n",
            "180/180 [==============================] - 0s 2ms/step - loss: 0.0780 - accuracy: 0.9694\n",
            "Epoch 21/50\n",
            "180/180 [==============================] - 0s 2ms/step - loss: 0.0759 - accuracy: 0.9722\n",
            "Epoch 22/50\n",
            "180/180 [==============================] - 0s 2ms/step - loss: 0.0762 - accuracy: 0.9722\n",
            "Epoch 23/50\n",
            "180/180 [==============================] - 0s 2ms/step - loss: 0.0737 - accuracy: 0.9744\n",
            "Epoch 24/50\n",
            "180/180 [==============================] - 0s 2ms/step - loss: 0.0708 - accuracy: 0.9727\n",
            "Epoch 25/50\n",
            "180/180 [==============================] - 0s 2ms/step - loss: 0.0711 - accuracy: 0.9744\n",
            "Epoch 26/50\n",
            "180/180 [==============================] - 0s 2ms/step - loss: 0.0687 - accuracy: 0.9761\n",
            "Epoch 27/50\n",
            "180/180 [==============================] - 0s 2ms/step - loss: 0.0671 - accuracy: 0.9777\n",
            "Epoch 28/50\n",
            "180/180 [==============================] - 0s 2ms/step - loss: 0.0641 - accuracy: 0.9783\n",
            "Epoch 29/50\n",
            "180/180 [==============================] - 0s 2ms/step - loss: 0.0639 - accuracy: 0.9777\n",
            "Epoch 30/50\n",
            "180/180 [==============================] - 0s 2ms/step - loss: 0.0620 - accuracy: 0.9794\n",
            "Epoch 31/50\n",
            "180/180 [==============================] - 0s 2ms/step - loss: 0.0639 - accuracy: 0.9761\n",
            "Epoch 32/50\n",
            "180/180 [==============================] - 0s 2ms/step - loss: 0.0618 - accuracy: 0.9750\n",
            "Epoch 33/50\n",
            "180/180 [==============================] - 0s 2ms/step - loss: 0.0557 - accuracy: 0.9822\n",
            "Epoch 34/50\n",
            "180/180 [==============================] - 0s 2ms/step - loss: 0.0562 - accuracy: 0.9794\n",
            "Epoch 35/50\n",
            "180/180 [==============================] - 0s 2ms/step - loss: 0.0538 - accuracy: 0.9822\n",
            "Epoch 36/50\n",
            "180/180 [==============================] - 0s 2ms/step - loss: 0.0569 - accuracy: 0.9822\n",
            "Epoch 37/50\n",
            "180/180 [==============================] - 0s 2ms/step - loss: 0.0537 - accuracy: 0.9761\n",
            "Epoch 38/50\n",
            "180/180 [==============================] - 0s 2ms/step - loss: 0.0537 - accuracy: 0.9800\n",
            "Epoch 39/50\n",
            "180/180 [==============================] - 0s 2ms/step - loss: 0.0522 - accuracy: 0.9805\n",
            "Epoch 40/50\n",
            "180/180 [==============================] - 0s 2ms/step - loss: 0.0533 - accuracy: 0.9839\n",
            "Epoch 41/50\n",
            "180/180 [==============================] - 0s 2ms/step - loss: 0.0504 - accuracy: 0.9822\n",
            "Epoch 42/50\n",
            "180/180 [==============================] - 0s 2ms/step - loss: 0.0531 - accuracy: 0.9794\n",
            "Epoch 43/50\n",
            "180/180 [==============================] - 0s 2ms/step - loss: 0.0523 - accuracy: 0.9827\n",
            "Epoch 44/50\n",
            "180/180 [==============================] - 0s 2ms/step - loss: 0.0467 - accuracy: 0.9827\n",
            "Epoch 45/50\n",
            "180/180 [==============================] - 0s 3ms/step - loss: 0.0485 - accuracy: 0.9833\n",
            "Epoch 46/50\n",
            "180/180 [==============================] - 0s 2ms/step - loss: 0.0455 - accuracy: 0.9844\n",
            "Epoch 47/50\n",
            "180/180 [==============================] - 0s 3ms/step - loss: 0.0461 - accuracy: 0.9833\n",
            "Epoch 48/50\n",
            "180/180 [==============================] - 0s 3ms/step - loss: 0.0445 - accuracy: 0.9822\n",
            "Epoch 49/50\n",
            "180/180 [==============================] - 0s 3ms/step - loss: 0.0437 - accuracy: 0.9839\n",
            "Epoch 50/50\n",
            "180/180 [==============================] - 0s 3ms/step - loss: 0.0452 - accuracy: 0.9827\n"
          ]
        },
        {
          "output_type": "execute_result",
          "data": {
            "text/plain": [
              "<keras.callbacks.History at 0x7f74f06aa7f0>"
            ]
          },
          "metadata": {},
          "execution_count": 12
        }
      ],
      "source": [
        "model = Sequential([tf.keras.layers.InputLayer(input_shape=(64,))])\n",
        "model.add(Dense(8, activation='relu'))\n",
        "model.add(Dense(1, activation='sigmoid'))\n",
        "\n",
        "model.compile(optimizer='rmsprop',\n",
        "              loss='binary_crossentropy',\n",
        "              metrics=['accuracy'])\n",
        "\n",
        "model.fit(X, y_binary, epochs=50, batch_size=10)"
      ]
    },
    {
      "cell_type": "markdown",
      "metadata": {
        "id": "Ew8EXENh11rQ"
      },
      "source": [
        "Otherwise, it is implicitly created:"
      ]
    },
    {
      "cell_type": "code",
      "execution_count": null,
      "metadata": {
        "colab": {
          "base_uri": "https://localhost:8080/"
        },
        "id": "uws-r3a010Pp",
        "outputId": "f634bb95-0abc-44e7-abc9-230ab2237da2"
      },
      "outputs": [
        {
          "output_type": "stream",
          "name": "stdout",
          "text": [
            "Epoch 1/50\n",
            "180/180 [==============================] - 1s 2ms/step - loss: 0.4865 - accuracy: 0.7885\n",
            "Epoch 2/50\n",
            "180/180 [==============================] - 0s 2ms/step - loss: 0.2152 - accuracy: 0.9154\n",
            "Epoch 3/50\n",
            "180/180 [==============================] - 0s 2ms/step - loss: 0.1524 - accuracy: 0.9416\n",
            "Epoch 4/50\n",
            "180/180 [==============================] - 0s 2ms/step - loss: 0.1226 - accuracy: 0.9527\n",
            "Epoch 5/50\n",
            "180/180 [==============================] - 1s 3ms/step - loss: 0.0997 - accuracy: 0.9638\n",
            "Epoch 6/50\n",
            "180/180 [==============================] - 0s 3ms/step - loss: 0.0856 - accuracy: 0.9677\n",
            "Epoch 7/50\n",
            "180/180 [==============================] - 0s 3ms/step - loss: 0.0709 - accuracy: 0.9761\n",
            "Epoch 8/50\n",
            "180/180 [==============================] - 0s 3ms/step - loss: 0.0642 - accuracy: 0.9794\n",
            "Epoch 9/50\n",
            "180/180 [==============================] - 1s 3ms/step - loss: 0.0590 - accuracy: 0.9789\n",
            "Epoch 10/50\n",
            "180/180 [==============================] - 0s 3ms/step - loss: 0.0528 - accuracy: 0.9827\n",
            "Epoch 11/50\n",
            "180/180 [==============================] - 0s 2ms/step - loss: 0.0451 - accuracy: 0.9855\n",
            "Epoch 12/50\n",
            "180/180 [==============================] - 0s 2ms/step - loss: 0.0394 - accuracy: 0.9844\n",
            "Epoch 13/50\n",
            "180/180 [==============================] - 0s 2ms/step - loss: 0.0376 - accuracy: 0.9861\n",
            "Epoch 14/50\n",
            "180/180 [==============================] - 0s 2ms/step - loss: 0.0362 - accuracy: 0.9866\n",
            "Epoch 15/50\n",
            "180/180 [==============================] - 0s 2ms/step - loss: 0.0299 - accuracy: 0.9900\n",
            "Epoch 16/50\n",
            "180/180 [==============================] - 0s 2ms/step - loss: 0.0295 - accuracy: 0.9900\n",
            "Epoch 17/50\n",
            "180/180 [==============================] - 0s 2ms/step - loss: 0.0257 - accuracy: 0.9894\n",
            "Epoch 18/50\n",
            "180/180 [==============================] - 0s 2ms/step - loss: 0.0235 - accuracy: 0.9917\n",
            "Epoch 19/50\n",
            "180/180 [==============================] - 0s 2ms/step - loss: 0.0241 - accuracy: 0.9922\n",
            "Epoch 20/50\n",
            "180/180 [==============================] - 0s 2ms/step - loss: 0.0210 - accuracy: 0.9939\n",
            "Epoch 21/50\n",
            "180/180 [==============================] - 0s 2ms/step - loss: 0.0186 - accuracy: 0.9939\n",
            "Epoch 22/50\n",
            "180/180 [==============================] - 0s 2ms/step - loss: 0.0169 - accuracy: 0.9944\n",
            "Epoch 23/50\n",
            "180/180 [==============================] - 0s 2ms/step - loss: 0.0155 - accuracy: 0.9939\n",
            "Epoch 24/50\n",
            "180/180 [==============================] - 0s 2ms/step - loss: 0.0151 - accuracy: 0.9944\n",
            "Epoch 25/50\n",
            "180/180 [==============================] - 0s 2ms/step - loss: 0.0128 - accuracy: 0.9950\n",
            "Epoch 26/50\n",
            "180/180 [==============================] - 0s 2ms/step - loss: 0.0122 - accuracy: 0.9950\n",
            "Epoch 27/50\n",
            "180/180 [==============================] - 0s 2ms/step - loss: 0.0113 - accuracy: 0.9955\n",
            "Epoch 28/50\n",
            "180/180 [==============================] - 0s 2ms/step - loss: 0.0099 - accuracy: 0.9967\n",
            "Epoch 29/50\n",
            "180/180 [==============================] - 0s 2ms/step - loss: 0.0087 - accuracy: 0.9972\n",
            "Epoch 30/50\n",
            "180/180 [==============================] - 0s 2ms/step - loss: 0.0111 - accuracy: 0.9955\n",
            "Epoch 31/50\n",
            "180/180 [==============================] - 0s 2ms/step - loss: 0.0078 - accuracy: 0.9983\n",
            "Epoch 32/50\n",
            "180/180 [==============================] - 0s 2ms/step - loss: 0.0055 - accuracy: 0.9989\n",
            "Epoch 33/50\n",
            "180/180 [==============================] - 0s 2ms/step - loss: 0.0070 - accuracy: 0.9972\n",
            "Epoch 34/50\n",
            "180/180 [==============================] - 0s 2ms/step - loss: 0.0065 - accuracy: 0.9972\n",
            "Epoch 35/50\n",
            "180/180 [==============================] - 0s 2ms/step - loss: 0.0054 - accuracy: 0.9978\n",
            "Epoch 36/50\n",
            "180/180 [==============================] - 0s 2ms/step - loss: 0.0043 - accuracy: 0.9978\n",
            "Epoch 37/50\n",
            "180/180 [==============================] - 0s 2ms/step - loss: 0.0047 - accuracy: 0.9983\n",
            "Epoch 38/50\n",
            "180/180 [==============================] - 0s 2ms/step - loss: 0.0032 - accuracy: 0.9994\n",
            "Epoch 39/50\n",
            "180/180 [==============================] - 1s 3ms/step - loss: 0.0028 - accuracy: 0.9994\n",
            "Epoch 40/50\n",
            "180/180 [==============================] - 1s 3ms/step - loss: 0.0034 - accuracy: 0.9983\n",
            "Epoch 41/50\n",
            "180/180 [==============================] - 1s 3ms/step - loss: 0.0038 - accuracy: 0.9978\n",
            "Epoch 42/50\n",
            "180/180 [==============================] - 1s 3ms/step - loss: 0.0037 - accuracy: 0.9983\n",
            "Epoch 43/50\n",
            "180/180 [==============================] - 1s 3ms/step - loss: 0.0018 - accuracy: 0.9994\n",
            "Epoch 44/50\n",
            "180/180 [==============================] - 1s 3ms/step - loss: 0.0031 - accuracy: 0.9989\n",
            "Epoch 45/50\n",
            "180/180 [==============================] - 1s 3ms/step - loss: 0.0012 - accuracy: 1.0000\n",
            "Epoch 46/50\n",
            "180/180 [==============================] - 1s 3ms/step - loss: 0.0016 - accuracy: 1.0000\n",
            "Epoch 47/50\n",
            "180/180 [==============================] - 0s 3ms/step - loss: 0.0015 - accuracy: 1.0000\n",
            "Epoch 48/50\n",
            "180/180 [==============================] - 0s 3ms/step - loss: 0.0018 - accuracy: 1.0000\n",
            "Epoch 49/50\n",
            "180/180 [==============================] - 0s 3ms/step - loss: 0.0014 - accuracy: 1.0000\n",
            "Epoch 50/50\n",
            "180/180 [==============================] - 0s 2ms/step - loss: 0.0021 - accuracy: 0.9994\n"
          ]
        },
        {
          "output_type": "execute_result",
          "data": {
            "text/plain": [
              "<keras.callbacks.History at 0x7f74f086d250>"
            ]
          },
          "metadata": {},
          "execution_count": 13
        }
      ],
      "source": [
        "model = Sequential()\n",
        "model.add(Dense(12, activation='relu', input_dim=64))\n",
        "model.add(Dense(8, activation='relu'))\n",
        "model.add(Dense(1, activation='sigmoid'))\n",
        "\n",
        "model.compile(optimizer='rmsprop',\n",
        "              loss='binary_crossentropy',\n",
        "              metrics=['accuracy'])\n",
        "\n",
        "model.fit(X, y_binary, epochs=50, batch_size=10)"
      ]
    },
    {
      "cell_type": "markdown",
      "metadata": {
        "id": "xDR44wSk10Pp"
      },
      "source": [
        "**It is generally recommend to use the Keras Functional model via `Input`,\n",
        "(which creates an `InputLayer`) without directly using `InputLayer`.**\n",
        "\n",
        "\n",
        "### Things to know:\n",
        "\n",
        "- The data and labels in `fit()` need to be numpy arrays, not `pandas` dfs.\n",
        "- Scaling your data will have a large impact on your model.\n",
        "   > For our traditional input features, we would use a scaler object. For images, as long as the minimum value is 0, we can simply divide through by the maximum pixel intensity."
      ]
    },
    {
      "cell_type": "markdown",
      "metadata": {
        "id": "Z8raDPai10Pp"
      },
      "source": [
        "#### Getting data ready for modeling\n",
        "**Preprocessing**:\n",
        "\n",
        "- use train_test_split to create X_train, y_train, X_test, and y_test\n",
        "- Split training data into pure_train and validation sets.\n",
        "- Scale the pixel intensity to a value between 0 and 1."
      ]
    },
    {
      "cell_type": "markdown",
      "metadata": {
        "id": "81b4Rp2X10Pp"
      },
      "source": [
        "Scaling our input variables will help speed up our neural network.\n",
        "\n",
        "Since our minimum intensity is 0, we can normalize the inputs by dividing each value by the max value (16)."
      ]
    },
    {
      "cell_type": "code",
      "execution_count": null,
      "metadata": {
        "id": "_XQN6A5910Pq"
      },
      "outputs": [],
      "source": [
        "X_train, X_test, y_train, y_test =\\\n",
        "    train_test_split(X, y_binary, random_state=42, test_size=0.2)\n",
        "\n",
        "X_pure_train, X_val, y_pure_train, y_val =\\\n",
        "    train_test_split(X_train, y_train, random_state=42, test_size=0.2)\n",
        "\n",
        "X_pure_train, X_val, X_test = X_pure_train/16, X_val/16, X_test/16"
      ]
    },
    {
      "cell_type": "code",
      "execution_count": null,
      "metadata": {
        "colab": {
          "base_uri": "https://localhost:8080/"
        },
        "id": "2WngiBUTbcKm",
        "outputId": "d0ca93f8-6064-4563-9d1b-61ff27b4bd32"
      },
      "outputs": [
        {
          "output_type": "execute_result",
          "data": {
            "text/plain": [
              "array([0.    , 0.    , 0.    , 0.25  , 0.875 , 0.875 , 0.0625, 0.    ,\n",
              "       0.    , 0.    , 0.1875, 0.875 , 0.75  , 0.625 , 0.25  , 0.    ,\n",
              "       0.    , 0.1875, 0.8125, 0.25  , 0.    , 0.5   , 0.375 , 0.    ,\n",
              "       0.    , 0.1875, 0.9375, 0.5625, 0.125 , 0.9375, 0.0625, 0.    ,\n",
              "       0.    , 0.    , 0.125 , 0.625 , 1.    , 0.8125, 0.    , 0.    ,\n",
              "       0.    , 0.    , 0.    , 0.    , 0.75  , 0.875 , 0.25  , 0.    ,\n",
              "       0.    , 0.    , 0.    , 0.125 , 0.75  , 0.5625, 0.1875, 0.    ,\n",
              "       0.    , 0.    , 0.    , 0.125 , 1.    , 0.875 , 0.    , 0.    ])"
            ]
          },
          "metadata": {},
          "execution_count": 15
        }
      ],
      "source": [
        "X_pure_train[0]"
      ]
    },
    {
      "cell_type": "markdown",
      "metadata": {
        "id": "hyMfxZGY10Pq"
      },
      "source": [
        "For activation, let's start with the familiar sigmoid function, and see how it performs."
      ]
    },
    {
      "cell_type": "code",
      "execution_count": null,
      "metadata": {
        "colab": {
          "base_uri": "https://localhost:8080/"
        },
        "id": "XXCc1-aJ10Pq",
        "outputId": "a643df4f-f783-455c-d070-0e1aa36a051a"
      },
      "outputs": [
        {
          "output_type": "stream",
          "name": "stdout",
          "text": [
            "Epoch 1/10\n",
            "12/12 [==============================] - 0s 2ms/step - loss: 0.6978 - accuracy: 0.5039\n",
            "Epoch 2/10\n",
            "12/12 [==============================] - 0s 3ms/step - loss: 0.6965 - accuracy: 0.5039\n",
            "Epoch 3/10\n",
            "12/12 [==============================] - 0s 2ms/step - loss: 0.6954 - accuracy: 0.5039\n",
            "Epoch 4/10\n",
            "12/12 [==============================] - 0s 3ms/step - loss: 0.6945 - accuracy: 0.5039\n",
            "Epoch 5/10\n",
            "12/12 [==============================] - 0s 2ms/step - loss: 0.6938 - accuracy: 0.5039\n",
            "Epoch 6/10\n",
            "12/12 [==============================] - 0s 2ms/step - loss: 0.6930 - accuracy: 0.5039\n",
            "Epoch 7/10\n",
            "12/12 [==============================] - 0s 2ms/step - loss: 0.6925 - accuracy: 0.5039\n",
            "Epoch 8/10\n",
            "12/12 [==============================] - 0s 2ms/step - loss: 0.6919 - accuracy: 0.5039\n",
            "Epoch 9/10\n",
            "12/12 [==============================] - 0s 2ms/step - loss: 0.6914 - accuracy: 0.5039\n",
            "Epoch 10/10\n",
            "12/12 [==============================] - 0s 2ms/step - loss: 0.6911 - accuracy: 0.5039\n"
          ]
        }
      ],
      "source": [
        "model = Sequential()\n",
        "# We will start with our trusty sigmoid function.\n",
        "# What does input dimension correspond to?\n",
        "model.add(Dense(12, activation='sigmoid', input_dim=64))\n",
        "model.add(Dense(8, activation='sigmoid'))\n",
        "model.add(Dense(1, activation='sigmoid'))\n",
        "\n",
        "model.compile(optimizer='SGD' ,\n",
        "              # We use binary_crossentropy for a binary loss function\n",
        "              loss='binary_crossentropy',\n",
        "              metrics=['accuracy'])\n",
        "\n",
        "# Assign the variable history to store the results,\n",
        "# and set verbose=1 so we can see the output. To see\n",
        "# only the metrics at the end of each epoch, set verbose=2.\n",
        "results = model.fit(X_pure_train, y_pure_train, epochs=10, batch_size=100, verbose=1)"
      ]
    },
    {
      "cell_type": "markdown",
      "metadata": {
        "id": "HRkFQaDC10Pq"
      },
      "source": [
        "We can access the history of our model via `results.history`.\n",
        "Use __dict__ to take a tour."
      ]
    },
    {
      "cell_type": "code",
      "execution_count": null,
      "metadata": {
        "id": "sHlurINo10Pq"
      },
      "outputs": [],
      "source": [
        "results.__dict__"
      ]
    },
    {
      "cell_type": "code",
      "execution_count": null,
      "metadata": {
        "id": "E_bNwsbaqFzH"
      },
      "outputs": [],
      "source": [
        "len(X_pure_train)\n",
        "\n",
        "# ~1,200 images / 100 images per epoch = 12 steps"
      ]
    },
    {
      "cell_type": "code",
      "execution_count": null,
      "metadata": {
        "id": "zufk1vG610Pr"
      },
      "outputs": [],
      "source": [
        "sigmoid_loss = results.history['loss']\n",
        "sigmoid_accuracy = results.history['accuracy']\n",
        "\n",
        "fig, (ax1, ax2) = plt.subplots(1, 2, figsize=(10, 5))\n",
        "sns.lineplot(x=results.epoch, y=sigmoid_loss, ax=ax1, label='loss')\n",
        "sns.lineplot(x=results.epoch, y=sigmoid_accuracy, ax=ax2, label='accuracy');"
      ]
    },
    {
      "cell_type": "markdown",
      "metadata": {
        "id": "jYJxMRav10Pr"
      },
      "source": [
        "We have two plots above both relating to the quality of our model.  The left-hand plot is our loss. It uses the probabilities associated with our predictions to judge how well our prediction fits reality. We want it to decrease as far as possible.\n",
        "\n",
        "The accuracy judges how well the predictions are after applying the threshold at the output layer.  We want accuracy to increase."
      ]
    },
    {
      "cell_type": "markdown",
      "metadata": {
        "id": "tGIOUB6d10Pr"
      },
      "source": [
        "If we look at our loss, it is still decreasing. That is a signal that our model is **still learning**. If our model is still learning, we can allow it to get better by turning a few dials.\n",
        "\n",
        "Let's:\n",
        "- increase the number of epochs;\n",
        "- change sigmoid activation in the hidden layers to ReLU; and\n",
        "- decrease the batch size."
      ]
    },
    {
      "cell_type": "code",
      "execution_count": null,
      "metadata": {
        "id": "tpcuY6pB10Pr"
      },
      "outputs": [],
      "source": [
        "X_pure_train.shape[0]"
      ]
    },
    {
      "cell_type": "code",
      "execution_count": null,
      "metadata": {
        "id": "q7a4pzVw10Pr"
      },
      "outputs": [],
      "source": [
        "model = Sequential()\n",
        "model.add(Dense(12, activation='relu', input_dim=64))\n",
        "model.add(Dense(8, activation='relu'))\n",
        "model.add(Dense(1, activation='sigmoid'))\n",
        "\n",
        "model.compile(optimizer='SGD',\n",
        "              loss='binary_crossentropy',\n",
        "              metrics=['accuracy'])\n",
        "\n",
        "# Assign the variable history to store the results,\n",
        "# and set verbose=1 so we can see the output.\n",
        "results = model.fit(X_pure_train, y_pure_train, epochs=100, batch_size=None, verbose=1)"
      ]
    },
    {
      "cell_type": "code",
      "execution_count": null,
      "metadata": {
        "id": "pwCoZn7K10Pr"
      },
      "outputs": [],
      "source": [
        "sigmoid_loss = results.history['loss']\n",
        "sigmoid_accuracy = results.history['accuracy']\n",
        "\n",
        "fig, (ax1, ax2) = plt.subplots(1, 2, figsize=(10, 5))\n",
        "sns.lineplot(x=results.epoch, y=sigmoid_loss, ax=ax1, label='loss')\n",
        "sns.lineplot(x=results.epoch, y=sigmoid_accuracy, ax=ax2, label='accuracy');"
      ]
    },
    {
      "cell_type": "markdown",
      "metadata": {
        "id": "Qgtit9GP10Ps"
      },
      "source": [
        "If we increase the learning rate to a very high number, we see that our model overshoots the minimum, and starts bouncing all around."
      ]
    },
    {
      "cell_type": "code",
      "execution_count": null,
      "metadata": {
        "id": "BlyH2sbg10Ps"
      },
      "outputs": [],
      "source": [
        "model = Sequential()\n",
        "\n",
        "sgd = SGD(lr=9)\n",
        "model.add(Dense(12, activation='relu', input_dim=64))\n",
        "model.add(Dense(8, activation='relu'))\n",
        "model.add(Dense(1, activation='sigmoid'))\n",
        "\n",
        "model.compile(optimizer=sgd,\n",
        "              loss='binary_crossentropy',\n",
        "              metrics=['accuracy'])\n",
        "\n",
        "results = model.fit(X_pure_train, y_pure_train,\n",
        "                    epochs=30, batch_size=10, verbose=1)\n",
        "\n",
        "relu_loss = results.history['loss']\n",
        "relu_accuracy = results.history['accuracy']\n",
        "\n",
        "fig, (ax1, ax2) = plt.subplots(1, 2, figsize=(10, 5))\n",
        "sns.lineplot(x=results.epoch, y=relu_loss, ax=ax1, label='loss')\n",
        "sns.lineplot(x=results.epoch, y=relu_accuracy, ax=ax2, label='accuracy');"
      ]
    },
    {
      "cell_type": "markdown",
      "metadata": {
        "id": "bc40fpIW10Ps"
      },
      "source": [
        "### Exercise\n",
        "\n",
        "We have been looking only at our training set. Let's add in our validation set to the picture. Check the docstring for the `.fit()` method and add in our validation data."
      ]
    },
    {
      "cell_type": "code",
      "execution_count": null,
      "metadata": {
        "id": "JiBkIiUn10Ps"
      },
      "outputs": [],
      "source": [
        "model = Sequential()\n",
        "model.add(Dense(12, activation='relu', input_dim=64))\n",
        "model.add(Dense(8, activation='relu'))\n",
        "model.add(Dense(4, activation='relu'))\n",
        "model.add(Dense(1, activation='sigmoid'))\n",
        "\n",
        "model.compile(optimizer='adam',\n",
        "              loss='binary_crossentropy',\n",
        "              metrics=['accuracy'])\n",
        "\n",
        "results = model.fit(X_pure_train, y_pure_train, validation_data=(X_val, y_val),\n",
        "                    epochs=30, batch_size=10, verbose=1)\n",
        "\n",
        "train_loss = results.history['loss']\n",
        "train_acc = results.history['accuracy']\n",
        "val_loss = results.history['val_loss']\n",
        "val_acc = results.history['val_accuracy']\n",
        "\n",
        "fig, (ax1, ax2) = plt.subplots(1, 2, figsize=(10, 5))\n",
        "sns.lineplot(x=results.epoch, y=train_loss, ax=ax1, label='train_loss')\n",
        "sns.lineplot(x=results.epoch, y=train_acc, ax=ax2, label='train_accuracy')\n",
        "\n",
        "sns.lineplot(x=results.epoch, y=val_loss, ax=ax1, label='val_loss')\n",
        "sns.lineplot(x=results.epoch, y=val_acc, ax=ax2, label='val_accuracy');"
      ]
    },
    {
      "cell_type": "markdown",
      "metadata": {
        "id": "JbVhOg-F10Ps"
      },
      "source": [
        "<details>\n",
        "    <summary>One answer here</summary>\n",
        "<code>model = Sequential()\n",
        "model.add(Dense(12, activation='relu', input_dim=64))\n",
        "model.add(Dense(8, activation='relu'))\n",
        "model.add(Dense(4, activation='relu'))\n",
        "model.add(Dense(1, activation='sigmoid'))\n",
        "model.compile(optimizer='adam',\n",
        "              loss='binary_crossentropy',\n",
        "              metrics=['accuracy'])\n",
        "results = model.fit(X_pure_train, y_pure_train,\n",
        "                   validation_data=(X_val, y_val),\n",
        "                   epochs=30, batch_size=10)\n",
        "train_loss = results.history['loss']\n",
        "train_acc = results.history['accuracy']\n",
        "val_loss = results.history['val_loss']\n",
        "val_acc = results.history['val_accuracy']\n",
        "fig, (ax1, ax2) = plt.subplots(1, 2, figsize=(10, 5))\n",
        "sns.lineplot(x=results.epoch, y=train_loss, ax=ax1, label='train_loss')\n",
        "sns.lineplot(x=results.epoch, y=train_acc, ax=ax2, label='train_accuracy')\n",
        "sns.lineplot(x=results.epoch, y=val_loss, ax=ax1, label='val_loss')\n",
        "sns.lineplot(x=results.epoch, y=val_acc, ax=ax2, label='val_accuracy');</code>\n",
        "</details>"
      ]
    },
    {
      "cell_type": "code",
      "execution_count": null,
      "metadata": {
        "id": "waXgwk7k10Ps"
      },
      "outputs": [],
      "source": [
        "results.history['val_accuracy'][-1]"
      ]
    },
    {
      "cell_type": "markdown",
      "metadata": {
        "id": "xsRGn7Uj10Ps"
      },
      "source": [
        "## Connecting with `sklearn`\n",
        "\n",
        "The `keras.wrappers` submodule means that we can turn `keras` models into estimators that `sklearn` tools will recognize."
      ]
    },
    {
      "cell_type": "code",
      "execution_count": null,
      "metadata": {
        "id": "wnS_7pBM10Ps"
      },
      "outputs": [],
      "source": [
        "# This will throw an error.\n",
        "\n",
        "cross_val_score(model, X_pure_train, y_pure_train, scoring = 'accuracy')"
      ]
    },
    {
      "cell_type": "code",
      "execution_count": null,
      "metadata": {
        "id": "av0SunAL10Pt"
      },
      "outputs": [],
      "source": [
        "def build_model():\n",
        "    model = Sequential()\n",
        "    model.add(Dense(12, activation='relu', input_dim=64))\n",
        "    model.add(Dense(8, activation='relu'))\n",
        "    model.add(Dense(4, activation='relu'))\n",
        "    model.add(Dense(1, activation = 'sigmoid'))\n",
        "\n",
        "    model.compile(optimizer='adam',\n",
        "                  loss='binary_crossentropy',\n",
        "                  metrics=['accuracy'])\n",
        "    return model"
      ]
    },
    {
      "cell_type": "code",
      "execution_count": null,
      "metadata": {
        "id": "zt3b99kH10Pt"
      },
      "outputs": [],
      "source": [
        "keras_model = scikit_learn.KerasClassifier(build_model,\n",
        "                                           epochs=50,\n",
        "                                           batch_size=32,\n",
        "                                           verbose=2)"
      ]
    },
    {
      "cell_type": "code",
      "execution_count": null,
      "metadata": {
        "id": "411iYUsX10Pt"
      },
      "outputs": [],
      "source": [
        "type(keras_model)"
      ]
    },
    {
      "cell_type": "code",
      "execution_count": null,
      "metadata": {
        "id": "ZORqTZQa10Pt"
      },
      "outputs": [],
      "source": [
        "cross_val_score(keras_model, X_pure_train, y_pure_train)"
      ]
    },
    {
      "cell_type": "markdown",
      "metadata": {
        "id": "L-UfQo8D10Pt"
      },
      "source": [
        "## Level Up: Regularization"
      ]
    },
    {
      "cell_type": "markdown",
      "metadata": {
        "id": "xG7PeB8610Pt"
      },
      "source": [
        "Does regularization make sense in the context of neural networks? <br/>\n",
        "\n",
        "Yes! We still have all of the salient ingredients: a loss function, overfitting vs. underfitting, and coefficients (weights) that could get too large.\n",
        "\n",
        "But there are now a few different flavors besides L1 and L2 regularization. (Note that L1 regularization is not common in the context of  neural networks.)\n",
        "\n",
        "We'll add a few more layers to give regularization a better chance of making a difference!"
      ]
    },
    {
      "cell_type": "code",
      "execution_count": null,
      "metadata": {
        "id": "UYN_-uxJ10Pt"
      },
      "outputs": [],
      "source": [
        "model = Sequential()\n",
        "model.add(Dense(30, activation='relu', input_dim=64))\n",
        "\n",
        "# We can add L2 (or L1) regularization right into\n",
        "# the layer with the kernel_regularizer parameter.\n",
        "\n",
        "model.add(Dense(20, activation='relu',\n",
        "                kernel_regularizer=l2(l2=0.05)))\n",
        "\n",
        "# Note that there is also a bias_regularizer,\n",
        "# but this tends to have less effect.\n",
        "\n",
        "model.add(Dense(12, activation='relu'))\n",
        "model.add(Dense(12, activation='relu'))\n",
        "model.add(Dense(12, activation='relu'))\n",
        "model.add(Dense(8, activation='relu'))\n",
        "model.add(Dense(4, activation='relu'))\n",
        "model.add(Dense(1, activation ='sigmoid'))\n",
        "\n",
        "model.compile(optimizer='adam',\n",
        "              loss='binary_crossentropy',\n",
        "              metrics=['accuracy'])\n",
        "\n",
        "results = model.fit(X_pure_train, y_pure_train, epochs=20, batch_size=32,\n",
        "                    verbose=0, validation_data=(X_val, y_val))\n",
        "\n",
        "train_loss = results.history['loss']\n",
        "train_acc = results.history['accuracy']\n",
        "val_loss = results.history['val_loss']\n",
        "val_acc = results.history['val_accuracy']\n",
        "\n",
        "\n",
        "fig, (ax1, ax2) = plt.subplots(1, 2, figsize=(10, 5))\n",
        "sns.lineplot(x=results.epoch, y=train_loss, ax=ax1, label='train_loss')\n",
        "sns.lineplot(x=results.epoch, y=train_acc, ax=ax2, label='train_accuracy')\n",
        "\n",
        "sns.lineplot(x=results.epoch, y=val_loss, ax=ax1, label='val_loss')\n",
        "sns.lineplot(x=results.epoch, y=val_acc, ax=ax2, label='val_accuracy');"
      ]
    },
    {
      "cell_type": "markdown",
      "metadata": {
        "id": "eAj8_P7510Pt"
      },
      "source": [
        "Adding L2 to multiple layers:"
      ]
    },
    {
      "cell_type": "code",
      "execution_count": null,
      "metadata": {
        "id": "IeSsNDAC10Pt"
      },
      "outputs": [],
      "source": [
        "model = Sequential()\n",
        "model.add(Dense(30, activation='relu',\n",
        "                input_dim=64))\n",
        "model.add(Dense(20, activation='relu',\n",
        "                kernel_regularizer=l2(l2=0.01)))\n",
        "\n",
        "model.add(Dense(12, activation='relu',\n",
        "                kernel_regularizer=l2(l2=0.01)))\n",
        "model.add(Dense(12, activation='relu',\n",
        "                kernel_regularizer=l2(l2=0.01)))\n",
        "model.add(Dense(12, activation='relu',\n",
        "                kernel_regularizer=l2(l2=0.01)))\n",
        "model.add(Dense(8, activation='relu',\n",
        "                kernel_regularizer=l2(l2=0.01)))\n",
        "model.add(Dense(4, activation='relu',\n",
        "                kernel_regularizer=l2(l2=0.01)))\n",
        "model.add(Dense(1, activation='sigmoid'))\n",
        "\n",
        "model.compile(optimizer='adam',\n",
        "              loss='binary_crossentropy',\n",
        "              metrics=['accuracy'])\n",
        "\n",
        "results = model.fit(X_pure_train, y_pure_train, epochs=20, batch_size=32,\n",
        "                    verbose=0, validation_data=(X_val, y_val))\n",
        "\n",
        "train_loss = results.history['loss']\n",
        "train_acc = results.history['accuracy']\n",
        "val_loss = results.history['val_loss']\n",
        "val_acc = results.history['val_accuracy']\n",
        "\n",
        "\n",
        "fig, (ax1, ax2) = plt.subplots(1, 2, figsize=(10, 5))\n",
        "sns.lineplot(x=results.epoch, y=train_loss, ax=ax1, label='train_loss')\n",
        "sns.lineplot(x=results.epoch, y=train_acc, ax=ax2, label='train_accuracy')\n",
        "\n",
        "sns.lineplot(x=results.epoch, y=val_loss, ax=ax1, label='val_loss')\n",
        "sns.lineplot(x=results.epoch, y=val_acc, ax=ax2, label='val_accuracy');"
      ]
    },
    {
      "cell_type": "markdown",
      "metadata": {
        "id": "fBbkcNYe10Pu"
      },
      "source": [
        "### Dropout\n",
        "\n",
        "We can also specify a dropout layer in keras, which randomly shuts off different nodes during training. This can help to prevent overfitting.\n",
        "\n",
        "![drop_out](https://raw.githubusercontent.com/flatiron-school/DS-Instructor-Content/main/Deep-Learning/Network-Regularization-Evaluation/images/drop_out.png?token=GHSAT0AAAAAAB6I4Q5QROZWFEQMDAIWKTKIY7GMBZQ)"
      ]
    },
    {
      "cell_type": "markdown",
      "metadata": {
        "id": "eBX2bQhJ10Pu"
      },
      "source": [
        "### Exercise\n",
        "\n",
        "To add dropout to a `keras` network, simply add it as though it were a layer. It will apply to the immediately preceding layer.\n",
        "\n",
        "Add Dropout to one or more layers below."
      ]
    },
    {
      "cell_type": "code",
      "execution_count": null,
      "metadata": {
        "id": "MmGLJdSf10Pu"
      },
      "outputs": [],
      "source": [
        "model = Sequential()\n",
        "model.add(Dense(30, activation='relu', input_dim=64))\n",
        "model.add(Dense(20, activation='relu'))\n",
        "model.add(Dense(12, activation='relu'))\n",
        "model.add(Dense(12, activation='relu'))\n",
        "model.add(Dense(12, activation='relu'))\n",
        "model.add(Dense(8, activation='relu'))\n",
        "model.add(Dense(4, activation='relu'))\n",
        "model.add(Dense(1, activation ='sigmoid'))\n",
        "\n",
        "model.compile(optimizer='adam',\n",
        "              loss='binary_crossentropy',\n",
        "              metrics=['accuracy'])\n",
        "\n",
        "results = model.fit(X_pure_train, y_pure_train, epochs=50,\n",
        "                    batch_size= 32, verbose=0,\n",
        "                    validation_data=(X_val, y_val))\n",
        "\n",
        "train_loss = results.history['loss']\n",
        "train_acc = results.history['accuracy']\n",
        "val_loss = results.history['val_loss']\n",
        "val_acc = results.history['val_accuracy']\n",
        "\n",
        "\n",
        "fig, (ax1, ax2) = plt.subplots(1, 2, figsize=(10, 5))\n",
        "sns.lineplot(x=results.epoch, y=train_loss, ax=ax1, label='train_loss')\n",
        "sns.lineplot(x=results.epoch, y=train_acc, ax=ax2, label='train_accuracy')\n",
        "\n",
        "sns.lineplot(x=results.epoch, y=val_loss, ax=ax1, label='val_loss')\n",
        "sns.lineplot(x=results.epoch, y=val_acc, ax=ax2, label='val_accuracy');"
      ]
    },
    {
      "cell_type": "markdown",
      "metadata": {
        "id": "mOmjMT_o10Pu"
      },
      "source": [
        "<details>\n",
        "    <summary>One answer here</summary>\n",
        "<code>model = Sequential()\n",
        "model.add(Dense(30, activation='relu', input_dim=64))\n",
        "model.add(Dense(20, activation='relu'))\n",
        "model.add(Dropout(0.5))\n",
        "model.add(Dense(12, activation='relu'))\n",
        "model.add(Dropout(0.2))\n",
        "model.add(Dense(12, activation='relu'))\n",
        "model.add(Dense(12, activation='relu'))\n",
        "model.add(Dense(8, activation='relu'))\n",
        "model.add(Dense(4, activation='relu'))\n",
        "model.add(Dense(1, activation ='sigmoid'))\n",
        "\n",
        "model.compile(optimizer='adam',\n",
        "              loss='binary_crossentropy',\n",
        "              metrics=['accuracy'])\n",
        "\n",
        "results = model.fit(X_pure_train, y_pure_train, epochs=50,\n",
        "                    batch_size= 32, verbose=0,\n",
        "                    validation_data=(X_val, y_val))\n",
        "\n",
        "train_loss = results.history['loss']\n",
        "train_acc = results.history['accuracy']\n",
        "val_loss = results.history['val_loss']\n",
        "val_acc = results.history['val_accuracy']\n",
        "\n",
        "\n",
        "fig, (ax1, ax2) = plt.subplots(1, 2, figsize=(10, 5))\n",
        "sns.lineplot(x=results.epoch, y=train_loss, ax=ax1, label='train_loss')\n",
        "sns.lineplot(x=results.epoch, y=train_acc, ax=ax2, label='train_accuracy')\n",
        "\n",
        "sns.lineplot(x=results.epoch, y=val_loss, ax=ax1, label='val_loss')\n",
        "sns.lineplot(x=results.epoch, y=val_acc, ax=ax2, label='val_accuracy');</code>\n",
        "</details>"
      ]
    },
    {
      "cell_type": "code",
      "execution_count": null,
      "metadata": {
        "id": "XHgMRzwq10Pu"
      },
      "outputs": [],
      "source": [
        "results.history['val_accuracy'][-1]"
      ]
    },
    {
      "cell_type": "markdown",
      "metadata": {
        "id": "yDoj2osu10Pu"
      },
      "source": [
        "### Early Stopping"
      ]
    },
    {
      "cell_type": "markdown",
      "metadata": {
        "id": "O5KN7lJW10Pu"
      },
      "source": [
        "We can also tell our neural network to stop once it stops realizing any gain.\n",
        "\n",
        "Here we tell it to stop once the a very small positive change in the validation loss occurs:"
      ]
    },
    {
      "cell_type": "code",
      "execution_count": null,
      "metadata": {
        "id": "cXmO2lvu10Pu"
      },
      "outputs": [],
      "source": [
        "model = Sequential()\n",
        "model.add(Dense(30, activation='relu', input_dim=64))\n",
        "model.add(Dense(20, activation='relu'))\n",
        "model.add(Dropout(0.5))\n",
        "model.add(Dense(12, activation='relu'))\n",
        "model.add(Dense(12, activation='relu'))\n",
        "model.add(Dense(12, activation='relu'))\n",
        "model.add(Dense(8, activation='relu'))\n",
        "model.add(Dense(4, activation='relu'))\n",
        "model.add(Dense(1, activation ='sigmoid'))\n",
        "\n",
        "model.compile(optimizer='adam',\n",
        "              loss='binary_crossentropy',\n",
        "              metrics=['accuracy'])\n",
        "\n",
        "# Define the EarlyStopping object\n",
        "early_stop = EarlyStopping(monitor='val_loss', min_delta=1e-8,\n",
        "                           verbose=1,\n",
        "                           mode='min')\n",
        "\n",
        "# Place this in a list as the value of the `callbacks` parameter\n",
        "# in the `.fit()` method.\n",
        "results = model.fit(X_pure_train, y_pure_train,\n",
        "                    epochs=20, batch_size=32,\n",
        "                    verbose=0, validation_data=(X_val, y_val),\n",
        "                    callbacks=[early_stop])\n",
        "\n",
        "train_loss = results.history['loss']\n",
        "train_acc = results.history['accuracy']\n",
        "val_loss = results.history['val_loss']\n",
        "val_acc = results.history['val_accuracy']\n",
        "\n",
        "\n",
        "fig, (ax1, ax2) = plt.subplots(1, 2, figsize=(10, 5))\n",
        "sns.lineplot(x=results.epoch, y=train_loss, ax=ax1, label='train_loss')\n",
        "sns.lineplot(x=results.epoch, y=train_acc, ax=ax2, label='train_accuracy')\n",
        "\n",
        "sns.lineplot(x=results.epoch, y=val_loss, ax=ax1, label='val_loss')\n",
        "sns.lineplot(x=results.epoch, y=val_acc, ax=ax2, label='val_accuracy');"
      ]
    },
    {
      "cell_type": "markdown",
      "metadata": {
        "id": "RlaHpz-I10Pu"
      },
      "source": [
        "### Exercise\n",
        "\n",
        "That probably stopped too early. We can specify the number of epochs in which it doesn't see decrease in the loss with the `patience` parameter. Modify the code below to include an Early Stop with a patience of 5 epochs."
      ]
    },
    {
      "cell_type": "code",
      "execution_count": null,
      "metadata": {
        "id": "K2vGP_m410Pu"
      },
      "outputs": [],
      "source": [
        "model = Sequential()\n",
        "model.add(Dense(30, activation='relu', input_dim=64))\n",
        "model.add(Dense(20, activation='relu'))\n",
        "model.add(Dropout(0.5))\n",
        "model.add(Dense(12, activation='relu'))\n",
        "model.add(Dense(12, activation='relu'))\n",
        "model.add(Dense(12, activation='relu'))\n",
        "model.add(Dense(8, activation='relu'))\n",
        "model.add(Dense(4, activation='relu'))\n",
        "model.add(Dense(1, activation ='sigmoid'))\n",
        "\n",
        "model.compile(optimizer='adam',\n",
        "              loss='binary_crossentropy',\n",
        "              metrics=['accuracy'])\n",
        "\n",
        "# Define the EarlyStopping object\n",
        "early_stop = EarlyStopping(monitor='val_loss', min_delta=1e-8,\n",
        "                           verbose=1, patience=5,\n",
        "                           mode='min')\n",
        "\n",
        "# Place this in a list as the value of the `callbacks` parameter\n",
        "# in the `.fit()` method.\n",
        "results = model.fit(X_pure_train, y_pure_train,\n",
        "                    epochs=50, batch_size= 32,\n",
        "                    verbose=0, validation_data=(X_val, y_val),\n",
        "                    callbacks=[early_stop])\n",
        "\n",
        "train_loss = results.history['loss']\n",
        "train_acc = results.history['accuracy']\n",
        "val_loss = results.history['val_loss']\n",
        "val_acc = results.history['val_accuracy']\n",
        "\n",
        "\n",
        "fig, (ax1, ax2) = plt.subplots(1, 2, figsize=(10, 5))\n",
        "sns.lineplot(x=results.epoch, y=train_loss, ax=ax1, label='train_loss')\n",
        "sns.lineplot(x=results.epoch, y=train_acc, ax=ax2, label='train_accuracy')\n",
        "\n",
        "sns.lineplot(x=results.epoch, y=val_loss, ax=ax1, label='val_loss')\n",
        "sns.lineplot(x=results.epoch, y=val_acc, ax=ax2, label='val_accuracy');"
      ]
    },
    {
      "cell_type": "markdown",
      "metadata": {
        "id": "3AREZlph10Pv"
      },
      "source": [
        "<details>\n",
        "    <summary>One answer here</summary>\n",
        "<code>model = Sequential()\n",
        "model.add(Dense(30, activation='relu', input_dim=64))\n",
        "model.add(Dense(20, activation='relu'))\n",
        "model.add(Dropout(0.5))\n",
        "model.add(Dense(12, activation='relu'))\n",
        "model.add(Dense(12, activation='relu'))\n",
        "model.add(Dense(12, activation='relu'))\n",
        "model.add(Dense(8, activation='relu'))\n",
        "model.add(Dense(4, activation='relu'))\n",
        "model.add(Dense(1, activation ='sigmoid'))\n",
        "\n",
        "model.compile(optimizer='adam',\n",
        "              loss='binary_crossentropy',\n",
        "              metrics=['accuracy'])\n",
        "\n",
        "# Define the EarlyStopping object\n",
        "\n",
        "\n",
        "\n",
        "# Place this in a list as the value of the `callbacks` parameter\n",
        "# in the `.fit()` method.\n",
        "results = model.fit(X_pure_train, y_pure_train,\n",
        "                    epochs=50, batch_size= 32,\n",
        "                    verbose=0, validation_data=(X_val, y_val),\n",
        "                    callbacks=[early_stop])\n",
        "\n",
        "train_loss = results.history['loss']\n",
        "train_acc = results.history['accuracy']\n",
        "val_loss = results.history['val_loss']\n",
        "val_acc = results.history['val_accuracy']\n",
        "\n",
        "\n",
        "fig, (ax1, ax2) = plt.subplots(1, 2, figsize=(10, 5))\n",
        "sns.lineplot(x=results.epoch, y=train_loss, ax=ax1, label='train_loss')\n",
        "sns.lineplot(x=results.epoch, y=train_acc, ax=ax2, label='train_accuracy')\n",
        "\n",
        "sns.lineplot(x=results.epoch, y=val_loss, ax=ax1, label='val_loss')\n",
        "sns.lineplot(x=results.epoch, y=val_acc, ax=ax2, label='val_accuracy');</code>\n",
        "</details>"
      ]
    },
    {
      "cell_type": "code",
      "execution_count": null,
      "metadata": {
        "id": "JaPnwykm10Pv"
      },
      "outputs": [],
      "source": [
        "results.history['val_accuracy'][-1]"
      ]
    },
    {
      "cell_type": "markdown",
      "metadata": {
        "id": "MSrdvvt-10Pv"
      },
      "source": [
        "## Multiclass Classification and Softmax"
      ]
    },
    {
      "cell_type": "markdown",
      "metadata": {
        "id": "MfZGkfmp10Pv"
      },
      "source": [
        "Now let's return to the problem of predicting digits 0 through 9."
      ]
    },
    {
      "cell_type": "code",
      "execution_count": null,
      "metadata": {
        "id": "WIIEGEF510Pv"
      },
      "outputs": [],
      "source": [
        "digits = load_digits()\n",
        "X = digits.data\n",
        "y = digits.target"
      ]
    },
    {
      "cell_type": "code",
      "execution_count": null,
      "metadata": {
        "id": "KoZEH5XT10Pv"
      },
      "outputs": [],
      "source": [
        "X_train, X_test, y_train, y_test = train_test_split(X, y,\n",
        "                                                    random_state=42,\n",
        "                                                    test_size=0.2)\n",
        "X_pure_train, X_val, y_pure_train, y_val =\\\n",
        "    train_test_split(X_train, y_train,\n",
        "                     random_state=42, test_size=0.2)\n",
        "X_pure_train, X_val, X_test = X_pure_train/16, X_val/16, X_test/16"
      ]
    },
    {
      "cell_type": "markdown",
      "metadata": {
        "id": "ZO5KuAVZ10Pv"
      },
      "source": [
        "For a multiclass output, our neural net expects our target to be in a certain form."
      ]
    },
    {
      "cell_type": "code",
      "execution_count": null,
      "metadata": {
        "id": "k5qha_Xm10Pv"
      },
      "outputs": [],
      "source": [
        "ohe = OneHotEncoder(sparse=False)\n",
        "y_pure_train = ohe.fit_transform(y_pure_train.reshape(-1,1))\n",
        "y_val = ohe.transform(y_val.reshape(-1,1))\n",
        "y_test = ohe.transform(y_test.reshape(-1,1))"
      ]
    },
    {
      "cell_type": "code",
      "execution_count": null,
      "metadata": {
        "id": "WYil5HV710Pv"
      },
      "outputs": [],
      "source": [
        "y_test"
      ]
    },
    {
      "cell_type": "code",
      "execution_count": null,
      "metadata": {
        "id": "014x0EYd10Pv"
      },
      "outputs": [],
      "source": [
        "# Model from above, but now with ten output neurons:\n",
        "\n",
        "model = Sequential()\n",
        "model.add(Dense(12, activation='relu', input_dim=64))\n",
        "model.add(Dense(8, activation='relu'))\n",
        "model.add(Dense(10, activation='softmax'))\n",
        "\n",
        "model.compile(optimizer='adam',\n",
        "              loss='categorical_crossentropy',\n",
        "              metrics=['accuracy'])\n",
        "\n",
        "results = model.fit(X_pure_train, y_pure_train,\n",
        "                   epochs=50, batch_size=10,\n",
        "                   validation_data=(X_val, y_val))"
      ]
    },
    {
      "cell_type": "markdown",
      "metadata": {
        "id": "wBP6YxDW10Pw"
      },
      "source": [
        "$$\\large \\text{Softmax}(x_{i}) = \\frac{\\exp(x_i)}{\\sum_j \\exp(x_j)}$$\n",
        "\n",
        "The sofmax function outputs a number between 0 and 1 for each of our classes.  All of the probabilities of the classes sum up to 1.\n",
        "\n",
        "The number of nodes in our output layer equals the number of categories in our dataset.\n",
        "\n",
        "We also need a new loss function: **categorical crossentropy**, which calculates a separate loss for each label and then sums the results."
      ]
    },
    {
      "cell_type": "code",
      "execution_count": null,
      "metadata": {
        "id": "QlHdzLMc10Pw"
      },
      "outputs": [],
      "source": [
        "history = results.history\n",
        "training_loss = history['loss']\n",
        "val_loss = history['val_loss']\n",
        "training_accuracy = history['accuracy']\n",
        "val_accuracy = history['val_accuracy']"
      ]
    },
    {
      "cell_type": "code",
      "execution_count": null,
      "metadata": {
        "id": "OkuSgIoo10Pw"
      },
      "outputs": [],
      "source": [
        "fig, (ax1,ax2) = plt.subplots(1,2,figsize=(15,5))\n",
        "\n",
        "\n",
        "sns.lineplot(x=list(range(len(training_loss))),\n",
        "             y=training_loss, color='r', label='training', ax=ax1)\n",
        "sns.lineplot(x=list(range(len(val_loss))),\n",
        "             y=val_loss, color='b', label='validation', ax=ax1)\n",
        "sns.lineplot(x=list(range(len(training_loss))),\n",
        "             y=training_accuracy, color='r', label='training',ax=ax2)\n",
        "sns.lineplot(x=list(range(len(val_loss))),\n",
        "             y=val_accuracy, color='b', label='validation',ax=ax2)\n",
        "ax1.legend();"
      ]
    },
    {
      "cell_type": "code",
      "execution_count": null,
      "metadata": {
        "id": "DlfkxasG10Pw"
      },
      "outputs": [],
      "source": [
        "y_hat_test = np.argmax(model.predict(X_test), axis=-1)"
      ]
    },
    {
      "cell_type": "code",
      "execution_count": null,
      "metadata": {
        "id": "ScLViUWQ10Pw"
      },
      "outputs": [],
      "source": [
        "y_test_restore = ohe.inverse_transform(y_test)\n",
        "confusion_matrix(y_test_restore, y_hat_test)"
      ]
    },
    {
      "cell_type": "markdown",
      "metadata": {
        "id": "b_R8NDYQ10Pw"
      },
      "source": [
        "Wow, look at that performance!  \n",
        "\n",
        "That is great, but remember, we were dealing with simple black and white images.  With color, our basic neural net will have less success.\n",
        "\n",
        "We will explore more advanced tools in the coming days.\n"
      ]
    }
  ],
  "metadata": {
    "celltoolbar": "Raw Cell Format",
    "colab": {
      "provenance": [],
      "include_colab_link": true
    },
    "kernelspec": {
      "display_name": "Python 3 (ipykernel)",
      "language": "python",
      "name": "python3"
    },
    "language_info": {
      "codemirror_mode": {
        "name": "ipython",
        "version": 3
      },
      "file_extension": ".py",
      "mimetype": "text/x-python",
      "name": "python",
      "nbconvert_exporter": "python",
      "pygments_lexer": "ipython3",
      "version": "3.9.13"
    },
    "varInspector": {
      "cols": {
        "lenName": 16,
        "lenType": 16,
        "lenVar": 40
      },
      "kernels_config": {
        "python": {
          "delete_cmd_postfix": "",
          "delete_cmd_prefix": "del ",
          "library": "var_list.py",
          "varRefreshCmd": "print(var_dic_list())"
        },
        "r": {
          "delete_cmd_postfix": ") ",
          "delete_cmd_prefix": "rm(",
          "library": "var_list.r",
          "varRefreshCmd": "cat(var_dic_list()) "
        }
      },
      "types_to_exclude": [
        "module",
        "function",
        "builtin_function_or_method",
        "instance",
        "_Feature"
      ],
      "window_display": false
    }
  },
  "nbformat": 4,
  "nbformat_minor": 0
}